{
 "cells": [
  {
   "cell_type": "code",
   "execution_count": 107,
   "metadata": {},
   "outputs": [],
   "source": [
    "from functools import lru_cache\n",
    "import numpy as np\n",
    "from timeit import default_timer as timer\n",
    "import matplotlib.pyplot as plt"
   ]
  },
  {
   "cell_type": "markdown",
   "metadata": {},
   "source": [
    "## XEx 14"
   ]
  },
  {
   "cell_type": "markdown",
   "metadata": {},
   "source": [
    "### a) \n",
    "\n",
    "We write a function that computes $\\tau_0(x, z)$"
   ]
  },
  {
   "cell_type": "code",
   "execution_count": 108,
   "metadata": {},
   "outputs": [],
   "source": [
    "# np.exp := e^x\n",
    "\n",
    "def tau0(x, z):\n",
    "    return sum(np.exp((x*y)+(z*y)) for y in [-1, 1])"
   ]
  },
  {
   "cell_type": "code",
   "execution_count": 109,
   "metadata": {},
   "outputs": [
    {
     "name": "stdout",
     "output_type": "stream",
     "text": [
      "2.0\n",
      "7.524391382167263\n"
     ]
    }
   ],
   "source": [
    "# Testing tau0\n",
    "print(tau0(1, -1))\n",
    "print(tau0(-1, -1))"
   ]
  },
  {
   "cell_type": "markdown",
   "metadata": {},
   "source": [
    "### b)\n",
    "\n",
    "Now we create a new function takes as input two functions (each of two variables) and does the same computation as above, i.e., sums out the y-values"
   ]
  },
  {
   "cell_type": "code",
   "execution_count": 110,
   "metadata": {},
   "outputs": [],
   "source": [
    "def tau_factory(phi1, phi2, yy=[-1, 1]):\n",
    "    \"\"\"Eliminates last variable(s) of phi1 and first variable(s) of phi2\"\"\"\n",
    "    return lambda x, z: sum(phi1(x,y)*phi2(z,y) for y in yy)"
   ]
  },
  {
   "cell_type": "code",
   "execution_count": 111,
   "metadata": {},
   "outputs": [
    {
     "name": "stdout",
     "output_type": "stream",
     "text": [
      "2.0\n",
      "7.524391382167262\n"
     ]
    }
   ],
   "source": [
    "# Testing tau_factory\n",
    "tau1 = tau_factory(lambda x,y: np.exp(x * y), lambda y,z: np.exp(y * z))\n",
    "print(tau1(1, -1))\n",
    "print(tau1(-1, -1))"
   ]
  },
  {
   "cell_type": "markdown",
   "metadata": {},
   "source": [
    "### c)\n",
    "\n",
    "We can use our `tau_factory` to compute the intermediate factors for the Sum-Product VE algorithm. We have already computed `tau1`. Below we compute `tau2` and `tau3`."
   ]
  },
  {
   "cell_type": "code",
   "execution_count": 112,
   "metadata": {},
   "outputs": [],
   "source": [
    "tau2 = tau_factory(tau1, lambda z,w: np.exp(2 * z * w))\n",
    "tau3 = tau_factory(tau2, lambda w,u: np.exp(- w * u))"
   ]
  },
  {
   "cell_type": "markdown",
   "metadata": {},
   "source": [
    "To test that `tau3` actually computes $\\tau_3$ we assume that all the variables are binary taking values in $\\{-1, 1\\}$."
   ]
  },
  {
   "cell_type": "code",
   "execution_count": 113,
   "metadata": {},
   "outputs": [],
   "source": [
    "# This is a very naive way to compute tau3\n",
    "def tau3_bench(x, u):\n",
    "    tmp = 0\n",
    "    for y in [-1, 1]:\n",
    "        for z in [-1, 1]:\n",
    "            for w in [-1, 1]:\n",
    "                tmp += np.exp(x * y) * np.exp(y * z) * np.exp(2 * z * w) * np.exp(- w * u)\n",
    "    return tmp"
   ]
  },
  {
   "cell_type": "code",
   "execution_count": 114,
   "metadata": {},
   "outputs": [
    {
     "name": "stdout",
     "output_type": "stream",
     "text": [
      "0.0\n",
      "7.105427357601002e-15\n"
     ]
    }
   ],
   "source": [
    "print(np.abs(tau3_bench(1, -1) - tau3(1, -1)))\n",
    "print(np.abs(tau3_bench(-1, -1) - tau3(-1, -1)))"
   ]
  },
  {
   "cell_type": "markdown",
   "metadata": {},
   "source": [
    "### d)\n",
    "\n",
    "We now explore the run time of our algorithm. If we suppose that all variables can take $n$ distinct values, then the runtime of `tau3` is $O(n\\cdot \\text{cost}(\\tau_2))$. Similarly, the runtime of `tau2` is given by $O(n\\cdot \\text{cost}(\\tau_1))$ with $\\text{cost}(\\tau_1) = O(n)$. Thus, the runtime of computing `tau3(-1, 1)` is $O(n^3)$."
   ]
  },
  {
   "cell_type": "code",
   "execution_count": 115,
   "metadata": {},
   "outputs": [
    {
     "name": "stdout",
     "output_type": "stream",
     "text": [
      "2: 0.0 s\n",
      "6: 0.0 s\n",
      "10: 0.01 s\n",
      "14: 0.03 s\n",
      "18: 0.04 s\n",
      "22: 0.06 s\n",
      "26: 0.14 s\n",
      "30: 0.18 s\n"
     ]
    },
    {
     "name": "stdout",
     "output_type": "stream",
     "text": [
      "34: 0.36 s\n",
      "38: 0.49 s\n",
      "42: 0.36 s\n",
      "46: 0.54 s\n",
      "51: 0.63 s\n",
      "55: 0.75 s\n",
      "59: 0.86 s\n",
      "63: 1.14 s\n",
      "67: 1.46 s\n",
      "71: 1.95 s\n",
      "75: 2.7 s\n",
      "79: 3.14 s\n",
      "83: 3.02 s\n",
      "87: 3.04 s\n",
      "91: 4.85 s\n",
      "95: 4.23 s\n",
      "100: 5.26 s\n"
     ]
    }
   ],
   "source": [
    "out = []\n",
    "n_seq = np.linspace(2, 100, num=25, dtype=int)\n",
    "for n in n_seq:\n",
    "    vals = np.linspace(-1, 1, n)\n",
    "\n",
    "    tau1 = tau_factory(lambda x,y: np.exp(x * y), lambda y,z: np.exp(y * z), vals)\n",
    "    tau2 = tau_factory(tau1, lambda z,w: np.exp(2 * z * w), vals)\n",
    "    tau3 = tau_factory(tau2, lambda w,u: np.exp(- w * u), vals)\n",
    "\n",
    "    start = timer();\n",
    "    result = tau3(-1, 1)\n",
    "    time = timer() - start\n",
    "    out += [time]\n",
    "    print(f\"{n}: {np.round(time, 2)} s\")"
   ]
  },
  {
   "cell_type": "code",
   "execution_count": 116,
   "metadata": {},
   "outputs": [
    {
     "data": {
      "text/plain": [
       "Text(1, -3, 'Slope: 2.63')"
      ]
     },
     "execution_count": 116,
     "metadata": {},
     "output_type": "execute_result"
    },
    {
     "data": {
      "image/png": "[encoded data removed]",
      "text/plain": [
       "<Figure size 640x480 with 1 Axes>"
      ]
     },
     "metadata": {},
     "output_type": "display_data"
    }
   ],
   "source": [
    "# Since we expect the relation to be cubic, we plot log-time against log n\n",
    "plt.scatter(np.log(n_seq), np.log(out), c=\"orange\")\n",
    "\n",
    "# We fit a regression line.\n",
    "m, b = np.polyfit(np.log(n_seq), np.log(out), 1)\n",
    "plt.plot(np.log(n_seq), m*np.log(n_seq) + b)\n",
    "plt.annotate(f\"Slope: {m.round(2)}\", (1,-3))"
   ]
  },
  {
   "cell_type": "markdown",
   "metadata": {},
   "source": [
    "Now let's do the same thing for an algorithm that computes and stores $\\tau_1(-1, z)$ as an array instead."
   ]
  },
  {
   "cell_type": "code",
   "execution_count": 117,
   "metadata": {},
   "outputs": [
    {
     "ename": "TypeError",
     "evalue": "unsupported operand type(s) for *: 'ellipsis' and 'float'",
     "output_type": "error",
     "traceback": [
      "\u001b[1;31m---------------------------------------------------------------------------\u001b[0m",
      "\u001b[1;31mTypeError\u001b[0m                                 Traceback (most recent call last)",
      "Cell \u001b[1;32mIn[117], line 13\u001b[0m\n\u001b[0;32m      9\u001b[0m tau3 \u001b[38;5;241m=\u001b[39m \u001b[38;5;28;01mlambda\u001b[39;00m u: \u001b[38;5;28msum\u001b[39m(tau2(w) \u001b[38;5;241m*\u001b[39m np\u001b[38;5;241m.\u001b[39mexp(\u001b[38;5;241m-\u001b[39m w \u001b[38;5;241m*\u001b[39m u) \u001b[38;5;28;01mfor\u001b[39;00m w \u001b[38;5;129;01min\u001b[39;00m vals)\n\u001b[0;32m     12\u001b[0m start \u001b[38;5;241m=\u001b[39m timer();\n\u001b[1;32m---> 13\u001b[0m result \u001b[38;5;241m=\u001b[39m \u001b[43mtau3\u001b[49m\u001b[43m(\u001b[49m\u001b[38;5;241;43m1\u001b[39;49m\u001b[43m)\u001b[49m\n\u001b[0;32m     14\u001b[0m time \u001b[38;5;241m=\u001b[39m timer() \u001b[38;5;241m-\u001b[39m start\n\u001b[0;32m     15\u001b[0m out \u001b[38;5;241m+\u001b[39m\u001b[38;5;241m=\u001b[39m [time]\n",
      "Cell \u001b[1;32mIn[117], line 9\u001b[0m, in \u001b[0;36m<lambda>\u001b[1;34m(u)\u001b[0m\n\u001b[0;32m      7\u001b[0m tau1_z \u001b[38;5;241m=\u001b[39m np\u001b[38;5;241m.\u001b[39marray([\u001b[38;5;241m.\u001b[39m\u001b[38;5;241m.\u001b[39m\u001b[38;5;241m.\u001b[39m \u001b[38;5;28;01mfor\u001b[39;00m z \u001b[38;5;129;01min\u001b[39;00m vals]) \n\u001b[0;32m      8\u001b[0m tau2 \u001b[38;5;241m=\u001b[39m \u001b[38;5;28;01mlambda\u001b[39;00m w: \u001b[38;5;28msum\u001b[39m(tau1_z[idx] \u001b[38;5;241m*\u001b[39m np\u001b[38;5;241m.\u001b[39mexp(\u001b[38;5;241m2\u001b[39m \u001b[38;5;241m*\u001b[39m z \u001b[38;5;241m*\u001b[39m w) \u001b[38;5;28;01mfor\u001b[39;00m idx,z \u001b[38;5;129;01min\u001b[39;00m \u001b[38;5;28menumerate\u001b[39m(vals))\n\u001b[1;32m----> 9\u001b[0m tau3 \u001b[38;5;241m=\u001b[39m \u001b[38;5;28;01mlambda\u001b[39;00m u: \u001b[38;5;28;43msum\u001b[39;49m\u001b[43m(\u001b[49m\u001b[43mtau2\u001b[49m\u001b[43m(\u001b[49m\u001b[43mw\u001b[49m\u001b[43m)\u001b[49m\u001b[43m \u001b[49m\u001b[38;5;241;43m*\u001b[39;49m\u001b[43m \u001b[49m\u001b[43mnp\u001b[49m\u001b[38;5;241;43m.\u001b[39;49m\u001b[43mexp\u001b[49m\u001b[43m(\u001b[49m\u001b[38;5;241;43m-\u001b[39;49m\u001b[43m \u001b[49m\u001b[43mw\u001b[49m\u001b[43m \u001b[49m\u001b[38;5;241;43m*\u001b[39;49m\u001b[43m \u001b[49m\u001b[43mu\u001b[49m\u001b[43m)\u001b[49m\u001b[43m \u001b[49m\u001b[38;5;28;43;01mfor\u001b[39;49;00m\u001b[43m \u001b[49m\u001b[43mw\u001b[49m\u001b[43m \u001b[49m\u001b[38;5;129;43;01min\u001b[39;49;00m\u001b[43m \u001b[49m\u001b[43mvals\u001b[49m\u001b[43m)\u001b[49m\n\u001b[0;32m     12\u001b[0m start \u001b[38;5;241m=\u001b[39m timer();\n\u001b[0;32m     13\u001b[0m result \u001b[38;5;241m=\u001b[39m tau3(\u001b[38;5;241m1\u001b[39m)\n",
      "Cell \u001b[1;32mIn[117], line 9\u001b[0m, in \u001b[0;36m<genexpr>\u001b[1;34m(.0)\u001b[0m\n\u001b[0;32m      7\u001b[0m tau1_z \u001b[38;5;241m=\u001b[39m np\u001b[38;5;241m.\u001b[39marray([\u001b[38;5;241m.\u001b[39m\u001b[38;5;241m.\u001b[39m\u001b[38;5;241m.\u001b[39m \u001b[38;5;28;01mfor\u001b[39;00m z \u001b[38;5;129;01min\u001b[39;00m vals]) \n\u001b[0;32m      8\u001b[0m tau2 \u001b[38;5;241m=\u001b[39m \u001b[38;5;28;01mlambda\u001b[39;00m w: \u001b[38;5;28msum\u001b[39m(tau1_z[idx] \u001b[38;5;241m*\u001b[39m np\u001b[38;5;241m.\u001b[39mexp(\u001b[38;5;241m2\u001b[39m \u001b[38;5;241m*\u001b[39m z \u001b[38;5;241m*\u001b[39m w) \u001b[38;5;28;01mfor\u001b[39;00m idx,z \u001b[38;5;129;01min\u001b[39;00m \u001b[38;5;28menumerate\u001b[39m(vals))\n\u001b[1;32m----> 9\u001b[0m tau3 \u001b[38;5;241m=\u001b[39m \u001b[38;5;28;01mlambda\u001b[39;00m u: \u001b[38;5;28msum\u001b[39m(\u001b[43mtau2\u001b[49m\u001b[43m(\u001b[49m\u001b[43mw\u001b[49m\u001b[43m)\u001b[49m \u001b[38;5;241m*\u001b[39m np\u001b[38;5;241m.\u001b[39mexp(\u001b[38;5;241m-\u001b[39m w \u001b[38;5;241m*\u001b[39m u) \u001b[38;5;28;01mfor\u001b[39;00m w \u001b[38;5;129;01min\u001b[39;00m vals)\n\u001b[0;32m     12\u001b[0m start \u001b[38;5;241m=\u001b[39m timer();\n\u001b[0;32m     13\u001b[0m result \u001b[38;5;241m=\u001b[39m tau3(\u001b[38;5;241m1\u001b[39m)\n",
      "Cell \u001b[1;32mIn[117], line 8\u001b[0m, in \u001b[0;36m<lambda>\u001b[1;34m(w)\u001b[0m\n\u001b[0;32m      6\u001b[0m \u001b[38;5;66;03m#Task: Complete the line below to precompute (to avoid calling tau1 repeatedly).\u001b[39;00m\n\u001b[0;32m      7\u001b[0m tau1_z \u001b[38;5;241m=\u001b[39m np\u001b[38;5;241m.\u001b[39marray([\u001b[38;5;241m.\u001b[39m\u001b[38;5;241m.\u001b[39m\u001b[38;5;241m.\u001b[39m \u001b[38;5;28;01mfor\u001b[39;00m z \u001b[38;5;129;01min\u001b[39;00m vals]) \n\u001b[1;32m----> 8\u001b[0m tau2 \u001b[38;5;241m=\u001b[39m \u001b[38;5;28;01mlambda\u001b[39;00m w: \u001b[38;5;28;43msum\u001b[39;49m\u001b[43m(\u001b[49m\u001b[43mtau1_z\u001b[49m\u001b[43m[\u001b[49m\u001b[43midx\u001b[49m\u001b[43m]\u001b[49m\u001b[43m \u001b[49m\u001b[38;5;241;43m*\u001b[39;49m\u001b[43m \u001b[49m\u001b[43mnp\u001b[49m\u001b[38;5;241;43m.\u001b[39;49m\u001b[43mexp\u001b[49m\u001b[43m(\u001b[49m\u001b[38;5;241;43m2\u001b[39;49m\u001b[43m \u001b[49m\u001b[38;5;241;43m*\u001b[39;49m\u001b[43m \u001b[49m\u001b[43mz\u001b[49m\u001b[43m \u001b[49m\u001b[38;5;241;43m*\u001b[39;49m\u001b[43m \u001b[49m\u001b[43mw\u001b[49m\u001b[43m)\u001b[49m\u001b[43m \u001b[49m\u001b[38;5;28;43;01mfor\u001b[39;49;00m\u001b[43m \u001b[49m\u001b[43midx\u001b[49m\u001b[43m,\u001b[49m\u001b[43mz\u001b[49m\u001b[43m \u001b[49m\u001b[38;5;129;43;01min\u001b[39;49;00m\u001b[43m \u001b[49m\u001b[38;5;28;43menumerate\u001b[39;49m\u001b[43m(\u001b[49m\u001b[43mvals\u001b[49m\u001b[43m)\u001b[49m\u001b[43m)\u001b[49m\n\u001b[0;32m      9\u001b[0m tau3 \u001b[38;5;241m=\u001b[39m \u001b[38;5;28;01mlambda\u001b[39;00m u: \u001b[38;5;28msum\u001b[39m(tau2(w) \u001b[38;5;241m*\u001b[39m np\u001b[38;5;241m.\u001b[39mexp(\u001b[38;5;241m-\u001b[39m w \u001b[38;5;241m*\u001b[39m u) \u001b[38;5;28;01mfor\u001b[39;00m w \u001b[38;5;129;01min\u001b[39;00m vals)\n\u001b[0;32m     12\u001b[0m start \u001b[38;5;241m=\u001b[39m timer();\n",
      "Cell \u001b[1;32mIn[117], line 8\u001b[0m, in \u001b[0;36m<genexpr>\u001b[1;34m(.0)\u001b[0m\n\u001b[0;32m      6\u001b[0m \u001b[38;5;66;03m#Task: Complete the line below to precompute (to avoid calling tau1 repeatedly).\u001b[39;00m\n\u001b[0;32m      7\u001b[0m tau1_z \u001b[38;5;241m=\u001b[39m np\u001b[38;5;241m.\u001b[39marray([\u001b[38;5;241m.\u001b[39m\u001b[38;5;241m.\u001b[39m\u001b[38;5;241m.\u001b[39m \u001b[38;5;28;01mfor\u001b[39;00m z \u001b[38;5;129;01min\u001b[39;00m vals]) \n\u001b[1;32m----> 8\u001b[0m tau2 \u001b[38;5;241m=\u001b[39m \u001b[38;5;28;01mlambda\u001b[39;00m w: \u001b[38;5;28msum\u001b[39m(\u001b[43mtau1_z\u001b[49m\u001b[43m[\u001b[49m\u001b[43midx\u001b[49m\u001b[43m]\u001b[49m\u001b[43m \u001b[49m\u001b[38;5;241;43m*\u001b[39;49m\u001b[43m \u001b[49m\u001b[43mnp\u001b[49m\u001b[38;5;241;43m.\u001b[39;49m\u001b[43mexp\u001b[49m\u001b[43m(\u001b[49m\u001b[38;5;241;43m2\u001b[39;49m\u001b[43m \u001b[49m\u001b[38;5;241;43m*\u001b[39;49m\u001b[43m \u001b[49m\u001b[43mz\u001b[49m\u001b[43m \u001b[49m\u001b[38;5;241;43m*\u001b[39;49m\u001b[43m \u001b[49m\u001b[43mw\u001b[49m\u001b[43m)\u001b[49m \u001b[38;5;28;01mfor\u001b[39;00m idx,z \u001b[38;5;129;01min\u001b[39;00m \u001b[38;5;28menumerate\u001b[39m(vals))\n\u001b[0;32m      9\u001b[0m tau3 \u001b[38;5;241m=\u001b[39m \u001b[38;5;28;01mlambda\u001b[39;00m u: \u001b[38;5;28msum\u001b[39m(tau2(w) \u001b[38;5;241m*\u001b[39m np\u001b[38;5;241m.\u001b[39mexp(\u001b[38;5;241m-\u001b[39m w \u001b[38;5;241m*\u001b[39m u) \u001b[38;5;28;01mfor\u001b[39;00m w \u001b[38;5;129;01min\u001b[39;00m vals)\n\u001b[0;32m     12\u001b[0m start \u001b[38;5;241m=\u001b[39m timer();\n",
      "\u001b[1;31mTypeError\u001b[0m: unsupported operand type(s) for *: 'ellipsis' and 'float'"
     ]
    }
   ],
   "source": [
    "out = []\n",
    "n_seq = np.linspace(2, 100, num=25, dtype=int)\n",
    "# n = |Val(x)| = |Val(Z)| = |Val(W) \n",
    "for n in n_seq:\n",
    "    vals = np.linspace(-1, 1, n)\n",
    "    #Task: Complete the line below to precompute (to avoid calling tau1 repeatedly).\n",
    "    # tau_factory(lambda x,y: np.exp(x * y), lambda y,z: np.exp(y * z), vals)\n",
    "    tau1_z = np.array([... for z in vals]) \n",
    "    tau2 = lambda w: sum(tau1_z[idx] * np.exp(2 * z * w) for idx,z in enumerate(vals))\n",
    "    tau3 = lambda u: sum(tau2(w) * np.exp(- w * u) for w in vals)\n",
    "\n",
    "\n",
    "    start = timer();\n",
    "    result = tau3(1)\n",
    "    time = timer() - start\n",
    "    out += [time]\n",
    "    print(f\"{n}: {np.round(time, 2)} s\")"
   ]
  },
  {
   "cell_type": "code",
   "execution_count": null,
   "metadata": {},
   "outputs": [],
   "source": [
    "# Since we expect the relation to be quadratic, we plot log-time against log n\n",
    "plt.scatter(np.log(n_seq), np.log(out), c=\"orange\")\n",
    "\n",
    "# We fit a regression line.\n",
    "m, b = np.polyfit(np.log(n_seq), np.log(out), 1)\n",
    "plt.plot(np.log(n_seq), m*np.log(n_seq) + b)\n",
    "plt.annotate(f\"Slope: {m.round(2)}\", (1,-3))"
   ]
  },
  {
   "cell_type": "markdown",
   "metadata": {},
   "source": [
    "---\n",
    "\n",
    "### LRU cache (least recently used cache)\n",
    "\n",
    "We define an alternative `tau_factory` function that we will use only for `tau1` to inspect the number of calls = multiplications."
   ]
  },
  {
   "cell_type": "code",
   "execution_count": null,
   "metadata": {},
   "outputs": [],
   "source": [
    "def tau_factory_logging(phi1, phi2, yy=[-1, 1], lru_maxsize=0):\n",
    "    \"\"\"Eliminates last variable(s) of phi1 and first variable(s) of phi2,\n",
    "    lru caches the last lru_maxsize calls to the returned factor function\"\"\"\n",
    "    @lru_cache(maxsize=int(lru_maxsize))\n",
    "    def function(x, z):\n",
    "        global COUNTER\n",
    "        COUNTER += 1\n",
    "        return sum(phi1(x,y)*phi2(y,z) for y in yy)\n",
    "    return function"
   ]
  },
  {
   "cell_type": "code",
   "execution_count": null,
   "metadata": {},
   "outputs": [],
   "source": [
    "n = 40\n",
    "\n",
    "COUNTER = 0\n",
    "# ---\n",
    "vals = np.linspace(-1, 1, n)\n",
    "\n",
    "tau1 = tau_factory_logging(lambda x,y: np.exp(x * y), lambda y,z: np.exp(y * z), vals, lru_maxsize=0)\n",
    "tau2 = tau_factory(tau1, lambda z,w: np.exp(2 * z * w), vals)\n",
    "tau3 = tau_factory(tau2, lambda w,u: np.exp(- w * u), vals)\n",
    "\n",
    "start = timer();\n",
    "result = tau3(-1, 1)\n",
    "time = timer() - start\n",
    "out += [time]\n",
    "# ---\n",
    "print('Without caching / storing tau1(-1, z)')\n",
    "print(f'Number of multiplications for evaluating tau1: {COUNTER}')\n",
    "print(f\"Runtime: {np.round(time, 2)} s \\n\")\n",
    "\n",
    "COUNTER = 0\n",
    "# ---\n",
    "vals = np.linspace(-1, 1, n)\n",
    "\n",
    "tau1 = tau_factory_logging(lambda x,y: np.exp(x * y), lambda y,z: np.exp(y * z), vals, lru_maxsize=n)\n",
    "tau2 = tau_factory(tau1, lambda z,w: np.exp(2 * z * w), vals)\n",
    "tau3 = tau_factory(tau2, lambda w,u: np.exp(- w * u), vals)\n",
    "\n",
    "start = timer();\n",
    "result = tau3(-1, 1)\n",
    "time = timer() - start\n",
    "out += [time]\n",
    "# ---\n",
    "print('With caching / storing tau1(-1, z)')\n",
    "print(f'Number of multiplications for evaluating tau1: {COUNTER}')\n",
    "print(f\"Runtime: {np.round(time, 2)} s\")"
   ]
  },
  {
   "cell_type": "code",
   "execution_count": null,
   "metadata": {},
   "outputs": [],
   "source": [
    "# now let's redo the above experiment with storing tau1(-1, z)\n",
    "\n",
    "out = []\n",
    "n_seq = np.linspace(2, 100, num=25, dtype=int)\n",
    "for n in n_seq:\n",
    "    vals = np.linspace(-1, 1, n)\n",
    "\n",
    "    tau1 = tau_factory_logging(lambda x,y: np.exp(x * y), lambda y,z: np.exp(y * z), vals, lru_maxsize=n)\n",
    "    tau2 = tau_factory(tau1, lambda z,w: np.exp(2 * z * w), vals)\n",
    "    tau3 = tau_factory(tau2, lambda w,u: np.exp(- w * u), vals)\n",
    "\n",
    "    start = timer();\n",
    "    result = tau3(-1, 1)\n",
    "    time = timer() - start\n",
    "    out += [time]\n",
    "    print(f\"{n}: {np.round(time, 2)} s\")"
   ]
  },
  {
   "cell_type": "code",
   "execution_count": null,
   "metadata": {},
   "outputs": [],
   "source": [
    "# Since we expect the relation to be quadratic, we plot log-time against log n\n",
    "plt.scatter(np.log(n_seq), np.log(out), c=\"orange\")\n",
    "\n",
    "# We fit a regression line.\n",
    "m, b = np.polyfit(np.log(n_seq), np.log(out), 1)\n",
    "plt.plot(np.log(n_seq), m*np.log(n_seq) + b)\n",
    "plt.annotate(f\"Slope: {m.round(2)}\", (1,-3))"
   ]
  },
  {
   "cell_type": "code",
   "execution_count": null,
   "metadata": {},
   "outputs": [],
   "source": []
  }
 ],
 "metadata": {
  "kernelspec": {
   "display_name": "Python 3",
   "language": "python",
   "name": "python3"
  },
  "language_info": {
   "codemirror_mode": {
    "name": "ipython",
    "version": 3
   },
   "file_extension": ".py",
   "mimetype": "text/x-python",
   "name": "python",
   "nbconvert_exporter": "python",
   "pygments_lexer": "ipython3",
   "version": "3.10.11"
  }
 },
 "nbformat": 4,
 "nbformat_minor": 4
}
