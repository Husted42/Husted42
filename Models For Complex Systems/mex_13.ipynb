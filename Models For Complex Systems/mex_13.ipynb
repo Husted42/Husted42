{
 "cells": [
  {
   "cell_type": "code",
   "execution_count": 1150,
   "metadata": {},
   "outputs": [],
   "source": [
    "import numpy as np\n",
    "import matplotlib.pyplot as plt"
   ]
  },
  {
   "cell_type": "code",
   "execution_count": 1151,
   "metadata": {},
   "outputs": [],
   "source": [
    "cdf_difficulty = np.array([0.6, 0.4])\n",
    "cdf_intelligence = np.array([0.7, 0.3])\n",
    "cdf_grade = np.array([[0.3, 0.4, 0.3], [0.05, 0.25, 0.7], [0.9, 0.08, 0.02], [0.5, 0.3, 0.2]])\n",
    "cdf_letter = np.array([[0.1, 0.9], [0.4, 0.6], [0.99, 0.01]])"
   ]
  },
  {
   "cell_type": "code",
   "execution_count": 1152,
   "metadata": {},
   "outputs": [],
   "source": [
    "### Sample values from the probability distributions\n",
    "def sample_observation():\n",
    "    difficulty = np.random.choice([0, 1], p=cdf_difficulty)\n",
    "    intelligence = np.random.choice([0, 1], p=cdf_intelligence)\n",
    "    \n",
    "    #cdf grade is dependent on difficulty, retrieving the value associated with the difficulty key or index from the cdf_grade\n",
    "    grade = np.random.choice([0, 1, 2], p=cdf_grade[intelligence * 2 + difficulty]) \n",
    "    letter = np.random.choice([0, 1], p=cdf_letter[grade])\n",
    "\n",
    "    return difficulty, intelligence, grade, letter\n",
    "\n",
    "# Simulate 100 observations\n",
    "observations = [sample_observation() for _ in range(100)]\n"
   ]
  },
  {
   "cell_type": "code",
   "execution_count": 1153,
   "metadata": {},
   "outputs": [
    {
     "name": "stdout",
     "output_type": "stream",
     "text": [
      "[(0, 0, 2, 0), (0, 0, 1, 0), (0, 0, 1, 1), (0, 1, 0, 1), (1, 0, 2, 0), (1, 0, 2, 0), (0, 1, 0, 1), (0, 0, 1, 1), (0, 1, 0, 1), (0, 1, 0, 1), (0, 0, 1, 1), (0, 1, 0, 1), (0, 1, 0, 1), (0, 1, 0, 1), (1, 1, 1, 1), (1, 1, 1, 1), (0, 0, 0, 1), (1, 0, 2, 0), (1, 0, 2, 0), (1, 0, 2, 0), (1, 1, 0, 1), (0, 0, 0, 1), (0, 1, 0, 1), (0, 1, 0, 1), (1, 0, 1, 1), (1, 0, 1, 0), (1, 0, 2, 0), (0, 0, 1, 1), (0, 0, 0, 1), (0, 0, 1, 1), (0, 0, 1, 0), (0, 0, 1, 1), (1, 1, 1, 1), (0, 1, 0, 1), (0, 0, 1, 0), (0, 0, 1, 1), (0, 0, 1, 1), (0, 0, 0, 1), (0, 0, 2, 0), (0, 1, 0, 1), (0, 0, 0, 1), (0, 1, 0, 0), (0, 0, 1, 1), (0, 0, 0, 1), (0, 0, 0, 1), (1, 0, 2, 0), (0, 1, 0, 1), (0, 0, 1, 1), (1, 0, 2, 0), (1, 0, 2, 0), (0, 1, 0, 1), (1, 0, 2, 0), (1, 1, 2, 0), (0, 1, 0, 1), (0, 1, 0, 1), (1, 1, 1, 1), (0, 0, 1, 1), (0, 1, 0, 1), (0, 1, 0, 1), (0, 1, 0, 1), (0, 0, 1, 0), (1, 1, 0, 1), (0, 0, 1, 1), (1, 0, 1, 1), (0, 1, 1, 1), (0, 0, 0, 1), (0, 1, 0, 1), (1, 0, 2, 0), (0, 0, 0, 1), (1, 0, 2, 0), (1, 1, 1, 0), (0, 1, 0, 1), (0, 0, 1, 1), (1, 1, 2, 0), (0, 0, 1, 1), (1, 1, 1, 0), (0, 1, 0, 1), (1, 1, 1, 0), (1, 1, 2, 0), (1, 0, 2, 0), (0, 0, 0, 1), (1, 0, 2, 0), (0, 0, 0, 1), (0, 1, 0, 1), (1, 0, 2, 0), (0, 1, 2, 0), (1, 0, 2, 0), (1, 0, 2, 0), (1, 1, 1, 0), (0, 1, 0, 1), (0, 0, 2, 0), (1, 1, 0, 1), (0, 0, 1, 0), (0, 0, 0, 1), (0, 0, 2, 0), (1, 0, 1, 1), (1, 0, 2, 0), (1, 1, 1, 0), (0, 1, 0, 1), (0, 0, 0, 1)]\n"
     ]
    }
   ],
   "source": [
    "# We see the outcome of the bayesian network\n",
    "# (difficulty (d), intelligence (i), grade (i), letter (l))\n",
    "print(observations)"
   ]
  },
  {
   "cell_type": "code",
   "execution_count": 1154,
   "metadata": {},
   "outputs": [
    {
     "name": "stdout",
     "output_type": "stream",
     "text": [
      "0.41\n"
     ]
    }
   ],
   "source": [
    "obs_g1 = (np.sum([obs[2]==0 for obs in observations]))/len(observations)\n",
    "print(obs_g1)"
   ]
  },
  {
   "cell_type": "code",
   "execution_count": 1155,
   "metadata": {},
   "outputs": [
    {
     "name": "stdout",
     "output_type": "stream",
     "text": [
      "0.35\n"
     ]
    }
   ],
   "source": [
    "# P(grade=2|difficulty=1) = P(grade=2 and difficulty=1) / P(difficulty=1)\n",
    "g2_given_d1 = np.sum([obs[2]==1 and obs[0]==1 for obs in observations]) / np.sum([obs[0]==1 for obs in observations])\n",
    "print(round(g2_given_d1, 2))"
   ]
  },
  {
   "cell_type": "code",
   "execution_count": 1156,
   "metadata": {},
   "outputs": [
    {
     "name": "stdout",
     "output_type": "stream",
     "text": [
      "0.362\n"
     ]
    }
   ],
   "source": [
    "#Data sampeling is for noobs!\n",
    "# P(Grade = 1)\n",
    "def p_grade(g):\n",
    "    g_1, i = 0, -1\n",
    "    for k in range(len(cdf_intelligence)):\n",
    "        for j in range(len(cdf_difficulty)):\n",
    "            i += 1\n",
    "            g_1 += cdf_grade[i][g] * cdf_difficulty[j] * cdf_intelligence[k]\n",
    "    return round(g_1,3)\n",
    "\n",
    "print(p_grade(0))"
   ]
  },
  {
   "cell_type": "code",
   "execution_count": 1157,
   "metadata": {},
   "outputs": [
    {
     "name": "stdout",
     "output_type": "stream",
     "text": [
      "0.1152\n"
     ]
    }
   ],
   "source": [
    "# P(grade=2|difficulty=1) = P(grade=2 and difficulty=1) / P(difficulty=1)\n",
    "# Calculate probability P(grade=2 and difficulty=1)  = P(grade = 2) P(grade = 2 | difficulty = 1)\n",
    "def g_2_given_d_1():\n",
    "    p_grade_2 = p_grade(1) # Probaility of grade = 2\n",
    "    p_difficulty_1 = cdf_difficulty[1] # Probailibty og difficulty = 1\n",
    "    p_joint = p_grade_2 * p_difficulty_1 # Proba\n",
    "    return p_joint\n",
    "\n",
    "print(g_2_given_d_1())"
   ]
  },
  {
   "cell_type": "code",
   "execution_count": 1158,
   "metadata": {},
   "outputs": [
    {
     "name": "stdout",
     "output_type": "stream",
     "text": [
      "P(G=1)\n",
      "In theory:  0.362\n",
      "Observed:  0.41\n",
      "\n",
      "P(G=2|D=1)\n",
      "In theory:  0.1152\n",
      "Observed:  0.35\n"
     ]
    }
   ],
   "source": [
    "#Compare P(G=1) \n",
    "print(\"P(G=1)\")\n",
    "print(\"In theory: \", p_grade(0)) \n",
    "print(\"Observed: \", obs_g1)\n",
    "\n",
    "#Compare P(G=2|D=1)\n",
    "print(\"\\nP(G=2|D=1)\")\n",
    "print(\"In theory: \", g_2_given_d_1())\n",
    "print(\"Observed: \", round(g2_given_d1, 2))"
   ]
  }
 ],
 "metadata": {
  "kernelspec": {
   "display_name": "Python 3",
   "language": "python",
   "name": "python3"
  },
  "language_info": {
   "codemirror_mode": {
    "name": "ipython",
    "version": 3
   },
   "file_extension": ".py",
   "mimetype": "text/x-python",
   "name": "python",
   "nbconvert_exporter": "python",
   "pygments_lexer": "ipython3",
   "version": "3.10.11"
  }
 },
 "nbformat": 4,
 "nbformat_minor": 2
}
