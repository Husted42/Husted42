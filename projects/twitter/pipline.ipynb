{
 "cells": [
  {
   "attachments": {},
   "cell_type": "markdown",
   "metadata": {},
   "source": [
    "##### Imports #####"
   ]
  },
  {
   "cell_type": "code",
   "execution_count": 97,
   "metadata": {},
   "outputs": [],
   "source": [
    "import numpy as np # linear algebra\n",
    "import pandas as pd # data processing, CSV file I/O (e.g. pd.read_csv)\n",
    "import matplotlib.pyplot as plt # Plots\n",
    "from sklearn.model_selection import train_test_split, cross_validate, cross_val_score # Split\n",
    "from sklearn.linear_model import LogisticRegression #Baseline model (Logistic regression)\n",
    "from sklearn import metrics #Asses model\n",
    "import copy #For deepcopy\n",
    "import seaborn as sns # confusion matrix\n",
    "import sklearn\n",
    "from sklearn.metrics import confusion_matrix # confusion matrix\n",
    "from sklearn.metrics import roc_curve\n",
    "from sklearn.preprocessing import MinMaxScaler # Scaler\n",
    "from sklearn.neural_network import MLPClassifier # Nural network"
   ]
  },
  {
   "cell_type": "code",
   "execution_count": 98,
   "metadata": {},
   "outputs": [],
   "source": [
    "# Import dataset\n",
    "train = pd.read_csv('train.csv')\n",
    "test = pd.read_csv('test.csv')"
   ]
  },
  {
   "attachments": {},
   "cell_type": "markdown",
   "metadata": {},
   "source": [
    "##### Data overview #####"
   ]
  },
  {
   "cell_type": "code",
   "execution_count": 99,
   "metadata": {},
   "outputs": [
    {
     "name": "stdout",
     "output_type": "stream",
     "text": [
      "   id keyword location                                               text  \\\n",
      "0   1     NaN      NaN  Our Deeds are the Reason of this #earthquake M...   \n",
      "1   4     NaN      NaN             Forest fire near La Ronge Sask. Canada   \n",
      "2   5     NaN      NaN  All residents asked to 'shelter in place' are ...   \n",
      "3   6     NaN      NaN  13,000 people receive #wildfires evacuation or...   \n",
      "4   7     NaN      NaN  Just got sent this photo from Ruby #Alaska as ...   \n",
      "\n",
      "   target  \n",
      "0       1  \n",
      "1       1  \n",
      "2       1  \n",
      "3       1  \n",
      "4       1  \n",
      "\n",
      "<class 'pandas.core.frame.DataFrame'>\n",
      "RangeIndex: 7613 entries, 0 to 7612\n",
      "Data columns (total 5 columns):\n",
      " #   Column    Non-Null Count  Dtype \n",
      "---  ------    --------------  ----- \n",
      " 0   id        7613 non-null   int64 \n",
      " 1   keyword   7552 non-null   object\n",
      " 2   location  5080 non-null   object\n",
      " 3   text      7613 non-null   object\n",
      " 4   target    7613 non-null   int64 \n",
      "dtypes: int64(2), object(3)\n",
      "memory usage: 297.5+ KB\n",
      "None\n"
     ]
    }
   ],
   "source": [
    "print(train.head())\n",
    "print()\n",
    "print(train.info())"
   ]
  },
  {
   "attachments": {},
   "cell_type": "markdown",
   "metadata": {},
   "source": [
    "We see missing values in keyword and location."
   ]
  },
  {
   "cell_type": "code",
   "execution_count": 100,
   "metadata": {},
   "outputs": [
    {
     "name": "stdout",
     "output_type": "stream",
     "text": [
      "id             0\n",
      "keyword       61\n",
      "location    2533\n",
      "text           0\n",
      "target         0\n",
      "dtype: int64\n"
     ]
    }
   ],
   "source": [
    "missing_values_count = train.isnull().sum()\n",
    "print(missing_values_count)"
   ]
  },
  {
   "cell_type": "code",
   "execution_count": 101,
   "metadata": {},
   "outputs": [
    {
     "data": {
      "image/png": "[encoded data removed]",
      "text/plain": [
       "<Figure size 640x480 with 1 Axes>"
      ]
     },
     "metadata": {},
     "output_type": "display_data"
    }
   ],
   "source": [
    "def balanceCheck():\n",
    "    ones, zeros = 0, 0\n",
    "    for value in train['target']:\n",
    "        if value == 1:\n",
    "            ones += 1\n",
    "        elif value == 0:\n",
    "            zeros += 1\n",
    "    total = ones + zeros\n",
    "    percentOnes = round(ones/total * 100)\n",
    "    percentZeros = round(zeros/total * 100)\n",
    "    #Plot\n",
    "    fig, ax = plt.subplots()\n",
    "    labels = ['Fake ' + str(percentOnes) + '%', 'Reliable ' + str(percentZeros) + '%']\n",
    "    size = [ones, zeros]\n",
    "    bar_colors = ['tab:red', 'tab:blue']\n",
    "    bar_container = ax.bar(labels, size)\n",
    "    ax.bar_label(bar_container)\n",
    "\n",
    "    ax.bar(labels, size, label=labels, color=bar_colors)\n",
    "balanceCheck()"
   ]
  },
  {
   "cell_type": "code",
   "execution_count": 102,
   "metadata": {},
   "outputs": [
    {
     "name": "stdout",
     "output_type": "stream",
     "text": [
      "Our Deeds are the Reason of this #earthquake May ALLAH Forgive us all \n",
      "\n",
      "Forest fire near La Ronge Sask. Canada \n",
      "\n",
      "All residents asked to 'shelter in place' are being notified by officers. No other evacuation or shelter in place orders are expected \n",
      "\n",
      "13,000 people receive #wildfires evacuation orders in California  \n",
      "\n",
      "Just got sent this photo from Ruby #Alaska as smoke from #wildfires pours into a school  \n",
      "\n",
      "#RockyFire Update => California Hwy. 20 closed in both directions due to Lake County fire - #CAfire #wildfires \n",
      "\n",
      "#flood #disaster Heavy rain causes flash flooding of streets in Manitou, Colorado Springs areas \n",
      "\n",
      "I'm on top of the hill and I can see a fire in the woods... \n",
      "\n",
      "There's an emergency evacuation happening now in the building across the street \n",
      "\n",
      "I'm afraid that the tornado is coming to our area... \n",
      "\n"
     ]
    }
   ],
   "source": [
    "for i in range(0, 10):\n",
    "    print(train['text'][i], '\\n')"
   ]
  },
  {
   "attachments": {},
   "cell_type": "markdown",
   "metadata": {},
   "source": [
    "##### Preprocessing #####"
   ]
  },
  {
   "cell_type": "code",
   "execution_count": 103,
   "metadata": {},
   "outputs": [
    {
     "name": "stdout",
     "output_type": "stream",
     "text": [
      "deed reason earthquak may allah forgiv us\n",
      "forest fire near la rong sask canada\n",
      "resid ask shelter place notifi offic evacu shelter place order expect\n",
      "num peopl receiv wildfir evacu order california\n",
      "got sent photo rubi alaska smoke wildfir pour school\n",
      "rockyfir updat california hwi num close direct due lake counti fire cafir wildfir\n",
      "flood disast heavi rain caus flash flood street manitou colorado spring area\n",
      "im top hill see fire wood\n",
      "there emerg evacu happen build across street\n",
      "im afraid tornado come area\n"
     ]
    }
   ],
   "source": [
    "import re\n",
    "import nltk\n",
    "import string   \n",
    "import itertools\n",
    "\n",
    "sno = nltk.stem.SnowballStemmer('english')\n",
    "\n",
    "# Clean text\n",
    "def cleanText(input):\n",
    "    tweet = input\n",
    "    tweet = tweet.lower()\n",
    "    #Regular expressions\n",
    "    tweet = re.sub(r'https?:\\/\\/.\\S+', \"\", tweet)\n",
    "    tweet = re.sub(r'^RT[\\s]+', '', tweet)\n",
    "    tweet = re.sub(r'(\\b\\d+.\\b\\d+)|(\\b\\d+\\b)', 'NUM', tweet)\n",
    "    tweet = re.sub(r\"(@\\[A-Za-z0-9]+)|([^0-9A-Za-z \\t])|(\\w+:\\/\\/\\S+)|^rt|http.+?\", \"\", tweet)\n",
    "\n",
    "    #Stop words\n",
    "    stop = nltk.corpus.stopwords.words('english')\n",
    "    tweet = ' '.join([word for word in tweet.split() if word not in stop])\n",
    "    tweet = ''.join(''.join(s)[:2] for _, s in itertools.groupby(tweet))\n",
    "\n",
    "    #Tokenize\n",
    "    tweet = nltk.word_tokenize(tweet)\n",
    "    stemmed_tweets = []\n",
    "    for word in tweet:\n",
    "        stemmed_tweets.append(sno.stem(word))\n",
    "    stemmed_tweets = ' '.join(stemmed_tweets)\n",
    "    return stemmed_tweets\n",
    "\n",
    "train['text'] = train['text'].apply(cleanText)\n",
    "test['text'] = test['text'].apply(cleanText)\n",
    "for elm in train['text'][0:10]:\n",
    "    print (elm)"
   ]
  },
  {
   "cell_type": "code",
   "execution_count": 104,
   "metadata": {},
   "outputs": [],
   "source": [
    "train['keyword'] = train['keyword'].apply(lambda x: str(x))\n",
    "train['location'] = train['location'].apply(lambda x: str(x))"
   ]
  },
  {
   "attachments": {},
   "cell_type": "markdown",
   "metadata": {},
   "source": [
    "##### Baseline Model #####"
   ]
  },
  {
   "cell_type": "code",
   "execution_count": 105,
   "metadata": {},
   "outputs": [],
   "source": [
    "x_train, x_test, y_train, y_test = train_test_split(train, train['target'], test_size = 0.2, random_state = 1)"
   ]
  },
  {
   "cell_type": "code",
   "execution_count": 106,
   "metadata": {},
   "outputs": [],
   "source": [
    "x1_train = copy.deepcopy(x_train)\n",
    "x1_test = copy.deepcopy(x_test)"
   ]
  },
  {
   "cell_type": "code",
   "execution_count": 107,
   "metadata": {},
   "outputs": [],
   "source": [
    "from sklearn.feature_extraction.text import CountVectorizer\n",
    "\n",
    "vectorizer = CountVectorizer()\n",
    "x1_train = vectorizer.fit_transform(x1_train['text'])\n",
    "x1_test = vectorizer.transform(x1_test['text'])"
   ]
  },
  {
   "cell_type": "code",
   "execution_count": 109,
   "metadata": {},
   "outputs": [],
   "source": [
    "#Support Vector Classification with RBF kernel\n",
    "modelC = sklearn.svm.SVC(kernel='rbf')\n",
    "modelC.fit(x1_train, y_train) \n",
    "y1_pred = modelC.predict(x1_test)"
   ]
  },
  {
   "cell_type": "code",
   "execution_count": 110,
   "metadata": {},
   "outputs": [
    {
     "name": "stdout",
     "output_type": "stream",
     "text": [
      "CountVectorizer MSE: 0.1989494418910046\n",
      "CountVectorizer Regression Accuracy: 0.8010505581089954\n",
      "CountVectorizer Regression Precision: 0.8477366255144033\n",
      "CountVectorizer Regression Recall: 0.6427457098283932\n"
     ]
    }
   ],
   "source": [
    "print(\"CountVectorizer MSE:\",metrics.mean_squared_error(y_test, y1_pred))\n",
    "print(\"CountVectorizer Regression Accuracy:\",metrics.accuracy_score(y_test, y1_pred))\n",
    "print(\"CountVectorizer Regression Precision:\",metrics.precision_score(y_test, y1_pred))\n",
    "print(\"CountVectorizer Regression Recall:\",metrics.recall_score(y_test, y1_pred))"
   ]
  },
  {
   "attachments": {},
   "cell_type": "markdown",
   "metadata": {},
   "source": [
    "##### Advanced Model #####"
   ]
  },
  {
   "cell_type": "code",
   "execution_count": 111,
   "metadata": {},
   "outputs": [],
   "source": [
    "x2_train = copy.deepcopy(x_train)\n",
    "x2_test = copy.deepcopy(x_test)"
   ]
  },
  {
   "cell_type": "code",
   "execution_count": 112,
   "metadata": {},
   "outputs": [],
   "source": [
    "x2_train.drop(['target'], axis = 1, inplace= True)\n",
    "x2_test.drop(['target'], axis = 1, inplace= True)\n",
    "x2_train.drop(['id'], axis = 1, inplace= True)\n",
    "x2_test.drop(['id'], axis = 1, inplace= True)\n",
    "x2_train.drop(['keyword'], axis = 1, inplace= True)\n",
    "x2_test.drop(['keyword'], axis = 1, inplace= True)\n",
    "x2_train.drop(['location'], axis = 1, inplace= True)\n",
    "x2_test.drop(['location'], axis = 1, inplace= True)"
   ]
  },
  {
   "cell_type": "code",
   "execution_count": 113,
   "metadata": {},
   "outputs": [],
   "source": [
    "# Deep copy for later use: Test against Word2Vec // TF-IDF\n",
    "xTest_train = copy.deepcopy(x2_train)\n",
    "xTest_test = copy.deepcopy(x2_test)"
   ]
  },
  {
   "cell_type": "code",
   "execution_count": 114,
   "metadata": {},
   "outputs": [],
   "source": [
    "import gensim.downloader as api\n",
    "#wv = api.load('glove-twitter-50')"
   ]
  },
  {
   "cell_type": "code",
   "execution_count": 115,
   "metadata": {},
   "outputs": [],
   "source": [
    "import gensim\n",
    "from gensim.models import Word2Vec\n",
    "#Transform col: text\n",
    "def sent_vec(sent):\n",
    "    vector_size = wv.vector_size\n",
    "    wv_res = np.zeros(vector_size)\n",
    "    ctr = 1\n",
    "    for w in sent:\n",
    "        if w in wv:\n",
    "            ctr += 1\n",
    "            wv_res += wv[w]\n",
    "    wv_res = wv_res / ctr\n",
    "    return wv_res\n",
    "\n",
    "x2_train = x2_train['text'].apply(lambda x: sent_vec(x)).to_list()\n",
    "x2_test = x2_test['text'].apply(lambda x: sent_vec(x)).to_list()\n"
   ]
  },
  {
   "cell_type": "code",
   "execution_count": 123,
   "metadata": {},
   "outputs": [],
   "source": [
    "#Support Vector Classification with RBF kernel\n",
    "modelC = sklearn.svm.SVC(kernel='rbf') \n",
    "modelC.fit(x2_train, y_train) \n",
    "y2_pred = modelC.predict(x2_test) "
   ]
  },
  {
   "cell_type": "code",
   "execution_count": 124,
   "metadata": {},
   "outputs": [
    {
     "name": "stdout",
     "output_type": "stream",
     "text": [
      "Word2Vec MSE: 0.37491792514773475\n",
      "Word2Vec Regression Accuracy: 0.6250820748522653\n",
      "Word2Vec Regression Precision: 0.6682692307692307\n",
      "Word2Vec Regression Recall: 0.21684867394695787\n"
     ]
    }
   ],
   "source": [
    "print(\"Word2Vec MSE:\",metrics.mean_squared_error(y_test, y2_pred))\n",
    "print(\"Word2Vec Regression Accuracy:\",metrics.accuracy_score(y_test, y2_pred))\n",
    "print(\"Word2Vec Regression Precision:\",metrics.precision_score(y_test, y2_pred))\n",
    "print(\"Word2Vec Regression Recall:\",metrics.recall_score(y_test, y2_pred))"
   ]
  }
 ],
 "metadata": {
  "kernelspec": {
   "display_name": "base",
   "language": "python",
   "name": "python3"
  },
  "language_info": {
   "codemirror_mode": {
    "name": "ipython",
    "version": 3
   },
   "file_extension": ".py",
   "mimetype": "text/x-python",
   "name": "python",
   "nbconvert_exporter": "python",
   "pygments_lexer": "ipython3",
   "version": "3.9.13"
  },
  "orig_nbformat": 4,
  "vscode": {
   "interpreter": {
    "hash": "dfdfdd083c53603e2b5cf6e1f33e6521e506427d7439a2e4f119f78dc4864acc"
   }
  }
 },
 "nbformat": 4,
 "nbformat_minor": 2
}
