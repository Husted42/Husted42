{
 "cells": [
  {
   "cell_type": "code",
   "execution_count": 75,
   "metadata": {},
   "outputs": [],
   "source": [
    "import pandas as pd"
   ]
  },
  {
   "cell_type": "code",
   "execution_count": 76,
   "metadata": {},
   "outputs": [
    {
     "name": "stdout",
     "output_type": "stream",
     "text": [
      "            Brewer                             Name  Alc   Country  Rating  \\\n",
      "0  Thisted bryghus                          Classic  4,6   Danmark       6   \n",
      "1  Thisted bryghus                 Ãkologiks Humle  5,8   Danmark       7   \n",
      "2  Thisted bryghus                      Jack & beer    8   Danmark       7   \n",
      "3  Thisted bryghus                 Limfjords porter  7,9   Danmark       6   \n",
      "4  Thisted bryghus  Limfjordes porter Whisky fad 49  8,5  Danmark        8   \n",
      "\n",
      "  price  \n",
      "0   NaN  \n",
      "1   NaN  \n",
      "2   NaN  \n",
      "3   NaN  \n",
      "4   NaN  \n",
      "<class 'pandas.core.frame.DataFrame'>\n",
      "RangeIndex: 160 entries, 0 to 159\n",
      "Data columns (total 6 columns):\n",
      " #   Column   Non-Null Count  Dtype \n",
      "---  ------   --------------  ----- \n",
      " 0   Brewer   145 non-null    object\n",
      " 1   Name     160 non-null    object\n",
      " 2   Alc      160 non-null    object\n",
      " 3   Country  160 non-null    object\n",
      " 4   Rating   160 non-null    int64 \n",
      " 5   price    6 non-null      object\n",
      "dtypes: int64(1), object(5)\n",
      "memory usage: 7.6+ KB\n",
      "None\n"
     ]
    }
   ],
   "source": [
    "filePath = \"data.csv\"\n",
    "file = pd.read_csv(filePath, encoding='latin1')\n",
    "print(file.head())\n",
    "print(file.info())"
   ]
  },
  {
   "cell_type": "code",
   "execution_count": 77,
   "metadata": {},
   "outputs": [
    {
     "name": "stdout",
     "output_type": "stream",
     "text": [
      "Brewer     object\n",
      "Name       object\n",
      "Alc        object\n",
      "Country    object\n",
      "Rating      int64\n",
      "price      object\n",
      "dtype: object\n",
      "Brewer      15\n",
      "Name         0\n",
      "Alc          0\n",
      "Country      0\n",
      "Rating       0\n",
      "price      154\n",
      "dtype: int64\n"
     ]
    }
   ],
   "source": [
    "file.astype({'Country': 'string'}).dtypes\n",
    "print(file.dtypes)\n",
    "print(file.isnull().sum())"
   ]
  },
  {
   "cell_type": "code",
   "execution_count": 78,
   "metadata": {},
   "outputs": [
    {
     "name": "stdout",
     "output_type": "stream",
     "text": [
      "['danmark' 'england' 'danmrk' 'denmark' 'dannark' 'tyskland' 'danamrk'\n",
      " 'belgien' 'italien' 'amerika' 'polen' 'usa' 'mexico' 'estland' 'tjekkiet'\n",
      " 'kina' 'holland' 'belgium']\n"
     ]
    }
   ],
   "source": [
    "file['Country'] = file['Country'].str.lower()\n",
    "file[\"Country\"] = file['Country'].replace(regex=r'danmrk', value='danmark')\n",
    "file[\"Country\"] = file['Country'].replace(regex=r'denmrk', value='danmark')\n",
    "file[\"Country\"] = file['Country'].replace(regex=r'danmrk', value='danmark')\n",
    "file[\"Country\"] = file['Country'].replace(regex=r' ', value='')\n",
    "\n",
    "\n",
    "print(file['Country'].unique())"
   ]
  }
 ],
 "metadata": {
  "kernelspec": {
   "display_name": "base",
   "language": "python",
   "name": "python3"
  },
  "language_info": {
   "codemirror_mode": {
    "name": "ipython",
    "version": 3
   },
   "file_extension": ".py",
   "mimetype": "text/x-python",
   "name": "python",
   "nbconvert_exporter": "python",
   "pygments_lexer": "ipython3",
   "version": "3.9.13"
  },
  "orig_nbformat": 4
 },
 "nbformat": 4,
 "nbformat_minor": 2
}
