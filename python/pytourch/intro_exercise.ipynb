{
 "cells": [
  {
   "cell_type": "markdown",
   "metadata": {},
   "source": [
    "# Imports"
   ]
  },
  {
   "cell_type": "code",
   "execution_count": 91,
   "metadata": {},
   "outputs": [],
   "source": [
    "# !pip install ucimlrepo\n",
    "# !pip install matplotlib\n",
    "# !pip install matplotlib"
   ]
  },
  {
   "cell_type": "code",
   "execution_count": 92,
   "metadata": {},
   "outputs": [],
   "source": [
    "from ucimlrepo import fetch_ucirepo \n",
    "import pandas as pd\n",
    "import torch\n",
    "import math\n",
    "import time\n",
    "import numpy as np\n",
    "import matplotlib.pyplot as plt\n"
   ]
  },
  {
   "cell_type": "markdown",
   "metadata": {},
   "source": [
    "# Data preperation"
   ]
  },
  {
   "cell_type": "code",
   "execution_count": 93,
   "metadata": {},
   "outputs": [
    {
     "name": "stdout",
     "output_type": "stream",
     "text": [
      "{'uci_id': 1, 'name': 'Abalone', 'repository_url': 'https://archive.ics.uci.edu/dataset/1/abalone', 'data_url': 'https://archive.ics.uci.edu/static/public/1/data.csv', 'abstract': 'Predict the age of abalone from physical measurements', 'area': 'Biology', 'tasks': ['Classification', 'Regression'], 'characteristics': ['Tabular'], 'num_instances': 4177, 'num_features': 8, 'feature_types': ['Categorical', 'Integer', 'Real'], 'demographics': [], 'target_col': ['Rings'], 'index_col': None, 'has_missing_values': 'no', 'missing_values_symbol': None, 'year_of_dataset_creation': 1994, 'last_updated': 'Mon Aug 28 2023', 'dataset_doi': '10.24432/C55C7W', 'creators': ['Warwick Nash', 'Tracy Sellers', 'Simon Talbot', 'Andrew Cawthorn', 'Wes Ford'], 'intro_paper': None, 'additional_info': {'summary': 'Predicting the age of abalone from physical measurements.  The age of abalone is determined by cutting the shell through the cone, staining it, and counting the number of rings through a microscope -- a boring and time-consuming task.  Other measurements, which are easier to obtain, are used to predict the age.  Further information, such as weather patterns and location (hence food availability) may be required to solve the problem.\\r\\n\\r\\nFrom the original data examples with missing values were removed (the majority having the predicted value missing), and the ranges of the continuous values have been scaled for use with an ANN (by dividing by 200).', 'purpose': None, 'funded_by': None, 'instances_represent': None, 'recommended_data_splits': None, 'sensitive_data': None, 'preprocessing_description': None, 'variable_info': 'Given is the attribute name, attribute type, the measurement unit and a brief description.  The number of rings is the value to predict: either as a continuous value or as a classification problem.\\r\\n\\r\\nName / Data Type / Measurement Unit / Description\\r\\n-----------------------------\\r\\nSex / nominal / -- / M, F, and I (infant)\\r\\nLength / continuous / mm / Longest shell measurement\\r\\nDiameter\\t/ continuous / mm / perpendicular to length\\r\\nHeight / continuous / mm / with meat in shell\\r\\nWhole weight / continuous / grams / whole abalone\\r\\nShucked weight / continuous\\t / grams / weight of meat\\r\\nViscera weight / continuous / grams / gut weight (after bleeding)\\r\\nShell weight / continuous / grams / after being dried\\r\\nRings / integer / -- / +1.5 gives the age in years\\r\\n\\r\\nThe readme file contains attribute statistics.', 'citation': None}}\n",
      "             name     role         type demographic  \\\n",
      "0             Sex  Feature  Categorical        None   \n",
      "1          Length  Feature   Continuous        None   \n",
      "2        Diameter  Feature   Continuous        None   \n",
      "3          Height  Feature   Continuous        None   \n",
      "4    Whole_weight  Feature   Continuous        None   \n",
      "5  Shucked_weight  Feature   Continuous        None   \n",
      "6  Viscera_weight  Feature   Continuous        None   \n",
      "7    Shell_weight  Feature   Continuous        None   \n",
      "8           Rings   Target      Integer        None   \n",
      "\n",
      "                   description  units missing_values  \n",
      "0         M, F, and I (infant)   None             no  \n",
      "1    Longest shell measurement     mm             no  \n",
      "2      perpendicular to length     mm             no  \n",
      "3           with meat in shell     mm             no  \n",
      "4                whole abalone  grams             no  \n",
      "5               weight of meat  grams             no  \n",
      "6  gut weight (after bleeding)  grams             no  \n",
      "7            after being dried  grams             no  \n",
      "8  +1.5 gives the age in years   None             no  \n"
     ]
    }
   ],
   "source": [
    "  \n",
    "# fetch dataset \n",
    "abalone = fetch_ucirepo(id=1) \n",
    "  \n",
    "# data (as pandas dataframes) \n",
    "X = abalone.data.features \n",
    "y = abalone.data.targets \n",
    "  \n",
    "# metadata \n",
    "print(abalone.metadata) \n",
    "  \n",
    "# variable information \n",
    "print(abalone.variables) \n"
   ]
  },
  {
   "cell_type": "code",
   "execution_count": 94,
   "metadata": {},
   "outputs": [
    {
     "name": "stdout",
     "output_type": "stream",
     "text": [
      "Sex               0\n",
      "Length            0\n",
      "Diameter          0\n",
      "Height            0\n",
      "Whole_weight      0\n",
      "Shucked_weight    0\n",
      "Viscera_weight    0\n",
      "Shell_weight      0\n",
      "dtype: int64\n"
     ]
    }
   ],
   "source": [
    "missing_values = X.isnull().sum()\n",
    "print(missing_values)\n"
   ]
  },
  {
   "cell_type": "markdown",
   "metadata": {},
   "source": [
    "# Linear Algebra"
   ]
  },
  {
   "cell_type": "code",
   "execution_count": 95,
   "metadata": {},
   "outputs": [
    {
     "name": "stdout",
     "output_type": "stream",
     "text": [
      "tensor([[0, 1, 2],\n",
      "        [3, 4, 5]])\n",
      "tensor([[0, 3],\n",
      "        [1, 4],\n",
      "        [2, 5]])\n",
      "tensor([[0, 1, 2],\n",
      "        [3, 4, 5]])\n"
     ]
    }
   ],
   "source": [
    "# Show that the transpose of a mtrix is the matrx itself\n",
    "A = torch.arange(6).reshape(2,3)\n",
    "print(A)\n",
    "print(A.T)\n",
    "print(A.T.T)"
   ]
  },
  {
   "cell_type": "code",
   "execution_count": 96,
   "metadata": {},
   "outputs": [
    {
     "name": "stdout",
     "output_type": "stream",
     "text": [
      "tensor([[0, 1, 2],\n",
      "        [3, 4, 5]])\n",
      "tensor([[ 0,  6],\n",
      "        [ 2,  8],\n",
      "        [ 4, 10]])\n",
      "tensor([[ 0,  6],\n",
      "        [ 2,  8],\n",
      "        [ 4, 10]])\n"
     ]
    }
   ],
   "source": [
    "# Given two matricies show that A^T + B^T = (A+B)^T\n",
    "B = torch.arange(6).reshape(2,3)\n",
    "print(B)\n",
    "print(A.T + B.T)\n",
    "print((A+B).T)"
   ]
  },
  {
   "cell_type": "code",
   "execution_count": 97,
   "metadata": {},
   "outputs": [
    {
     "name": "stdout",
     "output_type": "stream",
     "text": [
      "tensor([[45, 54, 63],\n",
      "        [54, 66, 78],\n",
      "        [63, 78, 93]])\n"
     ]
    }
   ],
   "source": [
    "#Show that for a square matrix A, A^T * A is a symmetric matrix\n",
    "A = torch.arange(9).reshape(3,3)\n",
    "print(A.T@A)"
   ]
  },
  {
   "cell_type": "code",
   "execution_count": 98,
   "metadata": {},
   "outputs": [
    {
     "name": "stdout",
     "output_type": "stream",
     "text": [
      "2\n",
      "tensor([ 0, 12])\n"
     ]
    }
   ],
   "source": [
    "# For a 2x3x4 tensor A, what is len(A)?\n",
    "# Len(A) is the length of the first axis, which has size 2\n",
    "A = torch.arange(24).reshape(2,3,4)\n",
    "print(len(A))\n",
    "print(A[:,0,0])"
   ]
  },
  {
   "cell_type": "code",
   "execution_count": 99,
   "metadata": {},
   "outputs": [
    {
     "name": "stdout",
     "output_type": "stream",
     "text": [
      "tensor([[0, 1, 2],\n",
      "        [3, 4, 5]])\n",
      "tensor([[0.0000, 0.3333, 0.6667],\n",
      "        [0.2500, 0.3333, 0.4167]])\n"
     ]
    }
   ],
   "source": [
    "# Normilize rows\n",
    "B = torch.arange(6).reshape(2,3)\n",
    "print(B)\n",
    "print(B / B.sum(axis=1, keepdim=True))"
   ]
  },
  {
   "cell_type": "code",
   "execution_count": 100,
   "metadata": {},
   "outputs": [
    {
     "name": "stdout",
     "output_type": "stream",
     "text": [
      "tensor(6)\n"
     ]
    }
   ],
   "source": [
    "# caluclate the distance between two points in downtown manhattan\n",
    "def manhattan_distance(x, y):\n",
    "    return torch.abs(x - y).sum()\n",
    "\n",
    "x = torch.tensor([1, 0])\n",
    "y = torch.tensor([3, 4])\n",
    "print(manhattan_distance(x, y))"
   ]
  },
  {
   "cell_type": "code",
   "execution_count": 101,
   "metadata": {},
   "outputs": [
    {
     "name": "stdout",
     "output_type": "stream",
     "text": [
      "torch.Size([3, 4])\n",
      "torch.Size([2, 4])\n",
      "torch.Size([2, 3])\n"
     ]
    }
   ],
   "source": [
    "# How does sum transform a matrix into a vector\n",
    "A = torch.arange(24).reshape(2,3,4)\n",
    "print(A.sum(axis=0).shape)\n",
    "print(A.sum(axis=1).shape)\n",
    "print(A.sum(axis=2).shape)"
   ]
  },
  {
   "cell_type": "code",
   "execution_count": 102,
   "metadata": {},
   "outputs": [
    {
     "name": "stdout",
     "output_type": "stream",
     "text": [
      "65.75712889109438\n",
      "tensor(65.7571, dtype=torch.float64)\n"
     ]
    }
   ],
   "source": [
    "# Squatr each element of a matrix and then sum all the elements\n",
    "A = torch.arange(24, dtype=float).reshape(2,3,4)\n",
    "def normalize_rows(A):\n",
    "    sum = 0\n",
    "    for i in range(len(A)):\n",
    "        for j in range(len(A[i])):\n",
    "            for k in range(len(A[i][j])):\n",
    "                sum = sum + A[i][j][k] ** 2\n",
    "    return math.sqrt(sum)\n",
    "\n",
    "print(normalize_rows(A))\n",
    "print(torch.linalg.norm(A))"
   ]
  },
  {
   "cell_type": "code",
   "execution_count": 103,
   "metadata": {},
   "outputs": [
    {
     "name": "stdout",
     "output_type": "stream",
     "text": [
      "27.550013065338135\n",
      "torch.Size([1024, 16384])\n",
      "0.08230733871459961\n",
      "tensor([[  544.8083, -2140.9087,   459.1837,  ...,  1740.1855,     7.3943,\n",
      "         -1727.4803],\n",
      "        [-2412.4463,  -197.6149,  1451.4589,  ...,   544.4436,   118.4410,\n",
      "          -591.5270],\n",
      "        [  205.1868, -2929.6404,  -243.7160,  ..., -1268.3663,  4620.5181,\n",
      "         -2527.2146],\n",
      "        ...,\n",
      "        [  959.7993,    59.6315,  2682.2505,  ...,   914.2806,   735.5555,\n",
      "          -100.9344],\n",
      "        [-2902.1570,   182.2956,  1679.9674,  ...,  2098.8284,   202.7874,\n",
      "         -1720.6808],\n",
      "        [  906.9788,  2608.7686,  1340.4821,  ...,  -941.5670, -1382.3584,\n",
      "          1288.9463]])\n"
     ]
    }
   ],
   "source": [
    "## Gausian matrix multiplication\n",
    "#Initialize a matrix with a gaussian distribution with dimensions 1024x65536\n",
    "A = torch.randn(1024, 65536)\n",
    "B = torch.randn(65536, 32)\n",
    "C = torch.randn(32, 16384)\n",
    "\n",
    "start = time.time()\n",
    "ans = A@(B@C)\n",
    "end = time.time()\n",
    "print(end - start)\n",
    "print(ans.shape)\n",
    "\n",
    "start = time.time()\n",
    "ans = (A@B)@C\n",
    "end = time.time()\n",
    "print(end - start)\n",
    "print(ans)\n"
   ]
  },
  {
   "cell_type": "markdown",
   "metadata": {},
   "source": [
    "# Calculus"
   ]
  },
  {
   "cell_type": "code",
   "execution_count": 104,
   "metadata": {},
   "outputs": [
    {
     "name": "stdout",
     "output_type": "stream",
     "text": [
      "<class 'int'>\n"
     ]
    }
   ],
   "source": [
    "print(type(int(3.)))"
   ]
  },
  {
   "cell_type": "code",
   "execution_count": 111,
   "metadata": {},
   "outputs": [
    {
     "name": "stdout",
     "output_type": "stream",
     "text": [
      "f\n",
      "h=0.10000, numerical limit=0.00000\n",
      "h=0.01000, numerical limit=0.00000\n",
      "h=0.00100, numerical limit=0.00000\n",
      "h=0.00010, numerical limit=0.00000\n",
      "h=0.00001, numerical limit=0.00000\n",
      "\n",
      "g\n",
      "h=0.10000, numerical limit=2.10000\n",
      "h=0.01000, numerical limit=2.01000\n",
      "h=0.00100, numerical limit=2.00100\n",
      "h=0.00010, numerical limit=2.00010\n",
      "h=0.00001, numerical limit=2.00001\n",
      "\n",
      "i\n",
      "h=0.10000, numerical limit=23165.43630\n",
      "h=0.01000, numerical limit=22136.96615\n",
      "h=0.00100, numerical limit=22037.48270\n",
      "h=0.00010, numerical limit=22027.56715\n",
      "h=0.00001, numerical limit=22026.57593\n",
      "\n",
      "j\n",
      "h=0.10000, numerical limit=39202128245.65023\n",
      "h=0.01000, numerical limit=33582424006.66561\n",
      "h=0.00100, numerical limit=33080947994.18831\n",
      "h=0.00010, numerical limit=33031355080.77621\n",
      "h=0.00001, numerical limit=33026401288.22326\n"
     ]
    }
   ],
   "source": [
    "point = 10\n",
    "\n",
    "def f(x):\n",
    "    return 3\n",
    "\n",
    "def g(x, n):\n",
    "    return x**n\n",
    "\n",
    "def i(x):\n",
    "    return math.exp(x)\n",
    "\n",
    "def j(x):\n",
    "    return x ** x\n",
    "\n",
    "print('f')\n",
    "for h in 10.0**np.arange(-1, -6, -1):\n",
    "    print(f'h={h:.5f}, numerical limit={(f(point+h)-f(point))/h:.5f}')\n",
    "\n",
    "print('\\ng')\n",
    "for h in 10.0**np.arange(-1, -6, -1):\n",
    "    print(f'h={h:.5f}, numerical limit={(g(1+h, 2)-g(1, 2))/h:.5f}')\n",
    "\n",
    "print('\\ni')\n",
    "for h in 10.0**np.arange(-1, -6, -1):\n",
    "    print(f'h={h:.5f}, numerical limit={(i(point+h)-i(point))/h:.5f}')\n",
    "\n",
    "print('\\nj')\n",
    "for h in 10.0**np.arange(-1, -6, -1):\n",
    "    print(f'h={h:.5f}, numerical limit={(j(point+h)-j(point))/h:.5f}')"
   ]
  },
  {
   "cell_type": "code",
   "execution_count": 122,
   "metadata": {},
   "outputs": [
    {
     "name": "stdout",
     "output_type": "stream",
     "text": [
      "f\n",
      "h=0.10000, numerical limit=4.21909\n",
      "h=0.01000, numerical limit=4.02020\n",
      "h=0.00100, numerical limit=4.00200\n",
      "h=0.00010, numerical limit=4.00020\n",
      "h=0.00001, numerical limit=4.00002\n",
      "[-5.         -4.8989899  -4.7979798  -4.6969697  -4.5959596  -4.49494949\n",
      " -4.39393939 -4.29292929 -4.19191919 -4.09090909 -3.98989899 -3.88888889\n",
      " -3.78787879 -3.68686869 -3.58585859 -3.48484848 -3.38383838 -3.28282828\n",
      " -3.18181818 -3.08080808 -2.97979798 -2.87878788 -2.77777778 -2.67676768\n",
      " -2.57575758 -2.47474747 -2.37373737 -2.27272727 -2.17171717 -2.07070707\n",
      " -1.96969697 -1.86868687 -1.76767677 -1.66666667 -1.56565657 -1.46464646\n",
      " -1.36363636 -1.26262626 -1.16161616 -1.06060606 -0.95959596 -0.85858586\n",
      " -0.75757576 -0.65656566 -0.55555556 -0.45454545 -0.35353535 -0.25252525\n",
      " -0.15151515 -0.05050505  0.05050505  0.15151515  0.25252525  0.35353535\n",
      "  0.45454545  0.55555556  0.65656566  0.75757576  0.85858586  0.95959596\n",
      "  1.06060606  1.16161616  1.26262626  1.36363636  1.46464646  1.56565657\n",
      "  1.66666667  1.76767677  1.86868687  1.96969697  2.07070707  2.17171717\n",
      "  2.27272727  2.37373737  2.47474747  2.57575758  2.67676768  2.77777778\n",
      "  2.87878788  2.97979798  3.08080808  3.18181818  3.28282828  3.38383838\n",
      "  3.48484848  3.58585859  3.68686869  3.78787879  3.88888889  3.98989899\n",
      "  4.09090909  4.19191919  4.29292929  4.39393939  4.49494949  4.5959596\n",
      "  4.6969697   4.7979798   4.8989899   5.        ]\n"
     ]
    },
    {
     "data": {
      "image/png": "[encoded data removed]",
      "text/plain": [
       "<Figure size 640x480 with 1 Axes>"
      ]
     },
     "metadata": {},
     "output_type": "display_data"
    }
   ],
   "source": [
    "point = 1\n",
    "def f(x):\n",
    "    return (x ** 3) - (1 / x)\n",
    "\n",
    "def g(x):\n",
    "    return 3 * (x ** 2) + (1 / (x ** 2))\n",
    "\n",
    "print('f')\n",
    "for h in 10.0**np.arange(-1, -6, -1):\n",
    "    print(f'h={h:.5f}, numerical limit={(f(point+h)-f(point))/h:.5f}')\n",
    "\n",
    "x = np.linspace(-5, 5, 100)\n",
    "print(x)\n",
    "plt.plot(x, f(x))\n",
    "plt.plot(x, g(x))\n",
    "plt.legend(['f(x)', 'g(x)'])\n",
    "plt.xlabel('x')\n",
    "plt.ylabel('y')\n",
    "plt.title('f(x) and its derivative g(x)')\n",
    "plt.grid(True)\n",
    "plt.show()\n"
   ]
  }
 ],
 "metadata": {
  "kernelspec": {
   "display_name": "Python 3",
   "language": "python",
   "name": "python3"
  },
  "language_info": {
   "codemirror_mode": {
    "name": "ipython",
    "version": 3
   },
   "file_extension": ".py",
   "mimetype": "text/x-python",
   "name": "python",
   "nbconvert_exporter": "python",
   "pygments_lexer": "ipython3",
   "version": "3.11.5"
  }
 },
 "nbformat": 4,
 "nbformat_minor": 2
}
