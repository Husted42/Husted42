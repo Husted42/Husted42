{
 "cells": [
  {
   "cell_type": "code",
   "execution_count": 104,
   "metadata": {},
   "outputs": [
    {
     "name": "stdout",
     "output_type": "stream",
     "text": [
      "2.2.2+cpu\n"
     ]
    }
   ],
   "source": [
    "import pandas as pd\n",
    "import numpy as np\n",
    "import matplotlib.pyplot as plt\n",
    "\n",
    "## !pip3 install torch torchvision torchaudio --index-url https://download.pytorch.org/whl/cu118\n",
    "import torch\n",
    "print(torch.__version__)"
   ]
  },
  {
   "cell_type": "markdown",
   "metadata": {},
   "source": [
    "# Data manipulation"
   ]
  },
  {
   "cell_type": "markdown",
   "metadata": {},
   "source": [
    "## Creating tensors"
   ]
  },
  {
   "cell_type": "code",
   "execution_count": 105,
   "metadata": {},
   "outputs": [
    {
     "name": "stdout",
     "output_type": "stream",
     "text": [
      "1d tensor([ 0.,  1.,  2.,  3.,  4.,  5.,  6.,  7.,  8.,  9., 10., 11.])\n",
      "2d tensor([[ 0.,  1.,  2.,  3.],\n",
      "        [ 4.,  5.,  6.,  7.],\n",
      "        [ 8.,  9., 10., 11.]])\n",
      "3d tensor([[[ 0.,  1.],\n",
      "         [ 2.,  3.]],\n",
      "\n",
      "        [[ 4.,  5.],\n",
      "         [ 6.,  7.]],\n",
      "\n",
      "        [[ 8.,  9.],\n",
      "         [10., 11.]]])\n",
      "zero tensor([[[0., 0., 0., 0.],\n",
      "         [0., 0., 0., 0.],\n",
      "         [0., 0., 0., 0.]],\n",
      "\n",
      "        [[0., 0., 0., 0.],\n",
      "         [0., 0., 0., 0.],\n",
      "         [0., 0., 0., 0.]]])\n",
      "one tensor([[[1., 1., 1., 1.],\n",
      "         [1., 1., 1., 1.],\n",
      "         [1., 1., 1., 1.]],\n",
      "\n",
      "        [[1., 1., 1., 1.],\n",
      "         [1., 1., 1., 1.],\n",
      "         [1., 1., 1., 1.]]])\n",
      "rand tensor([[[0.2936, 0.9378, 0.9529, 0.5478],\n",
      "         [0.7379, 0.3951, 0.6603, 0.6533],\n",
      "         [0.2673, 0.1341, 0.6040, 0.4934]],\n",
      "\n",
      "        [[0.6694, 0.3926, 0.4209, 0.4507],\n",
      "         [0.4519, 0.5893, 0.1626, 0.9003],\n",
      "         [0.9737, 0.9319, 0.1277, 0.9916]]])\n",
      "list tensor([[1., 2., 3.],\n",
      "        [4., 5., 6.],\n",
      "        [7., 8., 9.]])\n"
     ]
    }
   ],
   "source": [
    "# 1D tensor\n",
    "x_1 = torch.arange(12, dtype=torch.float32)\n",
    "print('1d', x_1)\n",
    "\n",
    "# 2D tensor\n",
    "x_2 = x_1.reshape(3, 4)\n",
    "print('2d', x_2)\n",
    "\n",
    "# 3D tensor\n",
    "x_3 = x_1.reshape(3, 2, 2)\n",
    "print('3d', x_3)\n",
    "\n",
    "# zero tensor\n",
    "x_4 = torch.zeros((2, 3, 4))\n",
    "print('zero', x_4)\n",
    "\n",
    "# one tensor\n",
    "x_5 = torch.ones((2, 3, 4))\n",
    "print('one', x_5)\n",
    "\n",
    "# random tensor\n",
    "x_6 = torch.rand((2, 3, 4))\n",
    "print('rand', x_6)\n",
    "\n",
    "# list to tensor\n",
    "x_7 = torch.tensor([[1, 2, 3], [4, 5, 6], [7, 8, 9]], dtype=torch.float32)\n",
    "print('list', x_7)\n"
   ]
  },
  {
   "cell_type": "markdown",
   "metadata": {},
   "source": [
    "## Slicing"
   ]
  },
  {
   "cell_type": "code",
   "execution_count": 106,
   "metadata": {},
   "outputs": [
    {
     "name": "stdout",
     "output_type": "stream",
     "text": [
      "Last row\n",
      "tensor([7., 8., 9.])\n",
      "\n",
      "Col 2 and 3\n",
      "tensor([[4., 5., 6.],\n",
      "        [7., 8., 9.]])\n",
      "\n",
      "Overwrite 3rd row with 0s\n",
      "tensor([[1., 2., 3.],\n",
      "        [4., 5., 6.],\n",
      "        [0., 0., 0.]])\n"
     ]
    }
   ],
   "source": [
    "print('Last row')\n",
    "print(x_7[-1])\n",
    "\n",
    "# We do not include the last element\n",
    "print('\\nCol 2 and 3')\n",
    "print(x_7[1:3])\n",
    "\n",
    "# Writing to tensor\n",
    "print('\\nOverwrite 3rd row with 0s')\n",
    "x_7[2] = 0\n",
    "print(x_7)"
   ]
  },
  {
   "cell_type": "markdown",
   "metadata": {},
   "source": [
    "## Operations"
   ]
  },
  {
   "cell_type": "code",
   "execution_count": 107,
   "metadata": {},
   "outputs": [
    {
     "name": "stdout",
     "output_type": "stream",
     "text": [
      "basic operations\n",
      "tensor([ 3.,  4.,  6., 10.]) \n",
      " tensor([-1.,  0.,  2.,  6.]) \n",
      " tensor([ 2.,  4.,  8., 16.]) \n",
      " tensor([0.5000, 1.0000, 2.0000, 4.0000]) \n",
      " tensor([ 1.,  4., 16., 64.])\n",
      "\n",
      "Concatenation\n",
      "tensor([[ 0.,  1.,  2.,  3.],\n",
      "        [ 4.,  5.,  6.,  7.],\n",
      "        [ 8.,  9., 10., 11.],\n",
      "        [ 2.,  1.,  4.,  3.],\n",
      "        [ 1.,  2.,  3.,  4.],\n",
      "        [ 4.,  3.,  2.,  1.]])\n",
      "\n",
      " tensor([[ 0.,  1.,  2.,  3.,  2.,  1.,  4.,  3.],\n",
      "        [ 4.,  5.,  6.,  7.,  1.,  2.,  3.,  4.],\n",
      "        [ 8.,  9., 10., 11.,  4.,  3.,  2.,  1.]])\n",
      "\n",
      "Logical operations\n",
      "tensor([[False,  True, False,  True],\n",
      "        [False, False, False, False],\n",
      "        [False, False, False, False]])\n"
     ]
    }
   ],
   "source": [
    "print('basic operations')\n",
    "x = torch.tensor([1.0, 2, 4, 8])\n",
    "y = torch.tensor([2, 2, 2, 2])\n",
    "print(x + y, '\\n', x - y, '\\n', x * y, '\\n', x / y, '\\n', x ** y)\n",
    "\n",
    "print('\\nConcatenation')\n",
    "x = torch.arange(12, dtype=torch.float32).reshape(3, 4)\n",
    "y = torch.tensor([[2.0, 1, 4, 3], [1, 2, 3, 4], [4, 3, 2, 1]])\n",
    "print(torch.cat((x, y), dim=0))\n",
    "print('\\n',torch.cat((x, y), dim=1))\n",
    "\n",
    "print('\\nLogical operations')\n",
    "print(x == y)"
   ]
  },
  {
   "cell_type": "markdown",
   "metadata": {},
   "source": [
    "# Linear algebra"
   ]
  },
  {
   "cell_type": "markdown",
   "metadata": {},
   "source": [
    "### Summation"
   ]
  },
  {
   "cell_type": "code",
   "execution_count": 108,
   "metadata": {},
   "outputs": [
    {
     "name": "stdout",
     "output_type": "stream",
     "text": [
      "tensor([[[ 0,  1,  2,  3],\n",
      "         [ 4,  5,  6,  7],\n",
      "         [ 8,  9, 10, 11]],\n",
      "\n",
      "        [[12, 13, 14, 15],\n",
      "         [16, 17, 18, 19],\n",
      "         [20, 21, 22, 23]]])\n",
      "tensor([[ 0,  1,  2,  3],\n",
      "        [ 4,  5,  6,  7],\n",
      "        [ 8,  9, 10, 11]])\n"
     ]
    }
   ],
   "source": [
    "X = torch.arange(24).reshape(2, 3, 4)\n",
    "Y = torch.arange(12).reshape(3, 4)\n",
    "print(X)\n",
    "print(Y)"
   ]
  },
  {
   "cell_type": "code",
   "execution_count": 109,
   "metadata": {},
   "outputs": [
    {
     "name": "stdout",
     "output_type": "stream",
     "text": [
      "tensor(66)\n",
      "tensor([12, 15, 18, 21])\n",
      "tensor([[ 6],\n",
      "        [22],\n",
      "        [38]])\n",
      "tensor([[12, 15, 18, 21]])\n"
     ]
    }
   ],
   "source": [
    "# sum all elements\n",
    "print(Y.sum())\n",
    "\n",
    "# sum over row elements\n",
    "print(Y.sum(axis=0))\n",
    "\n",
    "sum_Y_row = Y.sum(axis=1, keepdims=True)\n",
    "sum_Y_col = Y.sum(axis=0, keepdims=True)\n",
    "print(sum_Y_row)\n",
    "print(sum_Y_col)"
   ]
  },
  {
   "cell_type": "markdown",
   "metadata": {},
   "source": [
    "### Multiplication"
   ]
  },
  {
   "cell_type": "code",
   "execution_count": 110,
   "metadata": {},
   "outputs": [
    {
     "name": "stdout",
     "output_type": "stream",
     "text": [
      "tensor([[0, 1],\n",
      "        [2, 3],\n",
      "        [4, 5]])\n",
      "tensor([0, 1, 2])\n",
      "tensor([[0, 2, 4],\n",
      "        [1, 3, 5]])\n",
      "tensor([[0, 1, 2],\n",
      "        [3, 4, 5]])\n"
     ]
    }
   ],
   "source": [
    "A = torch.arange(6).reshape(3, 2)\n",
    "B = torch.arange(3)\n",
    "C = A.clone() # Assign a copy of `A` to `C` by allocating new memory\n",
    "C = C.T\n",
    "D = torch.arange(6).reshape(2, 3)\n",
    "print(A)\n",
    "print(B)\n",
    "print(C)\n",
    "print(D)"
   ]
  },
  {
   "cell_type": "code",
   "execution_count": 111,
   "metadata": {},
   "outputs": [
    {
     "name": "stdout",
     "output_type": "stream",
     "text": [
      "tensor(10)\n",
      "tensor([10, 13])\n",
      "tensor([[ 3,  4,  5],\n",
      "        [ 9, 14, 19],\n",
      "        [15, 24, 33]])\n"
     ]
    }
   ],
   "source": [
    "#Dot product\n",
    "print(torch.dot(A[:,0], B))\n",
    "\n",
    "# Matrix vector multiplication\n",
    "# MxN-matrix dot n-vector\n",
    "print(C@B)\n",
    "\n",
    "# Matrix multiplication\n",
    "# MxN-matrix dot NxD-matrix\n",
    "print(A@D)"
   ]
  },
  {
   "cell_type": "markdown",
   "metadata": {},
   "source": [
    "# Calculus"
   ]
  },
  {
   "cell_type": "code",
   "execution_count": 112,
   "metadata": {},
   "outputs": [
    {
     "name": "stdout",
     "output_type": "stream",
     "text": [
      "h=0.10000, numerical limit=11.40000\n",
      "h=0.01000, numerical limit=11.04000\n",
      "h=0.00100, numerical limit=11.00400\n",
      "h=0.00010, numerical limit=11.00040\n",
      "h=0.00001, numerical limit=11.00004\n"
     ]
    }
   ],
   "source": [
    "def f(x):\n",
    "    return 4 * x ** 2 + 3 * x - 5\n",
    "\n",
    "# Compute the numerical limit of f(x) at x = 1\n",
    "# h = delta x\n",
    "for h in 10.0**np.arange(-1, -6, -1):\n",
    "    print(f'h={h:.5f}, numerical limit={(f(1+h)-f(1))/h:.5f}')"
   ]
  },
  {
   "cell_type": "code",
   "execution_count": 113,
   "metadata": {},
   "outputs": [
    {
     "data": {
      "image/png": "[encoded data removed]",
      "text/plain": [
       "<Figure size 640x480 with 1 Axes>"
      ]
     },
     "metadata": {},
     "output_type": "display_data"
    }
   ],
   "source": [
    "# Define the function f(x)\n",
    "def f(x):\n",
    "    return 4 * x ** 2 + 3 * x - 5\n",
    "\n",
    "# Generate x values\n",
    "x = np.linspace(-10, 10, 100)\n",
    "\n",
    "# Calculate y values using f(x)\n",
    "y = f(x)\n",
    "\n",
    "# Plot the function\n",
    "plt.plot(x, y)\n",
    "plt.xlabel('x')\n",
    "plt.ylabel('f(x)')\n",
    "plt.title('Plot of f(x)')\n",
    "plt.grid(True)\n",
    "plt.show()\n"
   ]
  }
 ],
 "metadata": {
  "kernelspec": {
   "display_name": "Python 3",
   "language": "python",
   "name": "python3"
  },
  "language_info": {
   "codemirror_mode": {
    "name": "ipython",
    "version": 3
   },
   "file_extension": ".py",
   "mimetype": "text/x-python",
   "name": "python",
   "nbconvert_exporter": "python",
   "pygments_lexer": "ipython3",
   "version": "3.11.5"
  }
 },
 "nbformat": 4,
 "nbformat_minor": 2
}
