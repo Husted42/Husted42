{
 "cells": [
  {
   "cell_type": "code",
   "execution_count": 54,
   "metadata": {},
   "outputs": [],
   "source": [
    "import pandas as pd\n",
    "import random\n",
    "from numpy import nan"
   ]
  },
  {
   "cell_type": "code",
   "execution_count": 55,
   "metadata": {},
   "outputs": [
    {
     "name": "stdout",
     "output_type": "stream",
     "text": [
      "<class 'pandas.core.frame.DataFrame'>\n",
      "RangeIndex: 303 entries, 0 to 302\n",
      "Data columns (total 14 columns):\n",
      " #   Column  Non-Null Count  Dtype  \n",
      "---  ------  --------------  -----  \n",
      " 0   0       303 non-null    float64\n",
      " 1   1       303 non-null    float64\n",
      " 2   2       303 non-null    float64\n",
      " 3   3       303 non-null    float64\n",
      " 4   4       303 non-null    float64\n",
      " 5   5       303 non-null    float64\n",
      " 6   6       303 non-null    float64\n",
      " 7   7       303 non-null    float64\n",
      " 8   8       303 non-null    float64\n",
      " 9   9       303 non-null    float64\n",
      " 10  10      303 non-null    float64\n",
      " 11  11      303 non-null    object \n",
      " 12  12      303 non-null    object \n",
      " 13  13      303 non-null    int64  \n",
      "dtypes: float64(11), int64(1), object(2)\n",
      "memory usage: 33.3+ KB\n"
     ]
    }
   ],
   "source": [
    "file = pd.read_csv('processed.cleveland.data', delimiter=',', header=None)\n",
    "file.info()"
   ]
  },
  {
   "cell_type": "code",
   "execution_count": 56,
   "metadata": {},
   "outputs": [
    {
     "name": "stdout",
     "output_type": "stream",
     "text": [
      "218\n",
      "64\n",
      "240\n",
      "81\n",
      "52\n",
      "256\n",
      "166\n",
      "215\n",
      "163\n",
      "204\n",
      "211\n",
      "6\n",
      "205\n",
      "196\n",
      "4\n",
      "98\n",
      "105\n",
      "50\n",
      "214\n",
      "49\n"
     ]
    }
   ],
   "source": [
    "def randomDeleter(a, b):\n",
    "    for i in range(0, b):\n",
    "        num = random.randint(0,303)\n",
    "        file.loc[num, a] = nan\n",
    "        print(num)\n",
    "\n",
    "randomDeleter(12, 20)"
   ]
  },
  {
   "cell_type": "code",
   "execution_count": 60,
   "metadata": {},
   "outputs": [
    {
     "name": "stdout",
     "output_type": "stream",
     "text": [
      "0      0\n",
      "1      0\n",
      "2      0\n",
      "3      0\n",
      "4      0\n",
      "5      0\n",
      "6      0\n",
      "7      0\n",
      "8      0\n",
      "9      0\n",
      "10     0\n",
      "11     0\n",
      "12    20\n",
      "13     0\n",
      "dtype: int64\n",
      "0      41.0\n",
      "1       0.0\n",
      "2       2.0\n",
      "3     130.0\n",
      "4     204.0\n",
      "5       0.0\n",
      "6       2.0\n",
      "7     172.0\n",
      "8       0.0\n",
      "9       1.4\n",
      "10      1.0\n",
      "11      0.0\n",
      "12      NaN\n",
      "13        0\n",
      "Name: 4, dtype: object\n"
     ]
    }
   ],
   "source": [
    "print(file.isna().sum())\n",
    "print(file.loc[4])"
   ]
  }
 ],
 "metadata": {
  "kernelspec": {
   "display_name": "base",
   "language": "python",
   "name": "python3"
  },
  "language_info": {
   "codemirror_mode": {
    "name": "ipython",
    "version": 3
   },
   "file_extension": ".py",
   "mimetype": "text/x-python",
   "name": "python",
   "nbconvert_exporter": "python",
   "pygments_lexer": "ipython3",
   "version": "3.9.13"
  },
  "orig_nbformat": 4
 },
 "nbformat": 4,
 "nbformat_minor": 2
}
