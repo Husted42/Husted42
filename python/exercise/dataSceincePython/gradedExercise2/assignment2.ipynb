{
 "cells": [
  {
   "attachments": {},
   "cell_type": "markdown",
   "metadata": {},
   "source": [
    "# Part 1 (1-6)"
   ]
  },
  {
   "cell_type": "code",
   "execution_count": 106,
   "metadata": {},
   "outputs": [
    {
     "name": "stdout",
     "output_type": "stream",
     "text": [
      "\n",
      "RequestList\n",
      "['Accessibility links', 'News Navigation', 'BBC News Home', 'Breaking Breaking news ', 'Top Stories', 'Zelensky mourns all the killings ahead of war anniversary', 'Zelensky mourns all the killings ahead of war anniversary', 'Related content', '10 Ukrainians share last photos they took before the invasion', 'US TV reporter and child killed in Florida attack', 'Oscars to use crisis team after Will Smith slap', 'BBC boss tells India staff to report without fear', 'Group turns Russian Embassy road yellow and blue', 'Young Nigerians pin their election hopes on outsider', 'Alex Murdaugh to take stand in notorious family murder trial', 'Gaza-Israel violence follows West Bank bloodshed', 'Swedish police chief found dead after inquiry', 'Paul Mescals fury after creepy fan groped him', 'Swedish police chief found dead after inquiry', 'Paul Mescals fury after creepy fan groped him', 'Three arrested after Northern Ireland officer shooting', 'European Commission bans TikTok on staff devices', 'Power outages and more disruption in US storm', 'War in Ukraine one year on', 'How Russias 35-mile column came to nothing', 'Chinas war neutrality claim fades', 'How children are coping', 'The families divided in Russia ', 'Has Putins war failed?', 'Must see', 'Outlaw-themed parade triumphs at Rio carnival', 'BBC World News TV', 'BBC World Service Radio', 'Selfie shows US pilot flying over Chinese balloon', 'Welsh island has one of the worlds darkest skies', 'David Bowie archive to be made public in new venue', 'Brazil landslides: I knew most of the people buried', 'LA meteorologists marvel at rare blizzard warnings', 'Most watched', 'Full story', 'How Ukraine helped the US rethink refugee policy', 'Whats behind the UKs fruit and veg shortages?', 'Why so many Russians turn a blind eye to war', 'Why US citys ban on caste discrimination is historic', 'Anger over parole for Indian guru jailed for rape', 'I have no option but to return to Ukraine - student', 'Putin still not interested in negotiating', 'Most read', 'Around the BBC', 'The cities full of useless flowers', 'The myth of the compassionate layoff', 'The university that changed the world', 'Nigerias anthem of defiance', 'The mystery items appearing on beaches', 'The problem pushing workers too far', 'The herbal drink that powers a nation', 'Sport', 'Australia face India in T20 World Cup semi-final - live text', 'Formula 1 pre-season testing - day one from Bahrain', 'Watson to start for England against Wales', 'Guardiola jokes hell play nine strikers as Haaland has quiet night', 'LIV has to get stronger - or it will disappear', 'England goalkeeper Pickford agrees new Everton deal', 'Yorkshire deleted documents about racism claims', 'Find us here', 'News daily newsletter', 'Mobile app', 'Get in touch', 'News Navigation', 'Explore the BBC']\n",
      "\n",
      "SoupList\n",
      "['BBC News Home', 'Accessibility links', 'News Navigation', 'Breaking Breaking news ', 'Top Stories', 'War in Ukraine one year on', 'Must see', 'Most watched', 'Full story', 'Most read', 'Around the BBC', 'Sport', 'Find us here', 'News Navigation', 'Explore the BBC', \"Zelensky mourns 'all the killings' ahead of war anniversary\", \"Zelensky mourns 'all the killings' ahead of war anniversary\", '10 Ukrainians share last photos they took before the invasion', 'US TV reporter and child killed in Florida attack', 'Oscars to use crisis team after Will Smith slap', 'BBC boss tells India staff to report without fear', 'Group turns Russian Embassy road yellow and blue', 'Young Nigerians pin their election hopes on outsider', 'Alex Murdaugh to take stand in notorious family murder trial', 'Gaza-Israel violence follows West Bank bloodshed', 'Swedish police chief found dead after inquiry', \"Paul Mescal's fury after 'creepy' fan groped him\", 'Swedish police chief found dead after inquiry', \"Paul Mescal's fury after 'creepy' fan groped him\", 'Three arrested after Northern Ireland officer shooting', 'European Commission bans TikTok on staff devices', 'Power outages and more disruption in US storm', \"How Russia's 35-mile column came to nothing\", \"China's war neutrality claim fades\", 'How children are coping', 'The families divided in Russia ', \"Has Putin's war failed?\", 'Outlaw-themed parade triumphs at Rio carnival', 'BBC World News TV', 'BBC World Service Radio', 'Selfie shows US pilot flying over Chinese balloon', \"Welsh island has one of the world's darkest skies\", 'David Bowie archive to be made public in new venue', \"Brazil landslides: 'I knew most of the people buried'\", 'LA meteorologists marvel at rare blizzard warnings', 'How Ukraine helped the US rethink refugee policy', \"What's behind the UK's fruit and veg shortages?\", 'Why so many Russians turn a blind eye to war', \"Why US city's ban on caste discrimination is historic\", 'Anger over parole for Indian guru jailed for rape', 'I have no option but to return to Ukraine - student', \"Putin 'still not interested in negotiating'\", \"The cities full of 'useless' flowers\", \"The myth of the 'compassionate layoff'\", 'The university that changed the world', \"Nigeria's anthem of defiance\", 'The mystery items appearing on beaches', 'The problem pushing workers too far', 'The herbal drink that powers a nation', 'Australia face India in T20 World Cup semi-final - live text', 'Formula 1 pre-season testing - day one from Bahrain', 'Watson to start for England against Wales', \"Guardiola jokes he'll play 'nine strikers' as Haaland has quiet night\", \"'LIV has to get stronger - or it will disappear'\", 'England goalkeeper Pickford agrees new Everton deal', 'Yorkshire deleted documents about racism claims', 'News daily newsletter', 'Mobile app', 'Get in touch', 'Related content']\n",
      "\n",
      "soupTopStories\n",
      "['US TV reporter and child killed in Florida attack', 'Oscars to use crisis team after Will Smith slap', 'BBC boss tells India staff to report without fear', 'Group turns Russian Embassy road yellow and blue', 'Young Nigerians pin their election hopes on outsider', 'Alex Murdaugh to take stand in notorious family murder trial', 'Gaza-Israel violence follows West Bank bloodshed', 'Swedish police chief found dead after inquiry', \"Paul Mescal's fury after 'creepy' fan groped him\", 'Swedish police chief found dead after inquiry', \"Paul Mescal's fury after 'creepy' fan groped him\", 'Three arrested after Northern Ireland officer shooting', 'European Commission bans TikTok on staff devices', 'Power outages and more disruption in US storm', \"How Russia's 35-mile column came to nothing\", \"China's war neutrality claim fades\", 'How children are coping', 'The families divided in Russia ', \"Has Putin's war failed?\", 'BBC World News TV', 'BBC World Service Radio', 'Selfie shows US pilot flying over Chinese balloon', \"Welsh island has one of the world's darkest skies\", 'David Bowie archive to be made public in new venue', \"Brazil landslides: 'I knew most of the people buried'\", 'LA meteorologists marvel at rare blizzard warnings', \"What's behind the UK's fruit and veg shortages?\", 'Why so many Russians turn a blind eye to war', \"Why US city's ban on caste discrimination is historic\", 'Anger over parole for Indian guru jailed for rape', 'I have no option but to return to Ukraine - student', \"Putin 'still not interested in negotiating'\", \"The myth of the 'compassionate layoff'\", 'The university that changed the world', \"Nigeria's anthem of defiance\", 'The mystery items appearing on beaches', 'The problem pushing workers too far', 'The herbal drink that powers a nation', 'Formula 1 pre-season testing - day one from Bahrain', 'Watson to start for England against Wales', \"Guardiola jokes he'll play 'nine strikers' as Haaland has quiet night\", \"'LIV has to get stronger - or it will disappear'\", 'England goalkeeper Pickford agrees new Everton deal', 'Yorkshire deleted documents about racism claims']\n",
      "44\n"
     ]
    }
   ],
   "source": [
    "##### -- Imports -- #####\n",
    "import requests\n",
    "import re\n",
    "from bs4 import BeautifulSoup\n",
    "\n",
    "##### -- Variables -- #####\n",
    "newsFront = 'https://www.bbc.com/news'\n",
    "\n",
    "##### -- Functions -- #####\n",
    "def getData(data):\n",
    "    response = requests.get(data)\n",
    "    contents = response.text\n",
    "    return contents\n",
    "\n",
    "def matches(data):\n",
    "    regexHeder = re.compile(r'<h\\d(?:.*?)>(.*?)<\\/h\\d>')\n",
    "    matches = regexHeder.findall(getData(data))\n",
    "    return matches\n",
    "\n",
    "def headerList(matchLst):\n",
    "    lst = []\n",
    "    for elements in matchLst:\n",
    "        elements = elements.replace(\"&#x27;\", '')\n",
    "        elements = re.sub(r'<span(?:.*?)>', '', elements)\n",
    "        elements = re.sub(r'<\\/span>', ' ', elements)\n",
    "        lst.append(elements)\n",
    "    return lst\n",
    "\n",
    "def cleaner(input):\n",
    "    lst = []\n",
    "    for elements in input:\n",
    "        elements = str(elements)\n",
    "        elements = re.sub(r'<h\\d(?:.*?)>', '', elements)\n",
    "        elements = re.sub(r'<\\/h\\d>', '', elements)\n",
    "        elements = re.sub(r'<span(?:.*?)>', '', elements)\n",
    "        elements = re.sub(r'<\\/span>', ' ', elements)\n",
    "        lst.append(elements)\n",
    "    return lst\n",
    "\n",
    "def soupHeders(data):\n",
    "    soup = BeautifulSoup(getData(data), 'html.parser')\n",
    "    soupList =  soup.find_all('h1') + soup.find_all('h2') + soup.find_all('h3') +  soup.find_all('h4')\n",
    "    return cleaner(soupList)\n",
    "\n",
    "def topStories(data):\n",
    "    soup = BeautifulSoup(getData(data), 'html.parser')\n",
    "    def find_all(tag):\n",
    "        return soup.find_all(tag, class_='gs-c-promo-heading__title gel-pica-bold nw-o-link-split__text') \n",
    "    soupList = find_all('h1') + find_all('h2') + find_all('h3') + find_all('h4') \n",
    "    return cleaner(soupList)\n",
    "\n",
    "\n",
    "##### -- Calls -- #####\n",
    "print(\"\")\n",
    "print(\"RequestList\")\n",
    "print(headerList(matches(newsFront)))\n",
    "\n",
    "print(\"\")\n",
    "print(\"SoupList\")\n",
    "print(soupHeders(newsFront))\n",
    "\n",
    "print(\"\")\n",
    "print(\"soupTopStories\")\n",
    "print(topStories(newsFront))\n"
   ]
  },
  {
   "attachments": {},
   "cell_type": "markdown",
   "metadata": {},
   "source": [
    "# Part 1 (7-8)"
   ]
  },
  {
   "cell_type": "code",
   "execution_count": 112,
   "metadata": {},
   "outputs": [
    {
     "name": "stdout",
     "output_type": "stream",
     "text": [
      "27\n",
      "<div class=\"gs-c-promo-body gel-1/2@xs gel-1/1@m gs-u-mt@m\"><div><a class=\"gs-c-promo-heading gs-o-faux-block-link__overlay-link gel-pica-bold nw-o-link-split__anchor\" href=\"/news/entertainment-arts-64742329\">Oscars to use crisis team after Will Smith slap</a><p class=\"gs-c-promo-summary gel-long-primer gs-u-mt nw-c-promo-summary\">The unit has \"run many scenarios\" in the wake of Will Smith slapping Chris Rock at last year's show.</p></div><ul class=\"gs-o-list-inline gs-o-list-inline--divided gel-brevier gs-u-mt-\"><li class=\"nw-c-promo-meta\"><svg viewbox=\"0 0 32 32\"><polygon points=\"17,15.4 17,6 15,6 15,16.6 23.8,21.7 24.8,19.9\"></polygon><path d=\"M16,4c6.6,0,12,5.4,12,12c0,6.6-5.4,12-12,12S4,22.6,4,16C4,9.4,9.4,4,16,4 M16,0C7.2,0,0,7.2,0,16c0,8.8,7.2,16,16,16 s16-7.2,16-16C32,7.2,24.8,0,16,0L16,0z\"></path></svg> <time class=\"gs-o-bullet__text date qa-status-date gs-u-align-middle gs-u-display-inline\" data-datetime=\"5h\" data-seconds=\"1677148893\" datetime=\"2023-02-23T10:41:33.000Z\">5h 5 hours ago </time> </li><li class=\"nw-c-promo-meta\"><a aria-label=\"From Entertainment &amp; Arts\" class=\"gs-c-section-link gs-c-section-link--truncate nw-c-section-link nw-o-link nw-o-link--no-visited-state\" href=\"/news/entertainment_and_arts\">Entertainment &amp; Arts </a></li></ul></div>\n"
     ]
    }
   ],
   "source": [
    "def soupSummary(data):\n",
    "    soup = BeautifulSoup(getData(data), 'html.parser')\n",
    "    soupList = soup.find_all('div', class_='gs-c-promo-body gel-1/2@xs gel-1/1@m gs-u-mt@m') \n",
    "    return cleaner(soupList)\n",
    "\n",
    "print(len(soupSummary(newsFront)))\n",
    "print(soupSummary(newsFront)[1])"
   ]
  }
 ],
 "metadata": {
  "kernelspec": {
   "display_name": "base",
   "language": "python",
   "name": "python3"
  },
  "language_info": {
   "codemirror_mode": {
    "name": "ipython",
    "version": 3
   },
   "file_extension": ".py",
   "mimetype": "text/x-python",
   "name": "python",
   "nbconvert_exporter": "python",
   "pygments_lexer": "ipython3",
   "version": "3.9.13"
  },
  "orig_nbformat": 4,
  "vscode": {
   "interpreter": {
    "hash": "48be757d26789bc60b5a06a63c6ee1526afb3704018e08ee5d8308519fdc3ad7"
   }
  }
 },
 "nbformat": 4,
 "nbformat_minor": 2
}
