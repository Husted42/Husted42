{
 "cells": [
  {
   "cell_type": "code",
   "execution_count": 12,
   "metadata": {},
   "outputs": [
    {
     "name": "stdout",
     "output_type": "stream",
     "text": [
      "['Accessibility links', '<span aria-hidden=\"true\">Breaking</span><span class=\"gs-u-vh\">Breaking news</span>', 'Top Stories']\n"
     ]
    }
   ],
   "source": [
    "import re\n",
    "\n",
    "html_string = '<h2>Accessibility links</h2>\\n\\n<h2 class=\"nw-c-breaking-news-banner__h2 gel-paragon-bold\"><span aria-hidden=\"true\">Breaking</span><span class=\"gs-u-vh\">Breaking news</span></h2>\\n\\n<h2 class=\"gs-u-vh\">Top Stories</h2><div class=\"gel-wrap gs-u-pt+\"><div class=\"gel-layout gel-layout--no-flex nw-c-top-stories--standard nw-c-top-stories--international\">'\n",
    "\n",
    "regex = re.compile(r'<h\\d(?:.*?)>(.*?)<\\/h\\d>')\n",
    "\n",
    "matches = regex.findall(html_string)\n",
    "print(matches)\n",
    "\n"
   ]
  },
  {
   "cell_type": "code",
   "execution_count": 16,
   "metadata": {},
   "outputs": [
    {
     "name": "stdout",
     "output_type": "stream",
     "text": [
      "['Accessibility links', 'News Navigation', '<span aria-hidden=\"true\">Breaking</span><span class=\"gs-u-vh\">Breaking news</span>', 'Top Stories', 'War in Ukraine one year on', 'Must see', 'Most watched', 'Full story', 'Most read', 'Around the BBC', 'Sport', 'Find us here', 'News Navigation', 'Explore the BBC']\n"
     ]
    }
   ],
   "source": [
    "import requests\n",
    "from bs4 import BeautifulSoup\n",
    "\n",
    "response = requests.get('https://www.bbc.com/news')\n",
    "contents = response.text\n",
    "\n",
    "#Match headers\n",
    "regexHeder = re.compile(r'<h\\d(?:.*?)>(.*?)<\\/h\\d>')\n",
    "matches = regex.findall(contents)\n",
    "print(matches)\n",
    "print(len(matches))\n"
   ]
  }
 ],
 "metadata": {
  "kernelspec": {
   "display_name": "base",
   "language": "python",
   "name": "python3"
  },
  "language_info": {
   "codemirror_mode": {
    "name": "ipython",
    "version": 3
   },
   "file_extension": ".py",
   "mimetype": "text/x-python",
   "name": "python",
   "nbconvert_exporter": "python",
   "pygments_lexer": "ipython3",
   "version": "3.9.13"
  },
  "orig_nbformat": 4,
  "vscode": {
   "interpreter": {
    "hash": "48be757d26789bc60b5a06a63c6ee1526afb3704018e08ee5d8308519fdc3ad7"
   }
  }
 },
 "nbformat": 4,
 "nbformat_minor": 2
}
