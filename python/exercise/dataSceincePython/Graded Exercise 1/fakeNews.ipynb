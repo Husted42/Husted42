{
 "cells": [
  {
   "cell_type": "code",
   "execution_count": 15,
   "metadata": {},
   "outputs": [],
   "source": [
    "import csv\n",
    "with open('news_sample.csv', 'r') as input_file, open('redacted_news_sample.csv','w', newline = '') as output_file :\n",
    "    # create a CSV reader for the input file\n",
    "    csv_reader = csv.reader(input_file)\n",
    "    # create a CSV writer for the output file\n",
    "    csv_writer = csv.writer(output_file)\n",
    "    # iterate through each row in the input file\n",
    "    for row in csv_reader:\n",
    "        # lowercase all letters in each cell of the row\n",
    "        new_row = [cell.lower() for cell in row]\n",
    "        # write the modified row to the output file\n",
    "        csv_writer.writerow(new_row)"
   ]
  }
 ],
 "metadata": {
  "kernelspec": {
   "display_name": "base",
   "language": "python",
   "name": "python3"
  },
  "language_info": {
   "codemirror_mode": {
    "name": "ipython",
    "version": 3
   },
   "file_extension": ".py",
   "mimetype": "text/x-python",
   "name": "python",
   "nbconvert_exporter": "python",
   "pygments_lexer": "ipython3",
   "version": "3.9.13"
  },
  "orig_nbformat": 4,
  "vscode": {
   "interpreter": {
    "hash": "48be757d26789bc60b5a06a63c6ee1526afb3704018e08ee5d8308519fdc3ad7"
   }
  }
 },
 "nbformat": 4,
 "nbformat_minor": 2
}
