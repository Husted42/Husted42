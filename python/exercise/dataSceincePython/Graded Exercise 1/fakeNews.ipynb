{
 "cells": [
  {
   "cell_type": "code",
   "execution_count": 9,
   "metadata": {},
   "outputs": [],
   "source": [
    "import csv\n",
    "import re\n",
    "originalData =  'news_sample.csv'\n",
    "\n",
    "def cleanCsv(data):\n",
    "    with open(data, 'r') as csv_in, open('copy_sample.csv','w', newline = '') as csv_out :\n",
    "        csv_reader = csv.reader(csv_in)\n",
    "        csv_writer = csv.writer(csv_out)\n",
    "        for row in csv_reader :\n",
    "            new_row = [cell.lower() for cell in row]\n",
    "            new_row = [re.sub(r'\\s+', ' ', cell) for cell in new_row] #White spaces\n",
    "            new_row = [re.sub(r'[a-zA-Z0-9-_.]+@[a-zA-Z0-9-_.]+', '<MAIL>', cell) for cell in new_row]  #mail\n",
    "            new_row = [re.sub(r'[a-zA-Z0-9-_.]+.com', '<URL>', cell) for cell in new_row]  #URL part 2\n",
    "            new_row = [re.sub(r'(\\d{4}-?\\d{2}-?\\d{2})', '<DATE>', cell) for cell in new_row]  #Date: YYYY-MM-DD\n",
    "            new_row = [re.sub(r'[a-z]{3,9}\\s\\d{2},.\\d{4}', '<DATE>', cell) for cell in new_row] #Date: Month DD, YYYY\n",
    "            new_row = [re.sub(r'[a-z]{3,8}\\s\\d{2}\\s[a-z]{3}\\s\\d{4}', '<DATE>', cell) for cell in new_row] #Date: day DD MM YYYY\n",
    "            new_row = [re.sub(r'\\d*\\.?\\d*$/', '<NUM>', cell) for cell in new_row] #Number: Decimal\n",
    "            new_row = [re.sub(r'\\d{0,10}', '<NUM>', cell) for cell in new_row]\n",
    "            csv_writer.writerow(new_row)\n",
    "cleanCsv(originalData)\n",
    "\n"
   ]
  }
 ],
 "metadata": {
  "kernelspec": {
   "display_name": "base",
   "language": "python",
   "name": "python3"
  },
  "language_info": {
   "codemirror_mode": {
    "name": "ipython",
    "version": 3
   },
   "file_extension": ".py",
   "mimetype": "text/x-python",
   "name": "python",
   "nbconvert_exporter": "python",
   "pygments_lexer": "ipython3",
   "version": "3.9.13"
  },
  "orig_nbformat": 4,
  "vscode": {
   "interpreter": {
    "hash": "dfdfdd083c53603e2b5cf6e1f33e6521e506427d7439a2e4f119f78dc4864acc"
   }
  }
 },
 "nbformat": 4,
 "nbformat_minor": 2
}
