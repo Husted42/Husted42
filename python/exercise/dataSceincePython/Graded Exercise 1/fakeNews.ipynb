{
 "cells": [
  {
   "cell_type": "code",
   "execution_count": 46,
   "metadata": {},
   "outputs": [],
   "source": [
    "import csv\n",
    "import re\n",
    "originalData =  'news_sample.csv'\n",
    "\n",
    "def cleanCsv(data):\n",
    "    with open(data, 'r') as csv_in, open('copy_sample.csv','w', newline = '') as csv_out :\n",
    "        csv_reader = csv.reader(csv_in)\n",
    "        csv_writer = csv.writer(csv_out)\n",
    "        for row in csv_reader :\n",
    "            new_row = [cell.lower() for cell in row]\n",
    "            new_row = [re.sub(r'\\s+', ' ', cell) for cell in new_row] #White spaces\n",
    "            new_row = [re.sub(r'http\\S+', '<URL>', cell) for cell in new_row] #URL part 1\n",
    "            new_row = [re.sub(r'[a-zA-Z0-9-_.]+@[a-zA-Z0-9-_.]+', '<MAIL>', cell) for cell in new_row]  #mail\n",
    "            new_row = [re.sub(r'[a-zA-Z0-9-_.]+.com', '<URL>', cell) for cell in new_row]  #URL part 2\n",
    "            new_row = [re.sub(r'(\\d{4}-?\\d{2}-?\\d{2})', '<DATE>', cell) for cell in new_row]  #Date part 1\n",
    "\n",
    "            csv_writer.writerow(new_row)\n",
    "cleanCsv(originalData)"
   ]
  }
 ],
 "metadata": {
  "kernelspec": {
   "display_name": "base",
   "language": "python",
   "name": "python3"
  },
  "language_info": {
   "codemirror_mode": {
    "name": "ipython",
    "version": 3
   },
   "file_extension": ".py",
   "mimetype": "text/x-python",
   "name": "python",
   "nbconvert_exporter": "python",
   "pygments_lexer": "ipython3",
   "version": "3.9.13"
  },
  "orig_nbformat": 4,
  "vscode": {
   "interpreter": {
    "hash": "48be757d26789bc60b5a06a63c6ee1526afb3704018e08ee5d8308519fdc3ad7"
   }
  }
 },
 "nbformat": 4,
 "nbformat_minor": 2
}
