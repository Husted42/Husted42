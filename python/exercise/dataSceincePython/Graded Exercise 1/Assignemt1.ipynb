{
 "cells": [
  {
   "attachments": {},
   "cell_type": "markdown",
   "metadata": {},
   "source": [
    "# Part 1: Regular expression warmup"
   ]
  },
  {
   "cell_type": "code",
   "execution_count": 13,
   "metadata": {},
   "outputs": [
    {
     "name": "stdout",
     "output_type": "stream",
     "text": [
      "   DD  MM  YY  IIII\n",
      "0  13  07  02  6153\n",
      "1  23  08  13  4469\n",
      "2  12  11  00  4254\n",
      "3  15  17  97  2564\n",
      "4  15  17  97  2564\n",
      "The person with cpr-number: 1517972564 is born in 1900\n"
     ]
    }
   ],
   "source": [
    "##### -- Imports -- #####\n",
    "import re\n",
    "import pandas as pd\n",
    "\n",
    "##### -- Variables -- #####\n",
    "data = '''1307026153 \n",
    "2308134469 \n",
    "1211004254\n",
    "1517972564\n",
    "151797-2564'''\n",
    "\n",
    "##### -- Functions -- #####\n",
    "def a(n):\n",
    "    df = pd.DataFrame(\n",
    "        columns = [\"DD\", \"MM\", \"YY\", \"IIII\"]\n",
    "    )\n",
    "    pattern = re.compile('(^\\d{2})(\\d{2})(\\d{2})-?(\\d{4})')\n",
    "    data_lines = n.split('\\n')\n",
    "    for data_line in data_lines:\n",
    "        match = pattern.search(data_line)\n",
    "        if match: \n",
    "            newRow = [str(match.group(1)), (match.group(2)),\n",
    "                      (match.group(3)), (match.group(4))] \n",
    "            df.loc[len(df)] = newRow\n",
    "    return(df)\n",
    "\n",
    "def b(n):\n",
    "    cprNumber = n\n",
    "    pattern = re.compile('(^\\d{2})(\\d{2})(\\d{2})-?(\\d{4})')\n",
    "    match = pattern.search(cprNumber)\n",
    "    A = int(match.group(4))\n",
    "    B = int(match.group(3))\n",
    "    if (A < 4000 and B < 100 ): return(1900)\n",
    "    elif (4000 <= A < 5000 and B <= 36): return(2000)\n",
    "    elif (4000 <= A < 5000 and 37 <= B <= 99): return(1900)\n",
    "    elif (5000 <= A < 9000 and 00 <= B <= 57): return(2000)\n",
    "    elif (5000 <= A < 9000 and 58 <= B <= 99): return(1800)\n",
    "    elif (9000 <= A < 10000 and 00 <= B <= 36): return(2000)\n",
    "    elif (9000 <= A < 10000 and 37 <= B <= 99): return(1900)\n",
    "    else: return (\"Error\")\n",
    "\n",
    "##### -- Calls -- #####\n",
    "print(a(data))\n",
    "cpr1 = '1517972564'\n",
    "print(\"The person with cpr-number: \"+ cpr1 + \" is born in \" + str(b(cpr1)))"
   ]
  },
  {
   "attachments": {},
   "cell_type": "markdown",
   "metadata": {},
   "source": [
    "# Part 2: Processing the FakeNewsCorpus data set"
   ]
  },
  {
   "cell_type": "code",
   "execution_count": 71,
   "metadata": {},
   "outputs": [
    {
     "ename": "TypeError",
     "evalue": "clean() got an unexpected keyword argument 'fix_unicode'",
     "output_type": "error",
     "traceback": [
      "\u001b[1;31m---------------------------------------------------------------------------\u001b[0m",
      "\u001b[1;31mTypeError\u001b[0m                                 Traceback (most recent call last)",
      "\u001b[1;32m~\\AppData\\Local\\Temp\\ipykernel_16444\\310437470.py\u001b[0m in \u001b[0;36m<module>\u001b[1;34m\u001b[0m\n\u001b[0;32m     26\u001b[0m \u001b[1;32mfor\u001b[0m \u001b[0mcol\u001b[0m \u001b[1;32min\u001b[0m \u001b[0mdf\u001b[0m\u001b[1;33m.\u001b[0m\u001b[0mcolumns\u001b[0m\u001b[1;33m:\u001b[0m\u001b[1;33m\u001b[0m\u001b[1;33m\u001b[0m\u001b[0m\n\u001b[0;32m     27\u001b[0m     \u001b[1;32mif\u001b[0m \u001b[0mdf\u001b[0m\u001b[1;33m[\u001b[0m\u001b[0mcol\u001b[0m\u001b[1;33m]\u001b[0m\u001b[1;33m.\u001b[0m\u001b[0mdtype\u001b[0m \u001b[1;33m==\u001b[0m \u001b[1;34m'object'\u001b[0m\u001b[1;33m:\u001b[0m\u001b[1;33m\u001b[0m\u001b[1;33m\u001b[0m\u001b[0m\n\u001b[1;32m---> 28\u001b[1;33m         df[col] = df[col].apply(lambda x: clean(x,\n\u001b[0m\u001b[0;32m     29\u001b[0m             \u001b[0mfix_unicode\u001b[0m\u001b[1;33m=\u001b[0m\u001b[1;32mTrue\u001b[0m\u001b[1;33m\u001b[0m\u001b[1;33m\u001b[0m\u001b[0m\n\u001b[0;32m     30\u001b[0m             ))\n",
      "\u001b[1;32mc:\\Users\\alx26\\anaconda3\\lib\\site-packages\\pandas\\core\\series.py\u001b[0m in \u001b[0;36mapply\u001b[1;34m(self, func, convert_dtype, args, **kwargs)\u001b[0m\n\u001b[0;32m   4431\u001b[0m         \u001b[0mdtype\u001b[0m\u001b[1;33m:\u001b[0m \u001b[0mfloat64\u001b[0m\u001b[1;33m\u001b[0m\u001b[1;33m\u001b[0m\u001b[0m\n\u001b[0;32m   4432\u001b[0m         \"\"\"\n\u001b[1;32m-> 4433\u001b[1;33m         \u001b[1;32mreturn\u001b[0m \u001b[0mSeriesApply\u001b[0m\u001b[1;33m(\u001b[0m\u001b[0mself\u001b[0m\u001b[1;33m,\u001b[0m \u001b[0mfunc\u001b[0m\u001b[1;33m,\u001b[0m \u001b[0mconvert_dtype\u001b[0m\u001b[1;33m,\u001b[0m \u001b[0margs\u001b[0m\u001b[1;33m,\u001b[0m \u001b[0mkwargs\u001b[0m\u001b[1;33m)\u001b[0m\u001b[1;33m.\u001b[0m\u001b[0mapply\u001b[0m\u001b[1;33m(\u001b[0m\u001b[1;33m)\u001b[0m\u001b[1;33m\u001b[0m\u001b[1;33m\u001b[0m\u001b[0m\n\u001b[0m\u001b[0;32m   4434\u001b[0m \u001b[1;33m\u001b[0m\u001b[0m\n\u001b[0;32m   4435\u001b[0m     def _reduce(\n",
      "\u001b[1;32mc:\\Users\\alx26\\anaconda3\\lib\\site-packages\\pandas\\core\\apply.py\u001b[0m in \u001b[0;36mapply\u001b[1;34m(self)\u001b[0m\n\u001b[0;32m   1086\u001b[0m             \u001b[1;32mreturn\u001b[0m \u001b[0mself\u001b[0m\u001b[1;33m.\u001b[0m\u001b[0mapply_str\u001b[0m\u001b[1;33m(\u001b[0m\u001b[1;33m)\u001b[0m\u001b[1;33m\u001b[0m\u001b[1;33m\u001b[0m\u001b[0m\n\u001b[0;32m   1087\u001b[0m \u001b[1;33m\u001b[0m\u001b[0m\n\u001b[1;32m-> 1088\u001b[1;33m         \u001b[1;32mreturn\u001b[0m \u001b[0mself\u001b[0m\u001b[1;33m.\u001b[0m\u001b[0mapply_standard\u001b[0m\u001b[1;33m(\u001b[0m\u001b[1;33m)\u001b[0m\u001b[1;33m\u001b[0m\u001b[1;33m\u001b[0m\u001b[0m\n\u001b[0m\u001b[0;32m   1089\u001b[0m \u001b[1;33m\u001b[0m\u001b[0m\n\u001b[0;32m   1090\u001b[0m     \u001b[1;32mdef\u001b[0m \u001b[0magg\u001b[0m\u001b[1;33m(\u001b[0m\u001b[0mself\u001b[0m\u001b[1;33m)\u001b[0m\u001b[1;33m:\u001b[0m\u001b[1;33m\u001b[0m\u001b[1;33m\u001b[0m\u001b[0m\n",
      "\u001b[1;32mc:\\Users\\alx26\\anaconda3\\lib\\site-packages\\pandas\\core\\apply.py\u001b[0m in \u001b[0;36mapply_standard\u001b[1;34m(self)\u001b[0m\n\u001b[0;32m   1141\u001b[0m                 \u001b[1;31m# List[Union[Callable[..., Any], str]]]]]\"; expected\u001b[0m\u001b[1;33m\u001b[0m\u001b[1;33m\u001b[0m\u001b[0m\n\u001b[0;32m   1142\u001b[0m                 \u001b[1;31m# \"Callable[[Any], Any]\"\u001b[0m\u001b[1;33m\u001b[0m\u001b[1;33m\u001b[0m\u001b[0m\n\u001b[1;32m-> 1143\u001b[1;33m                 mapped = lib.map_infer(\n\u001b[0m\u001b[0;32m   1144\u001b[0m                     \u001b[0mvalues\u001b[0m\u001b[1;33m,\u001b[0m\u001b[1;33m\u001b[0m\u001b[1;33m\u001b[0m\u001b[0m\n\u001b[0;32m   1145\u001b[0m                     \u001b[0mf\u001b[0m\u001b[1;33m,\u001b[0m  \u001b[1;31m# type: ignore[arg-type]\u001b[0m\u001b[1;33m\u001b[0m\u001b[1;33m\u001b[0m\u001b[0m\n",
      "\u001b[1;32mc:\\Users\\alx26\\anaconda3\\lib\\site-packages\\pandas\\_libs\\lib.pyx\u001b[0m in \u001b[0;36mpandas._libs.lib.map_infer\u001b[1;34m()\u001b[0m\n",
      "\u001b[1;32m~\\AppData\\Local\\Temp\\ipykernel_16444\\310437470.py\u001b[0m in \u001b[0;36m<lambda>\u001b[1;34m(x)\u001b[0m\n\u001b[0;32m     26\u001b[0m \u001b[1;32mfor\u001b[0m \u001b[0mcol\u001b[0m \u001b[1;32min\u001b[0m \u001b[0mdf\u001b[0m\u001b[1;33m.\u001b[0m\u001b[0mcolumns\u001b[0m\u001b[1;33m:\u001b[0m\u001b[1;33m\u001b[0m\u001b[1;33m\u001b[0m\u001b[0m\n\u001b[0;32m     27\u001b[0m     \u001b[1;32mif\u001b[0m \u001b[0mdf\u001b[0m\u001b[1;33m[\u001b[0m\u001b[0mcol\u001b[0m\u001b[1;33m]\u001b[0m\u001b[1;33m.\u001b[0m\u001b[0mdtype\u001b[0m \u001b[1;33m==\u001b[0m \u001b[1;34m'object'\u001b[0m\u001b[1;33m:\u001b[0m\u001b[1;33m\u001b[0m\u001b[1;33m\u001b[0m\u001b[0m\n\u001b[1;32m---> 28\u001b[1;33m         df[col] = df[col].apply(lambda x: clean(x,\n\u001b[0m\u001b[0;32m     29\u001b[0m             \u001b[0mfix_unicode\u001b[0m\u001b[1;33m=\u001b[0m\u001b[1;32mTrue\u001b[0m\u001b[1;33m\u001b[0m\u001b[1;33m\u001b[0m\u001b[0m\n\u001b[0;32m     30\u001b[0m             ))\n",
      "\u001b[1;31mTypeError\u001b[0m: clean() got an unexpected keyword argument 'fix_unicode'"
     ]
    }
   ],
   "source": [
    "import csv\n",
    "import re\n",
    "import pandas as pd\n",
    "from cleantext import clean\n",
    "originalData =  'news_sample.csv'\n",
    "\n",
    "def cleanCsv(data):\n",
    "    with open(data, 'r') as csv_in, open('edited_sample.csv','w', newline = '') as csv_out :\n",
    "        csv_reader = csv.reader(csv_in)\n",
    "        csv_writer = csv.writer(csv_out)\n",
    "        for row in csv_reader :\n",
    "            new_row = [cell.lower() for cell in row]\n",
    "            new_row = [re.sub(r'\\s+', ' ', cell) for cell in new_row] #White spaces\n",
    "            new_row = [re.sub(r'[a-zA-Z0-9-_.]+@[a-zA-Z0-9-_.]+', '<MAIL>', cell) for cell in new_row]  #mail\n",
    "            new_row = [re.sub(r'[a-zA-Z0-9-_.]+.com', '<URL>', cell) for cell in new_row]  #URL part 2\n",
    "            new_row = [re.sub(r'(\\d{4}-?\\d{2}-?\\d{2})', '<DATE>', cell) for cell in new_row]  #Date: YYYY-MM-DD\n",
    "            new_row = [re.sub(r'[a-z]{3,9}\\s\\d{2},.\\d{4}', '<DATE>', cell) for cell in new_row] #Date: Month DD, YYYY\n",
    "            new_row = [re.sub(r'[a-z]{3,8}\\s\\d{2}\\s[a-z]{3}\\s\\d{4}', '<DATE>', cell) for cell in new_row] #Date: day DD MM YYYY\n",
    "            new_row = [re.sub(r'\\d*\\.?\\d*$/', '<NUM>', cell) for cell in new_row] #Number: Decimal\n",
    "            new_row = [re.sub(r'\\d', '<NUM>', cell) for cell in new_row]\n",
    "            csv_writer.writerow(new_row)\n",
    "cleanCsv(originalData)\n",
    "\n",
    "df = pd.read_csv('news_sample.csv')\n",
    "\n",
    "for col in df.columns:\n",
    "    if df[col].dtype == 'object':\n",
    "        df[col] = df[col].apply(lambda x: clean(x,\n",
    "            fix_unicode=True                                    \n",
    "            ))\n",
    "\n",
    "df.to_csv('clean_sample.csv')\n",
    "\n",
    "cleantext.clean('This is A s$ample !!!! tExt3% to   cleaN566556+2+59*/133', extra_spaces=True, lowercase=True, numbers=True, punct=True)\n"
   ]
  },
  {
   "attachments": {},
   "cell_type": "markdown",
   "metadata": {},
   "source": [
    "# Part 3: Descriptive frequency analysis of the data"
   ]
  },
  {
   "cell_type": "code",
   "execution_count": 49,
   "metadata": {},
   "outputs": [
    {
     "name": "stdout",
     "output_type": "stream",
     "text": [
      "Number of unique words: 28808\n"
     ]
    },
    {
     "data": {
      "image/png": "[encoded data removed]",
      "text/plain": [
       "<Figure size 640x480 with 1 Axes>"
      ]
     },
     "metadata": {},
     "output_type": "display_data"
    }
   ],
   "source": [
    "##### -- Imports -- #####\n",
    "import matplotlib.pyplot as plt \n",
    "import itertools\n",
    "\n",
    "##### -- Functions -- #####\n",
    "def wordDic(data):\n",
    "    file = open(data, 'r')\n",
    "    read = file.read().lower()\n",
    "    words = read.split()  \n",
    "    dictionary = {}\n",
    "    for i in words:\n",
    "        if i in dictionary:\n",
    "            dictionary[i] += 1  \n",
    "        else:\n",
    "            dictionary[i] = 1\n",
    "    return dictionary  \n",
    "\n",
    "def plot (data):\n",
    "    Sort = dict(sorted(wordDic(data).items(), key=lambda x: x[1], reverse=True))\n",
    "    plotDictionary = dict(itertools.islice(Sort.items(), 50))\n",
    "    axis = plt.figure().add_axes([0,0,1,1])\n",
    "    x = list((plotDictionary).keys())\n",
    "    y = list((plotDictionary).values())\n",
    "    axis.bar(x, y)\n",
    "    plt.show()\n",
    "\n",
    "##### -- Calls -- #####\n",
    "print (\"Number of unique words: \" + str(len(wordDic('news_sample.csv'))))\n",
    "plot('news_sample.csv')\n"
   ]
  }
 ],
 "metadata": {
  "kernelspec": {
   "display_name": "base",
   "language": "python",
   "name": "python3"
  },
  "language_info": {
   "codemirror_mode": {
    "name": "ipython",
    "version": 3
   },
   "file_extension": ".py",
   "mimetype": "text/x-python",
   "name": "python",
   "nbconvert_exporter": "python",
   "pygments_lexer": "ipython3",
   "version": "3.9.13"
  },
  "orig_nbformat": 4,
  "vscode": {
   "interpreter": {
    "hash": "dfdfdd083c53603e2b5cf6e1f33e6521e506427d7439a2e4f119f78dc4864acc"
   }
  }
 },
 "nbformat": 4,
 "nbformat_minor": 2
}
