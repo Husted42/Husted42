{
 "cells": [
  {
   "attachments": {},
   "cell_type": "markdown",
   "metadata": {},
   "source": [
    "# Part 1: Regular expression warmup"
   ]
  },
  {
   "cell_type": "code",
   "execution_count": 13,
   "metadata": {},
   "outputs": [
    {
     "name": "stdout",
     "output_type": "stream",
     "text": [
      "   DD  MM  YY  IIII\n",
      "0  13  07  02  6153\n",
      "1  23  08  13  4469\n",
      "2  12  11  00  4254\n",
      "3  15  17  97  2564\n",
      "4  15  17  97  2564\n",
      "The person with cpr-number: 1517972564 is born in 1900\n"
     ]
    }
   ],
   "source": [
    "##### -- Imports -- #####\n",
    "import re\n",
    "import pandas as pd\n",
    "\n",
    "##### -- Variables -- #####\n",
    "data = '''1307026153 \n",
    "2308134469 \n",
    "1211004254\n",
    "1517972564\n",
    "151797-2564'''\n",
    "\n",
    "##### -- Functions -- #####\n",
    "def a(n):\n",
    "    df = pd.DataFrame(\n",
    "        columns = [\"DD\", \"MM\", \"YY\", \"IIII\"]\n",
    "    )\n",
    "    pattern = re.compile('(^\\d{2})(\\d{2})(\\d{2})-?(\\d{4})')\n",
    "    data_lines = n.split('\\n')\n",
    "    for data_line in data_lines:\n",
    "        match = pattern.search(data_line)\n",
    "        if match: \n",
    "            newRow = [str(match.group(1)), (match.group(2)),\n",
    "                      (match.group(3)), (match.group(4))] \n",
    "            df.loc[len(df)] = newRow\n",
    "    return(df)\n",
    "\n",
    "def b(n):\n",
    "    cprNumber = n\n",
    "    pattern = re.compile('(^\\d{2})(\\d{2})(\\d{2})-?(\\d{4})')\n",
    "    match = pattern.search(cprNumber)\n",
    "    A = int(match.group(4))\n",
    "    B = int(match.group(3))\n",
    "    if (A < 4000 and B < 100 ): return(1900)\n",
    "    elif (4000 <= A < 5000 and B <= 36): return(2000)\n",
    "    elif (4000 <= A < 5000 and 37 <= B <= 99): return(1900)\n",
    "    elif (5000 <= A < 9000 and 00 <= B <= 57): return(2000)\n",
    "    elif (5000 <= A < 9000 and 58 <= B <= 99): return(1800)\n",
    "    elif (9000 <= A < 10000 and 00 <= B <= 36): return(2000)\n",
    "    elif (9000 <= A < 10000 and 37 <= B <= 99): return(1900)\n",
    "    else: return (\"Error\")\n",
    "\n",
    "##### -- Calls -- #####\n",
    "print(a(data))\n",
    "cpr1 = '1517972564'\n",
    "print(\"The person with cpr-number: \"+ cpr1 + \" is born in \" + str(b(cpr1)))"
   ]
  },
  {
   "attachments": {},
   "cell_type": "markdown",
   "metadata": {},
   "source": [
    "# Part 2: Processing the FakeNewsCorpus data set"
   ]
  },
  {
   "cell_type": "code",
   "execution_count": 49,
   "metadata": {},
   "outputs": [],
   "source": [
    "import csv\n",
    "import re\n",
    "originalData =  'news_sample.csv'\n",
    "\n",
    "def cleanCsv(data):\n",
    "    with open(data, 'r') as csv_in, open('copy_sample.csv','w', newline = '') as csv_out :\n",
    "        csv_reader = csv.reader(csv_in)\n",
    "        csv_writer = csv.writer(csv_out)\n",
    "        for row in csv_reader :\n",
    "            new_row = [cell.lower() for cell in row]\n",
    "            new_row = [re.sub(r'\\s+', ' ', cell) for cell in new_row] #White spaces\n",
    "            new_row = [re.sub(r'[a-zA-Z0-9-_.]+@[a-zA-Z0-9-_.]+', '<MAIL>', cell) for cell in new_row]  #mail\n",
    "            new_row = [re.sub(r'http\\S+', '<URL>', cell) for cell in new_row] #URL part 1\n",
    "            \n",
    "            #new_row = [re.sub(r'[a-zA-Z0-9-_.]+.com', '<URL>', cell) for cell in new_row]  #URL part 2\n",
    "            new_row = [re.sub(r'(\\d{4}-?\\d{2}-?\\d{2})', '<DATE>', cell) for cell in new_row]  #Date part 1\n",
    "\n",
    "            csv_writer.writerow(new_row)\n",
    "cleanCsv(originalData)"
   ]
  },
  {
   "attachments": {},
   "cell_type": "markdown",
   "metadata": {},
   "source": [
    "# Part 3: Descriptive frequency analysis of the data"
   ]
  },
  {
   "cell_type": "code",
   "execution_count": 38,
   "metadata": {},
   "outputs": [
    {
     "name": "stdout",
     "output_type": "stream",
     "text": [
      "Number of unique words: 28808\n"
     ]
    },
    {
     "name": "stderr",
     "output_type": "stream",
     "text": [
      "C:\\Users\\alx26\\AppData\\Local\\Temp\\ipykernel_21672\\3767767380.py:25: UserWarning: FixedFormatter should only be used together with FixedLocator\n",
      "  ax.set_xticklabels(x, rotation=45, ha='right')\n"
     ]
    },
    {
     "data": {
      "image/png": "[encoded data removed]",
      "text/plain": [
       "<Figure size 640x480 with 1 Axes>"
      ]
     },
     "metadata": {},
     "output_type": "display_data"
    }
   ],
   "source": [
    "##### -- Imports -- #####\n",
    "import matplotlib.pyplot as plt \n",
    "import itertools\n",
    "\n",
    "##### -- Functions -- #####\n",
    "def wordDic(data):\n",
    "    file = open(data, 'r')\n",
    "    read = file.read().lower()\n",
    "    words = read.split()  \n",
    "    dictionary = {}\n",
    "    for i in words:\n",
    "        if i in dictionary:\n",
    "            dictionary[i] += 1  \n",
    "        else:\n",
    "            dictionary[i] = 1\n",
    "    return dictionary  \n",
    "\n",
    "def plot (data):\n",
    "    Sort = dict(sorted(wordDic(data).items(), key=lambda x: x[1], reverse=True))\n",
    "    plotDictionary = dict(itertools.islice(Sort.items(), 50))\n",
    "    axis = plt.figure().add_axes([0,0,1,1])\n",
    "    x = list((plotDictionary).keys())\n",
    "    y = list((plotDictionary).values())\n",
    "    axis.bar(x, y, color ='blue', width = 0.5)\n",
    "    plt.show()\n",
    "\n",
    "##### -- Calls -- #####\n",
    "print (\"Number of unique words: \" + str(len(wordDic('news_sample.csv'))))\n",
    "plot('news_sample.csv')\n"
   ]
  }
 ],
 "metadata": {
  "kernelspec": {
   "display_name": "base",
   "language": "python",
   "name": "python3"
  },
  "language_info": {
   "codemirror_mode": {
    "name": "ipython",
    "version": 3
   },
   "file_extension": ".py",
   "mimetype": "text/x-python",
   "name": "python",
   "nbconvert_exporter": "python",
   "pygments_lexer": "ipython3",
   "version": "3.9.13"
  },
  "orig_nbformat": 4,
  "vscode": {
   "interpreter": {
    "hash": "dfdfdd083c53603e2b5cf6e1f33e6521e506427d7439a2e4f119f78dc4864acc"
   }
  }
 },
 "nbformat": 4,
 "nbformat_minor": 2
}
