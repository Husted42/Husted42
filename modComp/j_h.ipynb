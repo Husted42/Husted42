{
 "cells": [
  {
   "cell_type": "code",
   "execution_count": 8,
   "metadata": {},
   "outputs": [],
   "source": [
    "import numpy as np"
   ]
  },
  {
   "cell_type": "code",
   "execution_count": 9,
   "metadata": {},
   "outputs": [
    {
     "name": "stdout",
     "output_type": "stream",
     "text": [
      "\n",
      "J matrix: \n",
      "[[ 2.  0. -1.  0.  3.]\n",
      " [ 0.  5.  0. -2. -2.]\n",
      " [-1.  0.  1.  0. -3.]\n",
      " [ 0. -2.  0.  1.  1.]\n",
      " [ 3. -2. -3.  1. 10.]]\n",
      "\n",
      "cov matrix: \n"
     ]
    },
    {
     "ename": "LinAlgError",
     "evalue": "Singular matrix",
     "output_type": "error",
     "traceback": [
      "\u001b[1;31m---------------------------------------------------------------------------\u001b[0m",
      "\u001b[1;31mLinAlgError\u001b[0m                               Traceback (most recent call last)",
      "Cell \u001b[1;32mIn[9], line 23\u001b[0m\n\u001b[0;32m     21\u001b[0m \u001b[38;5;66;03m# covariance matrix, Sigma\u001b[39;00m\n\u001b[0;32m     22\u001b[0m \u001b[38;5;28mprint\u001b[39m(\u001b[38;5;124m\"\u001b[39m\u001b[38;5;130;01m\\n\u001b[39;00m\u001b[38;5;124mcov matrix: \u001b[39m\u001b[38;5;124m\"\u001b[39m)\n\u001b[1;32m---> 23\u001b[0m sigma \u001b[38;5;241m=\u001b[39m \u001b[43mnp\u001b[49m\u001b[38;5;241;43m.\u001b[39;49m\u001b[43mlinalg\u001b[49m\u001b[38;5;241;43m.\u001b[39;49m\u001b[43minv\u001b[49m\u001b[43m(\u001b[49m\u001b[43mJ\u001b[49m\u001b[43m)\u001b[49m\n\u001b[0;32m     24\u001b[0m \u001b[38;5;28mprint\u001b[39m(sigma)\n\u001b[0;32m     26\u001b[0m \u001b[38;5;66;03m# Calculate h vector\u001b[39;00m\n",
      "File \u001b[1;32m<__array_function__ internals>:200\u001b[0m, in \u001b[0;36minv\u001b[1;34m(*args, **kwargs)\u001b[0m\n",
      "File \u001b[1;32m~\\AppData\\Local\\Packages\\PythonSoftwareFoundation.Python.3.10_qbz5n2kfra8p0\\LocalCache\\local-packages\\Python310\\site-packages\\numpy\\linalg\\linalg.py:538\u001b[0m, in \u001b[0;36minv\u001b[1;34m(a)\u001b[0m\n\u001b[0;32m    536\u001b[0m signature \u001b[38;5;241m=\u001b[39m \u001b[38;5;124m'\u001b[39m\u001b[38;5;124mD->D\u001b[39m\u001b[38;5;124m'\u001b[39m \u001b[38;5;28;01mif\u001b[39;00m isComplexType(t) \u001b[38;5;28;01melse\u001b[39;00m \u001b[38;5;124m'\u001b[39m\u001b[38;5;124md->d\u001b[39m\u001b[38;5;124m'\u001b[39m\n\u001b[0;32m    537\u001b[0m extobj \u001b[38;5;241m=\u001b[39m get_linalg_error_extobj(_raise_linalgerror_singular)\n\u001b[1;32m--> 538\u001b[0m ainv \u001b[38;5;241m=\u001b[39m \u001b[43m_umath_linalg\u001b[49m\u001b[38;5;241;43m.\u001b[39;49m\u001b[43minv\u001b[49m\u001b[43m(\u001b[49m\u001b[43ma\u001b[49m\u001b[43m,\u001b[49m\u001b[43m \u001b[49m\u001b[43msignature\u001b[49m\u001b[38;5;241;43m=\u001b[39;49m\u001b[43msignature\u001b[49m\u001b[43m,\u001b[49m\u001b[43m \u001b[49m\u001b[43mextobj\u001b[49m\u001b[38;5;241;43m=\u001b[39;49m\u001b[43mextobj\u001b[49m\u001b[43m)\u001b[49m\n\u001b[0;32m    539\u001b[0m \u001b[38;5;28;01mreturn\u001b[39;00m wrap(ainv\u001b[38;5;241m.\u001b[39mastype(result_t, copy\u001b[38;5;241m=\u001b[39m\u001b[38;5;28;01mFalse\u001b[39;00m))\n",
      "File \u001b[1;32m~\\AppData\\Local\\Packages\\PythonSoftwareFoundation.Python.3.10_qbz5n2kfra8p0\\LocalCache\\local-packages\\Python310\\site-packages\\numpy\\linalg\\linalg.py:89\u001b[0m, in \u001b[0;36m_raise_linalgerror_singular\u001b[1;34m(err, flag)\u001b[0m\n\u001b[0;32m     88\u001b[0m \u001b[38;5;28;01mdef\u001b[39;00m \u001b[38;5;21m_raise_linalgerror_singular\u001b[39m(err, flag):\n\u001b[1;32m---> 89\u001b[0m     \u001b[38;5;28;01mraise\u001b[39;00m LinAlgError(\u001b[38;5;124m\"\u001b[39m\u001b[38;5;124mSingular matrix\u001b[39m\u001b[38;5;124m\"\u001b[39m)\n",
      "\u001b[1;31mLinAlgError\u001b[0m: Singular matrix"
     ]
    }
   ],
   "source": [
    "#Constant\n",
    "beta = np.array([0, 0, 0, 0, 0])\n",
    "\n",
    "# X0 = Z0\n",
    "# X1 - 4X0 = Z1 + 2\n",
    "# X2 - 2X0 = Z2 + 1\n",
    "# X3 = Z3\n",
    "# X4 - X1 - X2 - X3 = Z4\n",
    "# Coefficient matrix A for the variables X (corresponding to equations above)\n",
    "gamma = np.array([[1, 0, -1, 0],\n",
    "                 [0, 1, 0, -2],\n",
    "                 [0, 0, 1, 0],\n",
    "                 [0, 0, 0, 1],\n",
    "                 [0, 0, -3, 1]], dtype=float) \n",
    "\n",
    "# Calcualte J\n",
    "print(\"\\nJ matrix: \")\n",
    "J = (gamma @ gamma.T) / 1\n",
    "print(J)\n",
    "\n",
    "# covariance matrix, Sigma\n",
    "print(\"\\ncov matrix: \")\n",
    "sigma = np.linalg.inv(J)\n",
    "print(sigma)\n",
    "\n",
    "# Calculate h vector\n",
    "print(\"\\nh vector: \")\n",
    "h =  np.linalg.solve(gamma, beta)\n",
    "print(h)\n",
    "\n",
    "# mean vector, mu\n",
    "print(\"\\nmean vector: \")\n",
    "mu = h.dot(np.linalg.inv(J))\n",
    "print(mu)"
   ]
  },
  {
   "cell_type": "code",
   "execution_count": null,
   "metadata": {},
   "outputs": [],
   "source": [
    "p_d = [0.6, 0.4] \n",
    "p_i_given_d = [[0.1, 0.9], [0.1, 0.9]]\n",
    "p_g_given_i_d = [\n",
    "    [0.15, 0.4, 0.45],  \n",
    "    [0.25, 0.05, 0.7],  \n",
    "    [0.2, 0.1, 0.7],    \n",
    "    [0.35, 0.3, 0.35]   \n",
    "]\n",
    "\n",
    "# Calculate the probability P(G = g1 | D = d1)\n",
    "# We sum over both possible values of I\n",
    "p_g1_given_d1 = sum(p_g_given_i_d[1][0] * p_i_given_d[1][i] for i in range(2))\n"
   ]
  },
  {
   "cell_type": "markdown",
   "metadata": {},
   "source": [
    "### Factors in bayesian network"
   ]
  },
  {
   "cell_type": "code",
   "execution_count": 10,
   "metadata": {},
   "outputs": [
    {
     "name": "stdout",
     "output_type": "stream",
     "text": [
      "1 10\n"
     ]
    }
   ],
   "source": [
    "def phi_1(a,b):\n",
    "    if a==1 and b==1:\n",
    "        return 1\n",
    "    elif a==1 and b==0:\n",
    "        return 2\n",
    "    else:\n",
    "        return 3\n",
    "    \n",
    "def phi_2(c,d):\n",
    "    if c==1 and d==1:\n",
    "        return 10\n",
    "    elif c==1 and d==0:\n",
    "        return 15\n",
    "    else:\n",
    "        return 20\n",
    "    \n",
    "print(phi_1(1,1), phi_2(1,1))"
   ]
  }
 ],
 "metadata": {
  "kernelspec": {
   "display_name": "py_main",
   "language": "python",
   "name": "python3"
  },
  "language_info": {
   "codemirror_mode": {
    "name": "ipython",
    "version": 3
   },
   "file_extension": ".py",
   "mimetype": "text/x-python",
   "name": "python",
   "nbconvert_exporter": "python",
   "pygments_lexer": "ipython3",
   "version": "3.9.13"
  }
 },
 "nbformat": 4,
 "nbformat_minor": 2
}
