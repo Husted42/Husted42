{
 "cells": [
  {
   "cell_type": "markdown",
   "metadata": {},
   "source": [
    "# Exercise 3: Learning from Data\n",
    "\n",
    "In this exercise, you will train different types of regression and classification models on two datasets. You will be graded based on a combination of your code producing the expected results, your written responses to the questions and a passing leaderboard score in the final exercise."
   ]
  },
  {
   "cell_type": "markdown",
   "metadata": {},
   "source": [
    "### 3.1 Linear / Logistic Regression for digit recognition\n",
    "\n",
    "In this part you will experiment with two different types of prediction models, and qualitatively + quantitatively compare them. You will be working with the classic MNIST dataset, which we can load from `sklearn.datasets`."
   ]
  },
  {
   "cell_type": "code",
   "execution_count": 1,
   "metadata": {},
   "outputs": [],
   "source": [
    "# Importing the dataset\n",
    "from sklearn import datasets\n",
    "digits = datasets.load_digits();"
   ]
  },
  {
   "cell_type": "markdown",
   "metadata": {},
   "source": [
    "Here we plot the first few digits and their labels. Apparently they are in order, but our upcoming models will not rely on this."
   ]
  },
  {
   "cell_type": "code",
   "execution_count": 2,
   "metadata": {},
   "outputs": [
    {
     "data": {
      "image/png": "[encoded data removed]",
      "text/plain": [
       "<Figure size 1500x300 with 12 Axes>"
      ]
     },
     "metadata": {},
     "output_type": "display_data"
    }
   ],
   "source": [
    "import matplotlib.pyplot as plt\n",
    "\n",
    "_, axes = plt.subplots(nrows=1, ncols=12, figsize=(15, 3))\n",
    "for ax, image, label in zip(axes, digits.images, digits.target):\n",
    "    ax.set_axis_off()\n",
    "    ax.imshow(image, cmap=plt.cm.gray_r, interpolation=\"nearest\")\n",
    "    ax.set_title(\"Label: %i\" % label)"
   ]
  },
  {
   "cell_type": "markdown",
   "metadata": {},
   "source": [
    "### A: Warmup Exercise\n",
    "\n",
    "Use the `train_test_split` function from `sklearn.model_selection` twice to split the data into train, validation, and test sets, with a distribution of 80%, 10%, and 10% respectively. Use `random_state=0` for reproducibility.\n",
    "Check out the documentation to figure out how to set the parameters to get the desired split. "
   ]
  },
  {
   "cell_type": "code",
   "execution_count": 3,
   "metadata": {},
   "outputs": [],
   "source": [
    "# INSERT YOUR CODE HERE. ASSIGN TO THE FOLLOWING VARIABLES, X_train, X_val, X_test, y_train, y_val, y_test\n",
    "# >\n",
    "from sklearn.model_selection import train_test_split\n",
    "(X_train, X_temp, y_train, y_temp) = train_test_split(digits.data, digits.target, test_size=0.2, random_state=0, shuffle = True)\n",
    "(X_val, X_test, y_val, y_test) = train_test_split(X_temp, y_temp, test_size=0.5, random_state=0, shuffle = True)"
   ]
  },
  {
   "cell_type": "markdown",
   "metadata": {},
   "source": [
    "Now let's check out the returned training data, which is of the type `numpy.ndarray`, which you might have seen already. We want to make sure the classes are balanced, e.g. we don't have a lot more 4's than 5's.\n",
    " - How many images do we have for the train, validation, and test sets?\n",
    " - What is the distribution of the training labels? Comment on whether the classes are balanced."
   ]
  },
  {
   "cell_type": "code",
   "execution_count": 4,
   "metadata": {},
   "outputs": [
    {
     "name": "stdout",
     "output_type": "stream",
     "text": [
      "# of images:\n",
      "X_train : 1437\n",
      "X_test : 180\n",
      "X_val : 180\n",
      " \n",
      "distribution\n",
      "X_train : 80%\n",
      "X_test : 10%\n",
      "X_val : 10%\n"
     ]
    }
   ],
   "source": [
    "# CALCULATE AND WRITE YOUR ANSWERS HERE\n",
    "# >\n",
    "import numpy\n",
    "print('# of images:')\n",
    "print('X_train : ' + str(X_train.shape[0]))\n",
    "print('X_test : ' + str(X_test.shape[0]))\n",
    "print('X_val : ' + str(X_val.shape[0]))\n",
    "\n",
    "print(\" \")\n",
    "print(\"distribution\")\n",
    "print('X_train : ' + str(round(((X_train.shape)[0] / digits.data.shape[0] * 100))) + '%')\n",
    "print('X_test : ' + str(round(((X_test.shape)[0] / digits.data.shape[0] * 100))) + '%')\n",
    "print('X_val : ' + str(round(((X_val.shape)[0] / digits.data.shape[0] * 100))) + '%')\n"
   ]
  },
  {
   "cell_type": "markdown",
   "metadata": {},
   "source": [
    "### B: Programming Exercise\n",
    "\n",
    "Let's build a model that learns to predict the digit given the image. We'll first try our hand at linear regression. We will use the `LinearRegression` class from `sklearn.linear_model`. Again, check out the documentation on how to use it. We will use the `fit` method to train the model, and the `predict` method to make predictions on the test set.\n",
    "Afterwards, evaluate the model using functions from `sklearn.metrics` module."
   ]
  },
  {
   "cell_type": "code",
   "execution_count": 5,
   "metadata": {},
   "outputs": [
    {
     "name": "stdout",
     "output_type": "stream",
     "text": [
      "LinearRegression MSE:  3.088888888888889\n",
      "LinearRegression accuracy:  0.22777777777777777\n"
     ]
    },
    {
     "data": {
      "image/png": "[encoded data removed]",
      "text/plain": [
       "<Figure size 1000x300 with 10 Axes>"
      ]
     },
     "metadata": {},
     "output_type": "display_data"
    }
   ],
   "source": [
    "# DEFINE A LinearRegression MODEL USING SKLEARN. ASSIGN THE MODEL TO THE VARIABLE model.\n",
    "# >\n",
    "import sklearn.linear_model\n",
    "model = sklearn.linear_model.LinearRegression()\n",
    "\n",
    "# FIT THE MODEL AND MAKE PREDICTIONS ON THE TEST SET. ASSIGN THE PREDICTIONS TO THE VARIABLE y_pred.\n",
    "# >\n",
    "model.fit(X_train, y_train)\n",
    "y_pred = ([round(x) for x in model.predict(X_test)])\n",
    "\n",
    "# ASSIGN YOUR MODEL'S TEST SET MSE TO THE VARIABLE mse AND ITS ACCURACY TO THE VARIABLE acc.\n",
    "# >\n",
    "from sklearn.metrics import mean_squared_error\n",
    "from sklearn.metrics import accuracy_score\n",
    "\n",
    "mse = mean_squared_error(y_test, y_pred)\n",
    "acc = accuracy_score(y_test, y_pred)\n",
    "\n",
    "# DO NOT INSERT OR CHANGE ANYTHING BELOW\n",
    "print(\"LinearRegression MSE: \", mse)\n",
    "print(\"LinearRegression accuracy: \", acc)\n",
    "\n",
    "_, axes = plt.subplots(nrows=1, ncols=10, figsize=(10, 3))\n",
    "for ax, image, prediction in zip(axes, X_test, y_pred):\n",
    "    ax.set_axis_off()\n",
    "    image = image.reshape(8, 8)\n",
    "    ax.imshow(image, cmap=plt.cm.gray_r, interpolation=\"nearest\")\n",
    "    ax.set_title(\"%i\" % prediction)"
   ]
  },
  {
   "cell_type": "markdown",
   "metadata": {},
   "source": [
    "### C: Programming Exercise\n",
    "\n",
    "Now, let's model the task differently.\n",
    "You will use the `LogisticRegression`, again included in the module `sklearn.linear_model`, and again, check out the documentation to see how to use it. Fit the model and make predictions on the test set. \n",
    "\n",
    "You are asked to produce output with the same structure as in the above programming exercise (two printouts and one image), but for a different model this time."
   ]
  },
  {
   "cell_type": "code",
   "execution_count": 6,
   "metadata": {},
   "outputs": [
    {
     "name": "stdout",
     "output_type": "stream",
     "text": [
      "1.1388888888888888\n",
      "0.9611111111111111\n"
     ]
    }
   ],
   "source": [
    "# YOUR CODE HERE\n",
    "# >\n",
    "modelR = sklearn.linear_model.LogisticRegression(max_iter=20000)\n",
    "modelR.fit(X_train, y_train)\n",
    "y_predR = ([round(x) for x in modelR.predict(X_test)])\n",
    "\n",
    "\n",
    "mseR = mean_squared_error(y_test, y_predR)\n",
    "accR = accuracy_score(y_test, y_predR)\n",
    "print(mseR)\n",
    "print(accR)\n"
   ]
  },
  {
   "cell_type": "markdown",
   "metadata": {},
   "source": [
    "### Written Questions"
   ]
  },
  {
   "cell_type": "markdown",
   "metadata": {},
   "source": [
    "1a) Describe the trends you observe in the results. Is there anything interesting or unexpected? \n",
    "\n",
    "1b) How do the results compare to the linear regression model? \n",
    "\n",
    "1c) What do you think is the reason for this?"
   ]
  },
  {
   "cell_type": "markdown",
   "metadata": {},
   "source": [
    "## Exercise 3.2: Counting stars"
   ]
  },
  {
   "cell_type": "markdown",
   "metadata": {},
   "source": [
    "Your team is tasked with applying data science and machine learning techniques to some recently collected telescope image data. The telescope takes low resolution images, in which stars either appear as squares or circles. Your task is to train a classifier to determine whether there are more circular stars than square stars in each image. The budget is tight this year so there are no resources available to train expensive deep neural networks; you will need to train a linear or logistic regression classifier instead.\n",
    "\n",
    "You are encouraged to be creative, and to try out different things empirically, too. Preprocessing could be crucial to the success of your model. Good luck!\n",
    "\n",
    "Below is a sample of the data you'll be working with. Above each image is the label, which shows the number of circular and square stars, respectively. We do not count the small noisy background stars. \n",
    "\n",
    "![](sample.png)"
   ]
  },
  {
   "cell_type": "markdown",
   "metadata": {},
   "source": [
    "### D: Programming Exercise\n",
    "\n",
    "1. Create an account on Kaggle to collect the data https://www.kaggle.com/competitions/ds2023-counting-stars/. Use your real name, or tell us your Kaggle username, so we can grade you.\n",
    "2. Download the training data from https://www.kaggle.com/competitions/ds2023-counting-stars/data. Check out the Dataset Description for more information about the data and your task.\n",
    "2. Load the training data file `stars_train_X_y.npz` and split it into `train`, `val`, and `test` splits.\n",
    "3. Use a linear or logistic regression model to fit the `train` data. Use the `val` and `test` splits for model selection and hyperparameter optimization. (You should measure performance using accuracy)."
   ]
  },
  {
   "cell_type": "code",
   "execution_count": 7,
   "metadata": {},
   "outputs": [
    {
     "name": "stdout",
     "output_type": "stream",
     "text": [
      "[3, 1, 5, 2, 4, 0, 4, 4, 4, 2, 4, 2, 3, 0, 0, 2, 2, 4, 2, 0, 2, 5, 4, 4, 4, 4, 4, 5, 3, 4, 1, 4, 4, 4, 0, 4, 4, 2, 2, 4, 2, 2, 1, 3, 5, 0, 6, 0, 5, 2, 4, 1, 6, 4, 4, 5, 0, 3, 2, 2, 4, 4, 4, 6, 2, 2, 3, 1, 2, 4, 2, 1, 0, 2, 2, 6, 2, 6, 4, 3, 5, 6, 4, 0, 4, 2, 0, 6, 5, 4, 2, 4, 5, 2, 2, 4, 2, 5, 4, 2, 4, 1, 2, 3, 6, 0, 3, 3, 4, 4, 6, 4, 5, 4, 4, 4, 2, 4, 2, 2, 0, 6, 4, 4, 4, 1, 5, 2, 3, 2, 3, 4, 6, 2, 6, 5, 3, 5, 2, 0, 2, 3, 4, 3, 5, 1, 4, 5, 5, 6, 4, 2, 0, 0, 1, 2, 4, 4, 6, 2, 5, 4, 0, 4, 2, 3, 0, 6, 2, 4, 5, 2, 4, 0, 0, 5, 3, 1, 3, 3, 6, 6, 1, 0, 0, 2, 0, 0, 2, 4, 4, 4, 4, 6, 2, 2, 4, 5, 4, 4, 0, 3, 3, 0, 2, 2, 2, 1, 4, 4, 6, 5, 5, 4, 0, 4, 1, 2, 2, 0, 2, 1, 4, 2, 3, 0, 1, 5, 2, 0, 2, 6, 3, 5, 0, 5, 2, 4, 6, 4, 4, 2, 3, 3, 4, 4, 3, 0, 2, 4, 1, 6, 3, 1, 4, 4, 5, 2, 2, 4, 4, 4, 6, 5, 4, 5, 5, 1, 2, 2, 1, 5, 2, 2, 6, 2, 1, 4, 2, 2, 0, 2, 0, 0, 5, 4, 2, 4, 1, 2, 4, 3, 0, 2, 6, 4, 5, 2, 3, 4, 4, 2, 2, 2, 5, 4, 5, 5, 4, 2, 0, 1, 5, 1, 3, 4, 1, 4, 2, 2, 0, 4, 2, 4, 1, 6, 4, 1, 1, 3, 2, 4, 2, 2, 2, 5, 6, 1, 1, 2, 3, 5, 4, 3, 4, 2, 4, 4, 4, 2, 5, 3, 2, 4, 4, 4, 4, 2, 2, 2, 1, 4, 5, 4, 4, 3, 2, 3, 4, 6, 5, 4, 2, 5, 3, 4, 2, 4, 1, 4, 4, 1, 5, 2, 0, 4, 3, 2, 3, 4, 4, 2, 5, 2, 4, 0, 2, 4, 4, 0, 2, 2, 2, 4, 6, 4, 4, 4, 4, 4, 5, 2, 4, 0, 6, 1, 0, 4, 0, 6, 2, 6, 4, 1, 2, 2, 6, 1, 2, 6, 4, 4, 4, 2, 3, 4, 4, 2, 4, 1, 5, 1, 4, 1, 1, 2, 0, 3, 1, 4, 0, 5, 4, 1, 5, 4, 0, 4, 6, 2, 0, 2, 4, 2, 6, 4, 0, 0, 4, 4, 0, 4, 6, 1, 1, 0, 2, 3, 4, 4, 3, 2, 1, 2, 1, 2, 3, 6, 3, 5, 6, 1, 2, 1, 3, 6, 4, 4, 6, 3, 3, 0, 2, 6, 3, 4, 1, 3, 2, 5, 5, 1, 0, 2, 1, 3, 6, 2, 3, 4, 5, 0, 2, 0, 1, 2, 6, 2, 0, 0, 2, 2, 5, 2, 2, 4, 4, 2, 2, 6, 5, 6, 4, 2, 4, 2, 3, 2, 2, 2, 0, 3, 4, 4, 4, 6, 2, 4, 4, 1, 4, 4, 2, 4, 4, 6, 2, 0, 4, 2, 1, 1, 4, 2, 4, 1, 3, 4, 4, 0, 2, 3, 4, 6, 2, 4, 2, 4, 4, 2, 0, 1, 1, 0, 4, 2, 6, 0, 4, 1, 5, 2, 2, 4, 2, 2, 1, 2, 1, 0, 4, 5, 2, 2, 5, 2, 4, 2, 2, 3, 4, 2, 2, 2, 5, 2, 3, 5, 4, 6, 4, 2, 5, 0, 1, 4, 2, 1, 4, 4, 4, 5, 2, 2, 3, 4, 6, 6, 3, 6, 5, 4, 2, 5, 0, 2, 2, 2, 0, 3, 5, 2, 2, 3, 2, 4, 5, 3, 2, 0, 1, 5, 4, 4, 5, 1, 4, 4, 2, 2, 5, 3, 2, 4, 5, 1, 5, 0, 2, 2, 1, 0, 3, 6, 4, 2, 2, 2, 5, 4, 4, 2, 6, 4, 1, 0, 2, 2, 0, 2, 0, 4, 1, 0, 3, 2, 0, 4, 5, 6, 0, 5, 3, 3, 3, 4, 4, 4, 4, 0, 4, 2, 2, 5, 0, 5, 4, 0, 2, 4, 3, 1, 5, 2, 1, 4, 2, 1, 6, 2, 2, 2, 6, 2, 0, 2, 4, 2, 2, 0, 3, 1, 2, 1, 4, 2, 4, 4, 6, 2, 2, 4, 3, 2, 4, 2, 2, 5, 1, 5, 1, 3, 5, 4, 6, 0, 2, 6, 2, 4, 2, 4, 2, 4, 0, 4, 2, 1, 4, 2, 2, 2, 4, 4, 6, 4, 3, 4, 4, 5, 1, 2, 2, 4, 2, 4, 6, 6, 2, 2, 2, 2, 0, 1, 3, 2, 2, 4, 1, 2, 3, 0, 4, 0, 2, 5, 2, 2, 4, 4, 5, 4, 1, 0, 0, 1, 4, 2, 3, 0, 2, 4, 4, 1, 2, 4, 1, 4, 2, 2, 2, 4, 2, 1, 4, 2, 4, 2, 5, 3, 2, 6, 3, 5, 6, 1, 3, 4, 3, 4, 5, 4, 4, 4, 4, 2, 2, 3, 4, 2, 2, 5, 2, 2, 2, 5, 5, 2, 5, 4, 3, 2, 2, 4, 1, 6, 2, 0, 1, 2, 2, 4, 2, 2, 3, 4, 1, 2, 6, 2, 2, 0, 4, 4, 6, 5, 2, 2, 4, 0, 2, 2, 0, 3, 4, 6, 5, 0, 0, 2, 6, 2, 4, 4, 2, 6, 4, 2, 0, 4, 6, 2, 2, 0, 1, 1, 3, 5, 2, 4, 5, 2, 1, 5, 4, 5, 2, 4, 0, 2, 1, 4, 2, 4, 2, 2, 4, 1, 4, 4, 4, 4, 2, 1, 2, 1, 0, 2, 4, 3, 4, 3, 1, 5, 2, 4, 1, 2, 6, 0, 4, 4, 4, 4, 4, 4, 2, 4, 5, 1, 3, 2, 1, 4, 1, 0, 2, 6, 6, 4, 5, 0, 5, 4, 1, 2, 4, 4, 4, 3, 6, 4, 6, 1, 4, 6, 4, 4, 4, 5, 5, 6, 0, 5, 2, 2, 4, 6, 4, 2, 4, 3, 0, 4, 1, 1, 0, 2, 4, 0, 2, 3, 6, 0, 2, 2, 5, 2, 4, 1, 0, 3, 2, 0, 4, 4, 4, 2, 2, 6, 2, 2, 4, 2, 1, 2, 1, 2, 4, 1, 2, 4, 2, 4, 4, 4, 4, 3, 4, 1, 4, 2, 0, 3, 4, 4, 4, 4, 5, 2, 2, 1, 0, 4, 0, 2, 1, 4, 3, 3, 2, 0, 2, 4, 6, 5, 3, 2, 5, 4, 4, 6, 5, 2, 2, 6, 4, 2, 6, 4, 2, 2, 4, 0, 2, 1, 4, 6, 4, 5, 6, 5, 4, 5, 2, 4, 4, 3, 6, 5, 6, 1, 3, 1, 4, 3, 4, 1, 0, 4, 2, 2, 4, 4, 4, 4, 6, 4, 2, 6, 1, 3, 1, 5, 0, 5, 6, 2, 4, 4, 2, 0, 2, 0, 1, 1, 4, 0, 5, 4, 2, 0, 5, 0, 3, 6, 2, 5, 4, 4, 4, 3, 2, 2, 6, 4, 0, 3, 6, 2, 4, 5, 1, 2, 2, 4, 2, 0, 4, 2, 3, 1, 1, 1, 3, 2, 0, 0, 3, 0, 1, 2, 3, 1, 4, 2, 4, 4, 0, 4, 2, 6, 3, 5, 0, 4, 2, 4, 2, 5, 4, 0, 3, 0, 5, 1, 2, 2, 1, 4, 2, 0, 2, 2, 6, 6, 4, 3, 2, 4, 4, 4, 2, 2, 2, 2, 6, 2, 2, 6, 5, 0, 6, 1, 4, 2, 3, 3, 3, 5, 6, 1, 5, 3, 1, 1, 2, 2, 2, 2, 3, 4, 2, 4, 4, 2, 2, 6, 2, 3, 2, 4, 0, 2, 5, 4, 2, 2, 2, 2, 4, 4, 4, 6, 5, 4, 4, 3, 1, 4, 5, 4, 0, 0, 4, 4, 2, 4, 6, 3, 2, 4, 4, 1, 3, 6, 4, 1, 3, 4, 2, 3, 4, 5, 4, 2, 2, 2, 3, 2, 6, 6, 5, 6, 2, 5, 2, 5, 6, 6, 4, 6, 3, 1, 0, 2, 4, 2, 1, 4, 4, 2, 2, 5, 3, 4, 5, 5, 5, 6, 2, 5, 4, 0, 4, 0, 4, 2, 2, 4, 2, 3, 2, 4, 2, 5, 4, 1, 2, 2, 2, 2, 0, 0, 5, 5, 4, 6, 2, 2, 6, 0, 5, 3, 2, 6, 3, 6, 2, 0, 4, 2, 4, 4, 2, 1, 4, 5, 6, 2, 0, 6, 4, 2, 2, 4, 2, 2, 4, 4, 0, 2, 0, 3, 4, 4, 2, 2, 2, 0, 2, 5, 3, 5, 4, 2, 4, 0, 6, 4, 6, 2, 4, 1, 1, 2, 2, 4, 4, 2, 3, 0, 1, 6, 3, 3, 0, 2, 3, 1, 6, 6, 4, 4, 2, 4, 2, 4, 1, 4, 2, 2, 0, 0, 1, 1, 0, 4, 2, 4, 4, 2, 6, 3, 4, 4, 2, 2, 1, 4, 2, 6, 5, 3, 3, 1, 5, 6, 1, 0, 3, 2, 2, 2, 2, 1, 2, 4, 4, 4, 6, 1, 5, 2, 4, 4, 2, 2, 4, 2, 4, 2, 1, 4, 4, 2, 0, 0, 1, 5, 1, 2, 6, 0, 4, 0, 3, 4, 3, 4, 2, 4, 2, 2, 4, 0, 5, 6, 2, 0, 2, 6, 2, 0, 0, 0, 6, 4, 4, 6, 4, 3, 6, 0, 0, 0, 3, 2, 2, 1, 4, 4, 2, 4, 6, 3, 5, 2, 5, 2, 2, 2, 4, 3, 1, 4, 4, 6, 3, 1, 4, 2, 3, 1, 4, 1, 0, 1, 4, 2, 2, 2, 2, 2, 3, 5, 2, 4, 1, 3, 2, 2, 2, 5, 0, 2, 2, 2, 5, 5, 4, 4, 5, 1, 4, 4, 4, 3, 4, 5, 1, 4, 1, 2, 0, 4, 4, 2, 3, 1, 4, 6, 4, 4, 3, 4, 3, 1, 6, 4, 3, 2, 1, 1, 6, 0, 2, 3, 2, 3, 1, 2, 2, 4, 4, 1, 2, 4, 6, 0, 0, 2, 3, 4, 3, 6, 3, 1, 0, 3, 4, 5, 1, 5, 5, 6, 2, 2, 6, 4, 4, 2, 3, 4, 5, 4, 2, 2, 2, 3, 0, 3, 2, 2, 0, 6, 2, 3, 6, 4, 4, 2, 0, 5, 2, 2, 4, 6, 2, 2, 5, 4, 3, 4, 5, 1, 0, 4, 6, 2, 4, 3, 3, 4, 4, 6, 0, 4, 2, 1, 4, 1, 0, 4, 5, 5, 4, 4, 0, 4, 2, 4, 4, 0, 4, 3, 2, 6, 6, 4, 3, 2, 5, 4, 4, 5, 0, 1, 6, 1, 4, 6, 4, 6, 3, 4, 1, 0, 4, 4, 5, 6, 1, 4, 2, 1, 4, 1, 4, 3, 0, 4, 4, 2, 4, 4, 2, 2, 4, 6, 0, 6, 1, 6, 0, 6, 1, 4, 2, 5, 3, 6, 4, 4, 2, 6, 3, 6, 0, 2, 4, 4, 2, 4, 5, 2, 3, 4, 4, 4, 4, 4, 5, 1, 4, 2, 5, 5, 4, 1, 1, 2, 4, 1, 2, 4, 4, 3, 4, 2, 2, 3, 3, 4, 2, 2, 3, 1, 4, 3, 2, 4, 4, 2, 5, 2, 4, 2, 2, 4, 4, 0, 6, 5, 2, 4, 6, 2, 5, 2, 3, 2, 4, 5, 2, 6, 1, 1, 0, 1, 1, 1, 4, 0, 3, 6, 2, 2, 5, 2, 0, 4, 4, 1, 1, 2, 6, 6, 1, 3, 1, 4, 2, 1, 4, 0, 4, 3, 2, 2, 6, 2, 4, 6, 1, 4, 0, 4, 4, 6, 0, 4, 1, 1, 6, 1, 2, 5, 4, 4, 4, 2, 2, 2, 1, 4, 2, 4, 3, 6, 1, 1, 0, 3, 1, 2, 3, 4, 3, 4, 5, 4, 5, 6, 1, 5, 1, 2, 4, 2, 4, 1, 4, 4, 3, 6, 2, 3, 6, 2, 4, 2, 2, 2, 2, 2, 1, 4, 0, 0, 2, 6, 6, 2, 2, 4, 4, 4, 0, 2, 5, 2, 2, 4, 0, 0, 4, 1, 2, 4, 2, 0, 4, 1, 4, 0, 2, 4, 2, 5, 4, 4, 4, 2, 2, 0, 2, 2, 6, 4, 2, 1, 6, 1, 4, 0, 4, 2, 3, 4, 5, 2, 4, 2, 3, 6, 6, 5, 2, 1, 2, 2, 0, 5, 4, 3, 2, 2, 2, 4, 4, 2, 0, 3, 6, 5, 5, 4, 2, 5, 5, 2, 3, 2, 2, 2, 2, 2, 1, 1, 4, 0, 2, 2, 2, 2, 0, 2, 1, 2, 0, 4, 2, 4, 3, 5, 5, 3, 4, 3, 1, 5, 0, 1, 6, 4, 1, 0, 4, 6, 6, 0, 5, 2, 5, 2, 5, 1, 4, 6, 1, 4, 1, 0, 4, 4, 1, 6, 6, 3, 2, 2, 4, 5, 0, 4, 4, 2, 6, 2, 4, 6, 6, 4, 4, 0, 5, 2, 5, 6, 0, 3, 4, 4, 3, 1, 3, 4, 2, 2, 0, 2, 2, 2, 3, 2, 1, 4, 6, 4, 2, 4, 4, 4, 6, 0, 2, 4, 4, 2, 3, 4, 2, 6, 4, 2, 6, 4, 4, 2, 2, 4, 4, 3, 6, 2, 2, 4, 4, 4, 4, 3, 0, 2, 4, 0, 4, 1, 4, 4, 4, 4, 4, 4, 5, 2, 3, 0, 1, 4, 6, 4, 4, 1, 5, 5, 2, 1, 2, 2, 5, 6, 0, 1, 4, 6, 2, 2, 2, 6, 2, 1, 1, 2, 4, 2, 1, 2, 5, 1, 2, 6, 3, 6, 4, 5, 2, 6, 4, 4, 1, 4, 4, 2, 2, 2, 1, 0, 1, 4, 1, 5, 4, 4, 4, 0, 0, 4, 0, 0, 2, 0, 6, 0, 2, 1, 0, 0, 4, 4, 1, 6, 2, 2, 0, 4, 1, 4, 2, 2, 4, 2, 6, 1, 0, 0, 4, 3, 6, 2, 6, 2, 0, 2, 4, 2, 1, 4, 3, 4, 4, 4, 3, 4, 3, 4, 6, 4, 2, 1, 3, 2, 6, 3, 3, 2, 2, 4, 3, 2, 1, 2, 2, 6, 6, 0, 3, 0, 3, 2, 1, 6, 1, 1, 4, 5, 5, 2, 5, 1, 1, 2, 2, 5, 6, 5, 2, 4, 5, 4, 0, 3, 2, 4, 2, 4, 3, 4, 4, 4, 5, 0, 6, 4, 6, 0, 3, 1, 2, 2, 4, 5, 4, 4, 6, 2, 1, 6, 0, 2, 6, 2, 5, 4, 3, 4, 4, 4, 2, 0, 5, 2, 0, 3, 4, 4, 4, 0, 5, 5, 2, 5, 3, 0, 4, 3, 6, 6, 2, 4, 3, 1, 2, 4, 2, 2, 0, 4, 5, 0, 5, 4, 4, 3, 2, 3, 4, 2, 3, 0, 0, 5, 2, 1, 0, 3, 2, 0, 2, 2, 3, 4, 2, 0, 2, 4, 0, 2, 2, 1, 4, 2, 4, 2, 0, 4, 3, 6, 2, 0, 4, 4, 4, 0, 2, 0, 1, 5, 2, 0, 4, 4, 5, 6, 3, 3, 6, 3, 4, 5, 2, 2, 2, 2, 0, 6, 6, 4, 4, 4, 1, 4, 2, 1, 3, 3, 2, 2, 4, 0, 2, 2, 6, 6, 1, 5, 5, 4, 4, 4, 1, 5, 2, 3, 1, 3, 2, 0, 2, 4, 6, 2, 5, 4, 1, 6, 4, 3, 2, 6, 4, 5, 5, 4, 5, 2, 3, 1, 4, 2, 5, 3, 2, 0, 0, 1, 4, 6, 6, 4, 5, 2, 2, 3, 1, 4, 2, 1, 3, 0, 4, 4, 6, 4, 2, 4, 1, 0, 2, 4, 2, 4, 2, 4, 2, 2, 2, 5, 4, 0, 4, 3, 2, 0, 4, 3, 2, 5, 4, 2, 4, 2, 0, 2, 4, 3, 4, 3, 4, 2, 1, 6, 4, 1, 3, 2, 1, 2, 2, 0, 2, 0, 3, 6, 1, 4, 4, 6, 3, 2, 6, 6, 4, 0, 4, 2, 5, 1, 2, 4, 2, 6, 4, 2, 4, 2, 6, 6, 3, 1, 6, 2, 1, 2, 5, 4, 4, 3, 6, 6, 2, 6, 6, 4, 2, 2, 6, 4, 4, 1, 4, 0, 2, 1, 2, 4, 2, 1, 5, 2, 2, 3, 6, 2, 2, 1, 3, 4, 1, 4, 0, 2, 3, 5, 6, 4, 4, 4, 6, 2, 3, 2, 4, 6, 5, 4, 4, 4, 3, 2, 4, 2, 2, 3, 5, 2, 2, 1, 2, 2, 4, 2, 4, 2, 0, 5, 5, 4, 4, 4, 0, 4, 2, 4, 1, 5, 2, 4, 2, 4, 2, 4, 1, 5, 4, 4, 3, 4, 4, 2, 3, 2, 6, 4, 4, 3, 3, 4, 4, 5, 3, 4, 2, 2, 4, 2, 4, 4, 2, 3, 3, 4, 5, 5, 0, 2, 4, 2, 2, 4, 6, 6, 3, 1, 2, 4, 6, 1, 0, 2, 6, 1, 4, 3, 5, 6, 4, 4, 1, 1, 2, 2, 1, 0, 1, 2, 0, 2, 4, 2, 2, 4, 2, 0, 4, 4, 4, 6, 5, 3, 2, 1, 2, 3, 6, 4, 5, 1, 4, 2, 6, 4, 3, 0, 2, 2, 1, 5, 3, 4, 2, 2, 1, 2, 6, 2, 2, 2, 0, 2, 4, 2, 2, 4, 2, 1, 0, 3, 0, 5, 4, 3, 4, 4, 1, 4, 0, 5, 0, 4, 4, 2, 4, 4, 4, 1, 2, 6, 5, 0, 6, 4, 1, 2, 3, 4, 2, 1, 1, 3, 6, 2, 5, 3, 0, 2, 3, 2, 0, 4, 1, 5, 2, 4, 6, 4, 5, 1, 4, 1, 0, 1, 4, 2, 2, 0, 2, 1, 1, 3, 5, 4, 3, 1, 0, 2, 2, 3, 3, 2, 2, 5, 4, 6, 6, 3, 2, 2, 2, 4, 2, 3, 3, 5, 6, 2, 1, 3, 4, 6, 5, 2, 4, 1, 4, 1, 2, 0, 1, 4, 2, 0, 5, 4, 2, 3, 6, 6, 5, 5, 6, 2, 2, 2, 4, 6, 4, 3, 4, 4, 4, 2, 2, 3, 1, 1, 2, 2, 1, 5, 2, 0, 1, 2, 5, 6, 5, 2, 0, 3, 2, 0, 1, 5, 2, 6, 5, 4, 2, 4, 4, 3, 2, 1, 1, 2, 2, 3, 1, 4, 0, 4, 4, 2, 4, 4, 1, 3, 3, 0, 4, 0, 5, 0, 0, 1, 0, 5, 4, 5, 4, 2, 6, 4, 4, 4, 3, 2, 5, 2, 2, 1, 5, 5, 1, 2, 4, 1, 3, 6, 4, 6, 6, 2, 2, 4, 1, 0, 4, 4, 0, 2, 5, 4, 0, 5, 4, 4, 4, 4, 2, 1, 5, 2, 4, 4, 1, 1, 4, 2, 2, 2, 4, 5, 2, 4, 1, 2, 2, 3, 5, 4, 4, 2, 5, 0, 5, 5, 5, 4, 2, 0, 6, 3, 3, 1, 4, 5, 2, 2, 2, 4, 4, 4, 4, 2, 2, 0, 2, 2, 3, 6, 2, 3, 4, 2, 2, 6, 0, 0, 4, 4, 2, 0, 1, 0, 0, 0, 6, 2, 4, 0, 4, 2, 1, 4, 4, 4, 4, 4, 0, 5, 5, 3, 2, 0, 2, 6, 6, 4, 3, 5, 2, 1, 2, 1, 2, 2, 5, 0, 1, 3, 2, 2, 1, 0, 4, 0, 6, 4, 0, 4, 3, 6, 5, 2, 0, 3, 4, 1, 2, 4, 1, 4, 1, 4, 5, 4, 0, 2, 1, 6, 2, 4, 1, 4, 2, 2, 0, 4, 5, 2, 3, 2, 5, 4, 1, 6, 4, 5, 6, 0, 3, 2, 5, 2, 3, 2, 5, 0, 2, 2, 0, 2, 0, 2, 3, 6, 4, 1, 2, 2, 2, 4, 2, 4, 1, 5, 0, 2, 2, 5, 4, 4, 2, 0, 1, 6, 4, 5, 4, 0, 3, 4, 2, 1, 6, 2, 4, 4, 3, 6, 1, 5, 2, 2, 2, 5, 2, 5, 6, 4, 1, 4, 5, 4, 1, 5, 6, 4, 4, 6, 4, 3, 1, 2, 2, 1, 4, 1, 2, 5, 4, 2, 2, 3, 3, 4, 4, 2, 2, 0, 2, 2, 2, 5, 2, 2, 2, 1, 1, 0, 0, 1, 1, 5, 2, 2, 0, 2, 2, 6, 5, 1, 3, 1, 1, 4, 2, 1, 6, 5, 4, 2, 5, 3, 3, 4, 4, 6, 3, 6, 0, 4, 0, 3, 2, 5, 6, 2, 2, 2, 2, 1, 1, 2, 6, 1, 2, 5, 6, 4, 4, 1, 6, 0, 4, 2, 4, 2, 3, 2, 2, 5, 4, 4, 2, 3, 4, 4, 2, 0, 5, 6, 5, 4, 1, 2, 3, 6, 2, 4, 4, 4, 2, 3, 6, 2, 0, 0, 1, 4, 4, 5, 4, 1, 3, 1, 3, 3, 5, 5, 2, 5, 0, 4, 1, 4, 4, 5, 4, 4, 4, 6, 1, 6, 4, 4, 2, 4, 2, 6, 2, 2, 2, 2, 2, 2, 4, 4, 3, 2, 0, 5, 6, 6, 3, 4, 2, 6, 3, 1, 1, 5, 2, 2, 6, 4, 6, 1, 5, 5, 4, 5, 3, 0, 2, 2, 4, 5, 4, 4, 4, 5, 2, 3, 2, 4, 2, 4, 4, 2, 3, 1, 6, 5, 4, 4, 2, 5, 2, 2, 4, 2, 1, 4, 4, 2, 4, 2, 1, 6, 1, 2, 2, 1, 4, 3, 2, 2, 2, 5, 4, 2, 4, 5, 0, 5, 6, 4, 4, 4, 3, 4, 2, 0, 3, 6, 5, 3, 1, 4, 2, 2, 4, 2, 4, 2, 4, 2, 6, 3, 4, 1, 4, 4, 2, 5, 4, 3, 3, 5, 4, 1, 4, 4, 1, 1, 0, 2, 0, 1, 4, 4, 3, 0, 2, 2, 4, 4, 2, 4, 2, 6, 0, 3, 0, 2, 1, 2, 4, 2, 1, 3, 4, 2, 4, 4, 4, 4, 2, 5, 2, 2, 4, 2, 4, 4, 5, 4, 6, 2, 4, 5, 0, 6, 4, 2, 0, 4, 6, 2, 4, 2, 6, 4, 6, 1, 2, 4, 6, 2, 5, 4, 6, 2, 2, 2, 4, 6, 3, 3, 2, 1, 2, 1, 2, 5, 6, 1, 2, 2, 0, 5, 5, 4, 5, 1, 2, 4, 4, 4, 4, 4, 4, 1, 3, 0, 1, 2, 0, 6, 6, 5, 2, 4, 3, 5, 2, 4, 4, 4, 4, 6, 6, 4, 4, 2, 4, 4, 5, 5, 5, 4, 3, 2, 1, 2, 3, 4, 2, 2, 4, 4, 3, 6, 2, 2, 1, 5, 4, 2, 2, 4, 4, 4, 0, 0, 1, 3, 6, 6, 2, 4, 4, 6, 4, 2, 4, 4, 1, 3, 2, 4, 4, 2, 2, 1, 2, 2, 0, 0, 4, 4, 1, 4, 3, 4, 5, 5, 3, 2, 4, 2, 5, 4, 2, 0, 4, 6, 0, 4, 2, 1, 4, 1, 5, 5, 0, 2, 4, 5, 1, 0, 2, 1, 4, 1, 5, 3, 4, 0, 4, 3, 0, 2, 0, 6, 4, 1, 2, 2, 6, 1, 5, 5, 1, 1, 4, 4, 4, 2, 4, 2, 5, 4, 1, 5, 2, 4, 4, 6, 2, 4, 1, 2, 2, 0, 1, 0, 2, 1, 2, 0, 6, 2, 6, 2, 4, 2, 4, 3, 6, 6, 6, 2, 1, 2, 4, 4, 4, 5, 6, 4, 2, 6, 6, 1, 0, 5, 4, 4, 5, 6, 6, 2, 2, 3, 3, 1, 5, 5, 4, 2, 0, 2, 2, 2, 4, 4, 2, 4, 1, 2, 2, 6, 4, 5, 2, 4, 0, 4, 5, 2, 6, 5, 4, 6, 3, 5, 6, 0, 1, 4, 2, 5, 0, 1, 0, 4, 2, 3, 3, 4, 4, 1, 6, 0, 4, 2, 4, 3, 0, 2, 6, 4, 3, 3, 6, 0, 1, 2, 3, 3, 5, 6, 2, 4, 2, 4, 4, 4, 2, 5, 5, 2, 5, 6, 4, 4, 6, 5, 2, 0, 4, 4, 6, 2, 6, 4, 4, 2, 4, 1, 1, 2, 3, 2, 4, 1, 4, 1, 4, 4, 2, 6, 1, 6, 4, 0, 3, 2, 4, 0, 2, 1, 2, 2, 2, 0, 6, 4, 5, 0, 0, 4, 4, 4, 6, 5, 4, 2, 4, 5, 0, 1, 2, 2, 4, 5, 4, 3, 4, 4, 6, 4, 1, 3, 2, 4, 6, 6, 0, 4, 2, 1, 0, 4, 4, 1, 2, 4, 1, 1, 4, 1, 2, 6, 3, 0, 2, 2, 4, 6, 4, 0, 5, 4, 4, 4, 6, 2, 6, 4, 2, 4, 5, 4, 5, 2, 2, 5, 6, 4, 4, 3, 1, 2, 4, 4, 2, 2, 4, 2, 0, 0, 2, 5, 4, 2, 1, 4, 0, 4, 2, 4, 4, 1, 5, 4, 2, 4, 2, 2, 4, 0, 2, 4, 2, 2, 4, 1, 4, 3, 4, 4, 4, 3, 2, 2, 0, 4, 1, 5, 1, 2, 4, 3, 1, 2, 3, 0, 5, 4, 5, 2, 1, 2, 4, 4, 0, 4, 6, 4, 5, 5, 5, 4, 0, 4, 4, 2, 2, 2, 5, 2, 4, 4, 1, 4, 6, 0, 2, 4, 2, 2, 4, 2, 2, 6, 0, 2, 2, 4, 2, 2, 5, 2, 2, 2, 4, 0, 5, 1, 3, 4, 4, 2, 4, 5, 0, 5, 3, 6, 2, 0, 5, 1, 1, 5, 4, 4, 5, 1, 0, 5, 1, 4, 0, 1, 4, 3, 4, 4, 2, 2, 6, 2, 0, 4, 2, 3, 4, 3, 2, 4, 0, 0, 1, 4, 4, 4, 2, 5, 6, 5, 3, 1, 4, 4, 5, 3, 4, 2, 0, 4, 2, 2, 4, 2, 1, 3, 2, 2, 4, 2, 4, 6, 6, 2, 4, 2, 6, 1, 0, 4, 2, 4, 4, 4, 5, 6, 2, 3, 2, 0, 3, 6, 1, 3, 2, 1, 4, 2, 2, 4, 4, 5, 2, 4, 3, 3, 5, 5, 2, 2, 1, 4, 0, 2, 2, 3, 2, 2, 2, 1, 2, 4, 4, 1, 4, 2, 4, 2, 2, 1, 2, 5, 0, 5, 6, 5, 2, 2, 4, 2, 3, 2, 3, 4, 4, 5, 4, 0, 3, 4, 2, 5, 1, 4, 2, 2, 4, 4, 0, 2, 4, 4, 2, 2, 0, 4, 3, 2, 0, 4, 2, 1, 4, 2, 6, 1, 3, 6, 2, 2, 0, 1, 2, 3, 4, 2, 2, 3, 6, 0, 4, 2, 4, 2, 2, 4, 4, 4, 2, 4, 4, 3, 5, 4, 4, 2, 4, 2, 2, 3, 4, 2, 4, 4, 4, 2, 4, 2, 5, 5, 1, 6, 3, 3, 1, 2, 4, 4, 6, 5, 2, 6, 4, 4, 4, 2, 0, 4, 2, 2, 2, 0, 1, 1, 4, 0, 4, 2, 2, 4, 4, 3, 2, 2, 1, 4, 2, 2, 4, 5, 4, 2, 4, 2, 6, 4, 2, 4, 3, 1, 2, 2, 2, 4, 5, 1, 1, 0, 4, 5, 2, 0, 6, 3, 4, 2, 1, 3, 5, 4, 1, 4, 2, 1, 1, 4, 3, 4, 4, 4, 2, 2, 5, 4, 5, 4, 1, 4, 6, 6, 4, 2, 0, 5, 4, 1, 5, 4, 0, 1, 4, 2, 4, 4, 3, 2, 6, 6, 5, 2, 4, 4, 4, 4, 2, 1, 4, 2, 4, 4, 0, 2, 5, 0, 2, 4, 1, 4, 2, 2, 4, 4, 0, 3, 2, 1, 4, 2, 4, 5, 3, 2, 2, 2, 6, 1, 5, 3, 3, 4, 2, 3, 3, 2, 3, 1, 2, 6, 5, 4, 1, 4, 4, 4, 4, 2, 2, 4, 0, 2, 6, 1, 1, 4, 2, 4, 4, 3, 3, 4, 0, 2, 3, 6, 1, 2, 2, 0, 2, 3, 0, 4, 4, 6, 1, 6, 1, 4, 4, 2, 2, 2, 1, 6, 4, 0, 6, 3, 2, 4, 2, 5, 2, 2, 6, 6, 4, 2, 5, 1, 2, 0, 2, 4, 4, 2, 4, 5, 3, 3, 4, 3, 4, 4, 2, 2, 2, 6, 2, 4, 0, 2, 0, 2, 3, 3, 2, 6, 4, 1, 5, 0, 2, 1, 4, 2, 3, 0, 2, 5, 3, 4, 5, 1, 4, 4, 4, 3, 4, 4, 2, 2, 4, 4, 4, 3, 2, 6, 2, 4, 3, 4, 0, 6, 6, 1, 2, 1, 2, 0, 4, 5, 2, 2, 3, 2, 4, 2, 5, 2, 3, 1, 4, 4, 2, 5, 6, 4, 0, 1, 2, 5, 2, 2, 4, 1, 3, 0, 4, 5, 0, 4, 4, 0, 3, 2, 1, 5, 4, 4, 2, 2, 4, 2, 4, 2, 2, 2, 1, 3, 4, 2, 2, 5, 4, 2, 2, 5, 2, 2, 3, 2, 4, 2, 2, 0, 4, 5, 1, 3, 4, 1, 4, 2, 3, 2, 2, 4, 3, 0, 2, 3, 0, 4, 4, 2, 2, 1, 1, 4, 3, 2, 3, 3, 2, 6, 4, 4, 4, 2, 1, 4, 5, 5, 5, 1, 2, 4, 4, 2, 2, 4, 4, 3, 4, 4, 4, 3, 2, 2, 4, 4, 1, 0, 6, 5, 3, 4, 0, 5, 5, 4, 0, 1, 4, 3, 4, 2, 6, 4, 6, 2, 2, 4, 4, 4, 2, 5, 0, 2, 0, 4, 1, 4, 2, 4, 1, 0, 2, 4, 5, 4, 4, 1, 6, 2, 4, 2, 3, 3, 2, 4, 2, 4, 6, 5, 1, 4, 5, 2, 4, 4, 4, 4, 4, 6, 1, 2, 1, 6, 0, 0, 0, 6, 2, 4, 2, 5, 2, 0, 4, 0, 2, 6, 1, 6, 1, 5, 2, 2, 4, 2, 0, 3, 4, 2, 4, 6, 2, 6, 3, 6, 1, 3, 0, 2, 2, 2, 5, 2, 4, 4, 1, 4, 2, 4, 6, 6, 2, 5, 5, 2, 6, 4, 5, 1, 2, 4, 4, 2, 6, 6, 3, 2, 4, 2, 4, 4, 2, 1, 2, 2, 5, 4, 2, 3, 2, 4, 2, 2, 6, 5, 1, 1, 4, 2, 2, 0, 2, 5, 2, 2, 4, 2, 6, 2, 1, 3, 4, 0, 0, 2, 5, 0, 2, 1, 1, 4, 6, 2, 4, 2, 2, 0, 1, 4, 4, 4, 3, 4, 3, 4, 1, 1, 2, 4, 2, 2, 2, 0, 2, 2, 4, 4, 4, 2, 2, 0, 6, 4, 4, 1, 2, 3, 3, 0, 4, 4, 2, 6, 2, 0, 5, 2, 4, 5, 2, 2, 4, 4, 4, 2, 0, 0, 4, 2, 6, 4, 1, 4, 5, 4, 2, 4, 2, 2, 3, 0, 4, 4, 1, 1, 5, 4, 2, 2, 2, 4, 3, 0, 2, 6, 4, 2, 0, 4, 2, 2, 1, 2, 4, 2, 1, 5, 1, 1, 2, 3, 2, 2, 4, 0, 4, 2, 6, 1, 3, 5, 5, 1, 4, 2, 3, 6, 4, 1, 3, 4, 5, 6, 2, 4, 0, 3, 2, 0, 2, 5, 2, 2, 4, 4, 0, 6, 0, 3, 6, 4, 6, 6, 5, 2, 3, 4, 3, 4, 6, 3, 2, 3, 4, 2, 0, 2, 4, 4, 4, 2, 5, 6, 3, 1, 4, 4, 1, 3, 0, 5, 2, 2, 4, 0, 4, 2, 0, 1, 0, 3, 2, 0, 4, 5, 4, 2, 2, 4, 1, 2, 1, 3, 1, 6, 4, 2, 5, 0, 2, 2, 3, 2, 0, 5, 3, 6, 4, 3, 4, 3, 2, 6, 3, 6, 2, 1, 1, 4, 2, 3, 4, 4, 5, 3, 0, 4, 1, 3, 4, 2, 4, 1, 3, 0, 4, 2, 0, 2, 2, 2, 1, 4, 3, 2, 4, 4, 4, 1, 3, 0, 2, 1, 1, 5, 6, 0, 2, 4, 4, 3, 6, 2, 2, 3, 2, 0, 0, 4, 4, 6, 5, 1, 3, 4, 6, 6, 1, 2, 3, 1, 2, 5, 0, 6, 3, 2, 2, 4, 2, 1, 6, 5, 3, 0, 1, 4, 2, 2, 2, 6, 3, 2, 0, 4, 2, 4, 2, 5, 2, 5, 2, 5, 4, 5, 2, 4, 3, 4, 2, 4, 6, 2, 3, 2, 2, 4, 3, 2, 0, 4, 0, 5, 2, 4, 1, 1, 3, 0, 5, 1, 2, 3, 2, 3, 2, 1, 2, 2, 4, 1, 2, 4, 6, 3, 0, 2, 5, 5, 0, 1, 4, 5, 2, 5, 3, 6, 6, 0, 6, 1, 3, 0, 4, 1, 5, 4, 4, 4, 4, 0, 4, 4, 6, 2, 4, 5, 3, 0, 3, 0, 6, 5, 6, 4, 2, 0, 4, 0, 4, 2, 2, 2, 2, 1, 2, 0, 0, 6, 4, 4, 4, 6, 4, 3, 2, 2, 0, 6, 5, 4, 1, 5, 0, 0, 4, 4, 3, 4, 4, 4, 2, 6, 5, 4, 5, 4, 2, 1, 4, 0, 4, 5, 3, 4, 3, 1, 2, 1, 3, 4, 3, 3, 1, 4, 4, 3, 0, 4, 3, 2, 4, 4, 4, 2, 4, 4, 5, 5, 4, 2, 4, 2, 2, 4, 1, 6, 2, 4, 0, 6, 4, 2, 2, 1, 5, 4, 0, 4, 2, 2, 4, 4, 0, 2, 6, 4, 2, 6, 1, 3, 4, 6, 4, 4, 3, 2, 2, 2, 4, 3, 0, 0, 4, 3, 4, 2, 2, 6, 4, 2, 3, 3, 5, 6, 2, 2, 4, 2, 0, 5, 4, 4, 4, 2, 4, 5, 6, 6, 5, 0, 3, 2, 1, 5, 4, 2, 2, 6, 3, 4, 4, 2, 6, 0, 3, 2, 2, 4, 2, 2, 0, 4, 5, 4, 5, 1, 4, 2, 5, 2, 4, 4, 4, 2, 6, 0, 3, 2, 6, 2, 1, 0, 5, 2, 3, 1, 0, 0, 1, 6, 6, 4, 6, 2, 2, 4, 4, 3, 2, 4, 3, 2, 3, 4, 2, 0, 1, 4, 4, 4, 4, 2, 4, 6, 4, 0, 4, 2, 2, 4, 2, 0, 4, 4, 6, 2, 1, 2, 4, 2, 3, 2, 5, 0, 4, 4, 2, 3, 3, 5, 3, 4, 4, 2, 1, 5, 1, 1, 4, 5, 0, 3, 6, 2, 4, 4, 3, 5, 4, 4, 5, 3, 4, 1, 4, 5, 4, 4, 2, 5, 4, 1, 2, 2, 5, 6, 2, 2, 4, 3, 2, 2, 6, 4, 6, 2, 3, 4, 4, 6, 5, 2, 1, 4, 2, 1, 4, 2, 0, 5, 3, 4, 0, 4, 4, 0, 2, 3, 6, 3, 0, 5, 4, 3, 2, 6, 0, 2, 4, 3, 2, 2, 5, 5, 2, 5, 2, 1, 6, 4, 2, 4, 6, 1, 2, 5, 2, 2, 1, 3, 2, 4, 1, 6, 0, 5, 4, 4, 4, 0, 4, 1, 2, 5, 4, 1, 1, 4, 1, 4, 0, 3, 4, 1, 4, 4, 1, 4, 2, 4, 6, 3, 2, 6, 5, 0, 2, 6, 5, 2, 4, 2, 4, 5, 3, 2, 2, 1, 2, 4, 3, 2, 4, 0, 4, 2, 4, 4, 2, 0, 2, 5, 1, 2, 2, 2, 1, 5, 6, 0, 2, 1, 2, 5, 5, 3, 6, 5, 4, 2, 2, 4, 4, 5, 1, 1, 1, 4, 4, 4, 1, 4, 4, 4, 6, 5, 5, 3, 3, 6, 4, 2, 3, 4, 4, 6, 5, 3, 1, 4, 4, 0, 4, 4, 4, 6, 6, 4, 4, 0, 0, 0, 4, 4, 0, 2, 6, 6, 4, 0, 3, 2, 2, 1, 2, 3, 4, 6, 4, 5, 1, 0, 1, 4, 3, 0, 4, 3, 6, 3, 5, 6, 0, 5, 4, 4, 4, 2, 4, 1, 2, 1, 4, 4, 2, 1, 2, 1, 5, 5, 0, 4, 3, 2, 2, 0, 5, 0, 0, 4, 6, 3, 5, 4, 4, 0, 0, 4, 4, 1, 4, 6, 3, 1, 2, 1, 4, 2, 2, 6, 2, 2, 4, 5, 4, 4, 2, 4, 2, 4, 2, 2, 2, 4, 4, 2, 5, 1, 4, 3, 3, 1, 2, 6, 4, 5, 3, 6, 5, 6, 2, 2, 2, 4, 4, 4, 3, 2, 1, 4, 6, 0, 4, 6, 2, 1, 2, 2, 2, 3, 4, 1, 1, 0, 2, 4, 5, 0, 3, 4, 5, 4, 0, 1, 2, 4, 2, 4, 2, 4, 4, 4, 0, 2, 4, 2, 4, 6, 5, 4, 4, 5, 0, 5, 1, 2, 2, 1, 5, 1, 2, 4, 3, 0, 5, 1, 6, 4, 2, 1, 5, 4, 4, 3, 5, 2, 2, 2, 4, 2, 0, 4, 0, 5, 0, 5, 4, 4, 3, 5, 3, 1, 2, 1, 3, 5, 4, 1, 0, 4, 4, 1, 3, 0, 2, 6, 2, 2, 1, 2, 2, 2, 0, 4, 4, 4, 4, 6, 3, 2, 4, 0, 2, 4, 4, 1, 2, 6, 2, 4, 2, 2, 2, 1, 2, 4, 2, 3, 1, 2, 4, 3, 0, 4, 2, 3, 0, 4, 6, 2, 2, 0, 5, 4, 4, 4, 4, 1, 6, 2, 4, 4, 2, 1, 3, 4, 5, 2, 1, 4, 4, 2, 2, 1, 2, 0, 1, 1, 2, 6, 2, 5, 6, 0, 2, 4, 3, 2, 0, 0, 4, 2, 3, 4, 2, 2, 2, 3, 5, 1, 2, 2, 4, 0, 5, 4, 4, 4, 1, 4, 0, 3, 0, 2, 4, 6, 4, 2, 2, 6, 4, 2, 1, 4, 0, 5, 4, 4, 4, 4, 2, 4, 5, 1, 1, 4, 4, 3, 0, 5, 4, 2, 1, 4, 4, 2, 0, 6, 0, 4, 2, 0, 4, 6, 4, 4, 5, 2, 6, 0, 2, 4, 6, 5, 2, 2, 1, 5, 2, 4, 5, 5, 4, 4, 2, 3, 1, 4, 2, 5, 3, 2, 5, 0, 4, 4, 2, 4, 2, 2, 1, 4, 4, 1, 6, 1, 2, 4, 4, 3, 0, 5, 2, 3, 4, 3, 2, 0, 1, 3, 2, 4, 2, 0, 2, 4, 4, 5, 4, 2, 6, 2, 1, 2, 3, 1, 6, 0, 3, 6, 6, 4, 4, 4, 3, 3, 2, 0, 4, 1, 6, 6, 1, 4, 4, 5, 3, 2, 3, 4, 1, 1, 2, 4, 3, 2, 2, 4, 4, 4, 6, 2, 2, 4, 4, 1, 2, 5, 0, 4, 4, 4, 6, 4, 4, 2, 2, 5, 3, 4, 4, 4, 2, 1, 2, 4, 0, 6, 2, 6, 4, 4, 5, 2, 5, 5]\n",
      "[5, 6, 4, 4, 3, 2, 7, 6, 6, 4, 2, 2, 4, 4, 6, 3, 5, 3, 6, 6, 7, 2, 6, 4, 4, 2, 6, 6, 3, 4, 4, 3, 6, 2, 4, 4, 6, 4, 4, 4, 6, 6, 6, 6, 3, 7, 6, 4, 4, 4, 6, 4, 4, 4, 2, 3, 6, 4, 4, 4, 5, 2, 5, 4, 7, 3, 6, 2, 5, 6, 4, 7, 2, 6, 6, 4, 5, 4, 2, 6, 3, 2, 4, 7, 5, 4, 3, 3, 2, 6, 4, 6, 4, 5, 2, 2, 2, 6, 6, 4, 6, 6, 6, 7, 7, 6, 2, 2, 7, 7, 6, 2, 6, 2, 2, 2, 4, 5, 6, 4, 6, 7, 4, 4, 6, 2, 7, 6, 2, 2, 7, 4, 6, 4, 2, 4, 4, 4, 4, 4, 4, 2, 2, 2, 4, 6, 2, 6, 6, 4, 6, 5, 5, 5, 6, 4, 6, 6, 3, 5, 2, 6, 5, 6, 6, 6, 6, 2, 2, 6, 4, 6, 4, 6, 5, 3, 3, 6, 4, 6, 2, 3, 4, 6, 4, 6, 3, 4, 2, 6, 6, 6, 3, 4, 6, 4, 7, 6, 4, 3, 7, 2, 6, 6, 4, 3, 6, 4, 2, 6, 2, 3, 5, 3, 4, 6, 4, 2, 6, 4, 4, 6, 3, 6, 6, 7, 2, 5, 6, 7, 6, 2, 6, 3, 4, 6, 4, 6, 4, 5, 6, 4, 6, 6, 2, 2, 4, 4, 4, 5, 6, 6, 6, 7, 3, 2, 4, 2, 7, 2, 6, 5, 2, 2, 3, 2, 4, 4, 3, 5, 6, 6, 4, 5, 6, 6, 4, 2, 2, 4, 6, 7, 7, 3, 4, 7, 4, 6, 6, 2, 6, 6, 4, 5, 6, 6, 3, 2, 5, 6, 2, 5, 4, 6, 7, 2, 5, 5, 4, 6, 4, 2, 4, 2, 4, 6, 3, 2, 4, 4, 7, 6, 4, 5, 4, 4, 6, 2, 5, 2, 6, 6, 2, 4, 4, 6, 6, 7, 6, 4, 2, 4, 4, 2, 6, 5, 2, 4, 5, 4, 7, 2, 3, 2, 7, 4, 6, 2, 2, 6, 4, 2, 4, 6, 5, 4, 6, 6, 6, 4, 5, 7, 5, 4, 5, 7, 4, 6, 3, 2, 2, 6, 3, 4, 3, 2, 2, 5, 4, 6, 2, 6, 4, 4, 2, 5, 4, 6, 3, 2, 4, 4, 6, 4, 2, 3, 6, 3, 5, 2, 3, 2, 2, 5, 4, 4, 4, 6, 6, 4, 4, 4, 3, 2, 4, 7, 4, 2, 6, 6, 3, 2, 3, 4, 4, 2, 2, 4, 7, 4, 6, 4, 4, 4, 2, 6, 4, 4, 4, 6, 2, 2, 2, 2, 6, 2, 5, 3, 4, 2, 2, 6, 2, 6, 7, 6, 4, 4, 2, 2, 6, 5, 4, 4, 2, 4, 6, 6, 4, 7, 4, 4, 4, 2, 5, 5, 6, 4, 7, 6, 4, 2, 4, 7, 4, 6, 2, 5, 4, 4, 5, 6, 4, 3, 4, 7, 4, 4, 4, 6, 4, 4, 6, 6, 4, 4, 7, 6, 4, 4, 2, 2, 4, 6, 2, 4, 3, 4, 2, 6, 6, 4, 2, 6, 4, 2, 2, 6, 6, 6, 6, 6, 4, 4, 6, 6, 5, 3, 6, 5, 3, 4, 6, 6, 7, 3, 6, 7, 3, 4, 5, 2, 6, 6, 3, 7, 7, 6, 6, 4, 2, 7, 6, 3, 4, 4, 7, 2, 6, 4, 4, 4, 2, 4, 2, 4, 6, 7, 6, 4, 7, 7, 4, 4, 4, 2, 7, 4, 5, 6, 5, 3, 3, 6, 4, 6, 6, 4, 6, 6, 4, 2, 6, 4, 4, 5, 4, 5, 4, 2, 2, 6, 2, 4, 3, 6, 6, 7, 2, 4, 3, 6, 5, 6, 2, 6, 4, 4, 6, 2, 6, 4, 6, 6, 5, 6, 6, 2, 6, 2, 2, 6, 7, 4, 6, 7, 4, 3, 5, 5, 4, 4, 5, 6, 5, 7, 4, 6, 6, 4, 2, 4, 7, 2, 4, 5, 5, 6, 2, 2, 4, 4, 6, 7, 4, 4, 3, 4, 7, 4, 6, 2, 4, 4, 4, 6, 6, 3, 5, 6, 2, 6, 4, 2, 4, 7, 4, 7, 4, 4, 7, 3, 6, 4, 7, 6, 2, 6, 4, 2, 4, 3, 4, 5, 4, 6, 2, 7, 3, 6, 2, 7, 4, 6, 7, 4, 2, 6, 6, 6, 6, 6, 3, 6, 6, 7, 7, 6, 4, 4, 2, 6, 2, 6, 2, 4, 2, 6, 6, 2, 2, 2, 5, 6, 4, 7, 4, 4, 6, 6, 4, 7, 2, 4, 2, 2, 6, 6, 5, 6, 4, 6, 2, 2, 3, 4, 4, 4, 2, 5, 7, 2, 6, 6, 2, 6, 6, 2, 6, 4, 5, 5, 2, 2, 3, 2, 6, 2, 6, 7, 7, 5, 6, 2, 4, 3, 4, 4, 3, 4, 4, 6, 4, 6, 6, 4, 7, 4, 2, 6, 4, 5, 6, 6, 4, 5, 2, 4, 2, 6, 6, 4, 3, 6, 4, 7, 5, 7, 4, 4, 6, 3, 6, 2, 6, 4, 6, 6, 6, 7, 7, 7, 3, 7, 6, 3, 7, 3, 5, 2, 5, 4, 4, 5, 2, 6, 6, 4, 2, 7, 2, 2, 4, 7, 2, 4, 6, 5, 4, 4, 7, 2, 2, 4, 4, 6, 6, 4, 4, 7, 2, 6, 4, 6, 6, 4, 4, 4, 2, 6, 2, 7, 2, 4, 2, 4, 4, 5, 3, 6, 6, 2, 2, 2, 2, 6, 7, 6, 2, 2, 2, 5, 2, 6, 6, 4, 4, 5, 4, 4, 4, 6, 6, 4, 4, 2, 3, 4, 7, 2, 3, 7, 5, 3, 7, 2, 3, 6, 5, 6, 4, 4, 6, 5, 2, 4, 4, 6, 7, 4, 4, 2, 3, 6, 7, 3, 7, 3, 4, 3, 2, 3, 4, 7, 7, 7, 7, 3, 6, 4, 6, 7, 2, 6, 6, 2, 4, 3, 4, 6, 6, 6, 6, 7, 6, 6, 6, 7, 6, 5, 4, 5, 6, 3, 2, 4, 4, 2, 4, 6, 4, 2, 6, 6, 6, 5, 6, 2, 6, 5, 6, 6, 6, 4, 6, 4, 7, 6, 2, 4, 4, 6, 7, 4, 7, 6, 4, 4, 5, 6, 2, 2, 2, 7, 2, 2, 2, 7, 2, 2, 7, 4, 4, 5, 6, 6, 3, 3, 2, 4, 6, 3, 5, 6, 2, 6, 5, 4, 4, 2, 2, 3, 6, 2, 6, 4, 2, 3, 2, 4, 5, 6, 3, 3, 6, 6, 4, 5, 6, 4, 6, 2, 3, 7, 5, 4, 6, 6, 4, 2, 4, 4, 4, 6, 4, 5, 4, 7, 4, 2, 5, 6, 6, 6, 2, 2, 2, 6, 4, 6, 2, 4, 7, 6, 4, 6, 6, 3, 4, 2, 6, 2, 5, 4, 6, 7, 2, 4, 2, 2, 2, 4, 3, 4, 4, 6, 7, 4, 3, 4, 2, 2, 4, 4, 5, 6, 3, 6, 5, 5, 5, 5, 3, 6, 4, 4, 3, 2, 3, 2, 4, 4, 2, 6, 4, 6, 4, 7, 6, 2, 4, 5, 6, 6, 2, 4, 3, 6, 4, 4, 2, 3, 7, 2, 6, 4, 6, 5, 4, 2, 7, 3, 3, 2, 4, 6, 6, 6, 6, 6, 3, 6, 3, 4, 5, 5, 6, 7, 5, 7, 2, 6, 2, 6, 4, 4, 2, 2, 5, 2, 6, 3, 6, 2, 2, 6, 6, 5, 6, 4, 7, 4, 6, 6, 4, 6, 4, 6, 6, 4, 4, 4, 4, 6, 6, 2, 3, 2, 4, 7, 2, 3, 6, 7, 4, 3, 4, 7, 7, 6, 4, 2, 6, 4, 4, 4, 4, 3, 4, 4, 4, 6, 4, 2, 2, 6, 5, 6, 2, 4, 4, 4, 4, 6, 2, 6, 6, 6, 6, 3, 6, 6, 2, 6, 4, 7, 4, 2, 7, 2, 4, 6, 4, 6, 4, 7, 4, 4, 2, 4, 6, 2, 7, 4, 6, 4, 6, 4, 5, 2, 4, 6, 2, 6, 3, 2, 6, 4, 2, 6, 5, 3, 2, 4, 2, 2, 7, 5, 4, 3, 4, 2, 2, 4, 4, 6, 2, 4, 6, 3, 6, 4, 2, 6, 4, 4, 3, 4, 2, 6, 6, 6, 5, 4, 7, 4, 7, 6, 2, 3, 5, 6, 5, 4, 6, 6, 2, 6, 5, 6, 3, 2, 4, 3, 2, 2, 5, 6, 6, 2, 2, 5, 6, 7, 3, 4, 6, 3, 6, 5, 5, 2, 4, 4, 6, 4, 7, 4, 2, 2, 4, 2, 6, 4, 5, 7, 6, 2, 6, 7, 4, 6, 2, 2, 5, 4, 2, 2, 4, 6, 6, 4, 2, 4, 6, 6, 5, 6, 2, 2, 4, 6, 6, 4, 6, 4, 6, 2, 6, 6, 7, 6, 4, 6, 7, 5, 4, 7, 3, 4, 4, 3, 4, 2, 6, 3, 6, 6, 5, 6, 5, 5, 2, 4, 2, 4, 2, 5, 4, 4, 7, 6, 6, 2, 5, 2, 7, 6, 3, 6, 3, 6, 6, 6, 4, 2, 4, 2, 6, 7, 6, 3, 3, 7, 6, 7, 6, 2, 7, 2, 4, 4, 4, 7, 3, 6, 6, 4, 4, 4, 2, 6, 2, 2, 4, 7, 6, 3, 6, 4, 4, 2, 4, 5, 6, 6, 4, 4, 6, 6, 2, 6, 2, 7, 6, 4, 6, 6, 5, 6, 6, 4, 4, 6, 6, 3, 6, 4, 4, 5, 6, 4, 6, 7, 3, 4, 2, 2, 4, 7, 4, 6, 4, 6, 7, 6, 4, 3, 7, 2, 4, 6, 4, 6, 3, 4, 6, 5, 4, 6, 3, 6, 4, 5, 2, 6, 4, 6, 7, 6, 6, 7, 2, 6, 4, 6, 4, 4, 6, 7, 2, 4, 4, 6, 6, 3, 6, 4, 6, 4, 6, 6, 3, 6, 6, 4, 5, 2, 4, 3, 6, 2, 6, 4, 3, 5, 4, 4, 4, 6, 4, 6, 3, 3, 2, 5, 2, 2, 4, 2, 4, 2, 7, 7, 6, 4, 7, 4, 6, 6, 6, 2, 2, 6, 2, 5, 4, 6, 4, 6, 6, 7, 4, 2, 6, 4, 2, 7, 6, 6, 4, 6, 4, 5, 6, 7, 6, 3, 4, 5, 2, 4, 6, 6, 6, 4, 6, 6, 5, 4, 6, 4, 2, 6, 5, 4, 4, 4, 2, 6, 6, 7, 4, 3, 6, 6, 4, 2, 6, 7, 4, 6, 4, 4, 6, 3, 6, 2, 7, 4, 6, 7, 3, 2, 4, 7, 6, 6, 2, 7, 7, 6, 6, 2, 5, 6, 4, 6, 4, 6, 2, 6, 4, 6, 2, 4, 6, 6, 5, 6, 4, 6, 3, 2, 3, 4, 6, 6, 6, 5, 7, 4, 6, 4, 6, 4, 7, 4, 3, 5, 5, 4, 4, 6, 4, 2, 6, 7, 4, 2, 6, 6, 6, 4, 7, 4, 5, 6, 4, 4, 6, 4, 6, 2, 4, 4, 6, 4, 6, 2, 2, 2, 2, 2, 2, 2, 4, 2, 4, 2, 4, 2, 2, 2, 6, 4, 4, 2, 7, 4, 4, 4, 2, 7, 6, 7, 7, 6, 2, 2, 4, 4, 6, 6, 2, 6, 4, 6, 6, 4, 6, 5, 4, 2, 2, 4, 4, 3, 2, 6, 6, 4, 5, 5, 6, 5, 4, 4, 6, 5, 4, 3, 4, 2, 3, 6, 4, 2, 6, 4, 6, 2, 7, 7, 6, 6, 4, 6, 6, 6, 3, 6, 4, 6, 6, 4, 4, 3, 4, 2, 7, 4, 6, 6, 3, 4, 3, 4, 5, 6, 7, 4, 6, 2, 4, 6, 6, 6, 6, 4, 7, 7, 7, 5, 7, 4, 6, 4, 5, 5, 3, 6, 4, 3, 2, 4, 6, 4, 4, 2, 4, 6, 6, 4, 6, 5, 5, 7, 6, 6, 6, 4, 3, 3, 3, 2, 2, 6, 6, 2, 2, 3, 4, 6, 7, 2, 3, 2, 5, 4, 2, 3, 6, 7, 2, 4, 4, 5, 3, 4, 6, 2, 6, 4, 2, 4, 4, 5, 6, 2, 6, 5, 6, 5, 4, 2, 6, 6, 3, 4, 4, 6, 4, 4, 4, 7, 3, 6, 4, 6, 7, 4, 4, 4, 4, 2, 4, 4, 5, 3, 6, 4, 4, 7, 6, 4, 2, 7, 5, 3, 6, 2, 2, 4, 3, 4, 3, 2, 4, 6, 6, 6, 3, 5, 4, 4, 6, 3, 6, 2, 7, 2, 6, 6, 2, 6, 4, 4, 4, 7, 4, 7, 4, 4, 4, 3, 4, 4, 6, 3, 4, 3, 4, 2, 2, 6, 5, 6, 6, 6, 3, 4, 4, 6, 4, 6, 4, 6, 6, 4, 4, 6, 6, 4, 6, 6, 6, 4, 2, 4, 4, 3, 6, 2, 6, 6, 3, 3, 6, 4, 4, 7, 6, 3, 6, 4, 4, 2, 2, 7, 5, 6, 2, 7, 4, 5, 4, 6, 5, 6, 6, 6, 2, 2, 4, 4, 5, 4, 6, 2, 2, 4, 2, 2, 7, 6, 5, 4, 4, 4, 3, 6, 2, 3, 2, 7, 5, 6, 4, 6, 7, 2, 4, 6, 2, 2, 6, 4, 2, 3, 2, 6, 7, 4, 6, 6, 4, 7, 4, 6, 2, 4, 6, 5, 7, 2, 7, 2, 6, 3, 2, 7, 5, 5, 2, 4, 7, 4, 5, 4, 6, 6, 4, 6, 4, 4, 4, 4, 4, 4, 2, 6, 2, 5, 6, 5, 4, 7, 4, 6, 5, 4, 4, 4, 4, 3, 6, 6, 6, 6, 4, 5, 2, 2, 2, 6, 5, 2, 2, 6, 3, 3, 5, 5, 6, 3, 6, 2, 7, 6, 6, 4, 6, 4, 2, 4, 4, 4, 4, 2, 6, 2, 3, 7, 7, 7, 3, 4, 6, 7, 5, 4, 2, 6, 6, 3, 5, 7, 6, 4, 5, 6, 5, 6, 6, 3, 6, 4, 5, 7, 6, 2, 7, 4, 4, 5, 6, 6, 6, 6, 7, 7, 4, 4, 2, 2, 7, 6, 2, 2, 2, 4, 2, 5, 6, 3, 6, 2, 4, 2, 7, 4, 4, 2, 4, 2, 6, 4, 4, 5, 6, 4, 6, 6, 3, 2, 5, 6, 4, 5, 6, 4, 2, 3, 6, 3, 3, 4, 6, 6, 3, 6, 4, 6, 6, 3, 4, 5, 4, 6, 4, 6, 3, 2, 4, 2, 5, 7, 4, 2, 4, 6, 4, 2, 4, 4, 4, 4, 6, 4, 2, 6, 4, 2, 2, 6, 4, 2, 4, 4, 3, 5, 7, 3, 4, 3, 2, 2, 6, 4, 3, 3, 6, 2, 4, 7, 2, 4, 6, 4, 4, 7, 7, 4, 2, 4, 6, 6, 3, 4, 3, 5, 6, 3, 6, 6, 6, 6, 3, 6, 2, 4, 2, 2, 4, 2, 2, 7, 5, 6, 4, 2, 5, 4, 4, 3, 4, 4, 4, 2, 5, 2, 5, 2, 3, 4, 4, 2, 6, 7, 3, 4, 2, 5, 6, 3, 6, 4, 2, 4, 7, 6, 3, 7, 3, 6, 7, 6, 3, 7, 4, 6, 4, 5, 4, 3, 5, 7, 2, 3, 3, 3, 6, 6, 5, 6, 2, 4, 6, 3, 7, 2, 6, 3, 4, 2, 6, 4, 6, 2, 7, 6, 5, 4, 2, 2, 2, 5, 6, 2, 4, 2, 5, 7, 2, 4, 4, 5, 5, 2, 4, 4, 5, 2, 4, 4, 5, 4, 5, 6, 4, 4, 4, 2, 2, 4, 6, 5, 4, 7, 6, 6, 2, 6, 3, 5, 5, 4, 6, 5, 2, 6, 6, 5, 2, 2, 3, 3, 6, 6, 6, 3, 2, 6, 2, 5, 4, 2, 6, 6, 4, 7, 2, 2, 4, 4, 4, 7, 4, 4, 2, 2, 3, 4, 6, 3, 4, 2, 6, 4, 6, 2, 4, 6, 2, 7, 4, 3, 2, 7, 5, 2, 4, 4, 6, 2, 7, 2, 3, 2, 5, 2, 4, 3, 2, 6, 3, 4, 6, 4, 3, 4, 7, 7, 4, 7, 2, 4, 5, 6, 2, 7, 6, 7, 6, 6, 2, 4, 6, 7, 6, 4, 2, 4, 5, 2, 2, 3, 4, 4, 2, 4, 5, 4, 4, 2, 4, 5, 3, 2, 4, 4, 4, 4, 3, 7, 6, 6, 5, 5, 4, 3, 2, 4, 4, 6, 7, 4, 4, 4, 4, 6, 4, 2, 2, 7, 6, 4, 2, 2, 6, 6, 2, 5, 7, 3, 5, 2, 7, 6, 6, 4, 6, 7, 4, 4, 2, 6, 2, 2, 6, 6, 6, 3, 4, 4, 4, 2, 4, 4, 4, 6, 2, 7, 2, 2, 6, 7, 2, 4, 2, 6, 5, 7, 6, 6, 6, 6, 4, 6, 7, 2, 6, 4, 3, 4, 6, 4, 2, 6, 4, 6, 3, 2, 4, 6, 4, 2, 6, 2, 4, 2, 4, 2, 4, 3, 3, 4, 6, 4, 4, 5, 4, 2, 6, 6, 4, 5, 2, 4, 3, 6, 6, 6, 6, 2, 4, 5, 6, 4, 4, 4, 4, 4, 6, 4, 6, 4, 7, 5, 4, 4, 5, 3, 4, 6, 6, 3, 6, 3, 7, 2, 2, 3, 6, 4, 5, 7, 6, 6, 6, 5, 6, 2, 4, 7, 6, 3, 6, 6, 5, 6, 7, 2, 6, 7, 6, 4, 4, 2, 4, 5, 3, 4, 4, 2, 4, 6, 6, 4, 7, 2, 3, 2, 4, 2, 4, 4, 6, 6, 5, 6, 7, 7, 4, 4, 4, 4, 6, 4, 2, 7, 4, 6, 4, 6, 3, 6, 6, 5, 4, 7, 4, 6, 3, 2, 4, 7, 2, 3, 3, 4, 6, 6, 6, 4, 3, 4, 6, 4, 6, 2, 6, 3, 4, 6, 4, 2, 6, 4, 2, 6, 3, 6, 4, 3, 3, 3, 7, 5, 2, 3, 4, 3, 4, 4, 4, 6, 4, 5, 4, 3, 7, 6, 4, 2, 4, 2, 5, 4, 6, 2, 6, 2, 6, 6, 4, 4, 5, 3, 6, 6, 6, 2, 6, 6, 7, 7, 3, 7, 4, 6, 3, 2, 4, 4, 3, 6, 6, 4, 2, 4, 6, 4, 6, 3, 6, 2, 6, 2, 3, 4, 3, 2, 4, 2, 4, 6, 2, 4, 4, 3, 2, 4, 4, 4, 2, 6, 2, 2, 6, 5, 3, 7, 7, 7, 4, 5, 2, 6, 6, 6, 4, 4, 3, 4, 6, 6, 6, 4, 4, 6, 7, 7, 4, 4, 2, 2, 2, 6, 2, 4, 4, 7, 6, 6, 4, 4, 4, 3, 6, 3, 4, 6, 6, 4, 2, 6, 7, 4, 5, 3, 3, 3, 7, 5, 6, 3, 6, 2, 6, 4, 7, 6, 4, 3, 6, 4, 2, 6, 2, 5, 4, 2, 2, 6, 5, 5, 4, 2, 7, 4, 6, 6, 3, 5, 2, 4, 2, 6, 4, 6, 3, 7, 4, 6, 2, 7, 4, 6, 4, 4, 5, 4, 6, 4, 4, 4, 2, 4, 4, 3, 6, 6, 5, 6, 3, 7, 6, 6, 5, 4, 7, 4, 6, 6, 6, 6, 2, 7, 6, 4, 2, 6, 4, 2, 4, 4, 6, 6, 6, 7, 4, 4, 6, 6, 6, 7, 6, 4, 6, 2, 6, 6, 6, 4, 3, 4, 6, 3, 7, 2, 5, 4, 6, 4, 4, 5, 4, 4, 6, 7, 4, 4, 3, 6, 6, 2, 7, 6, 2, 4, 4, 4, 5, 7, 6, 7, 4, 5, 4, 5, 7, 4, 4, 6, 6, 4, 4, 4, 4, 3, 7, 6, 6, 2, 7, 4, 4, 2, 5, 6, 6, 2, 5, 2, 6, 3, 6, 4, 4, 3, 4, 5, 5, 4, 4, 4, 2, 3, 4, 7, 4, 3, 2, 3, 6, 6, 3, 3, 4, 3, 2, 6, 7, 6, 5, 3, 4, 4, 4, 4, 6, 6, 6, 4, 4, 5, 4, 6, 6, 2, 2, 2, 3, 4, 4, 4, 2, 2, 4, 6, 4, 7, 6, 6, 6, 4, 2, 4, 6, 6, 4, 6, 6, 6, 5, 4, 6, 2, 2, 5, 2, 2, 6, 2, 6, 4, 6, 6, 3, 6, 7, 5, 7, 6, 5, 4, 5, 6, 2, 5, 4, 6, 5, 7, 2, 2, 4, 5, 6, 4, 2, 2, 2, 7, 6, 2, 7, 3, 4, 4, 6, 4, 4, 4, 4, 4, 4, 5, 5, 6, 5, 4, 4, 4, 4, 5, 6, 2, 2, 5, 6, 2, 4, 6, 6, 6, 3, 4, 6, 4, 6, 2, 6, 4, 5, 5, 4, 4, 6, 6, 7, 4, 6, 4, 4, 6, 2, 3, 6, 7, 2, 6, 4, 6, 4, 5, 6, 4, 3, 4, 4, 6, 4, 6, 2, 2, 4, 5, 4, 6, 3, 4, 7, 4, 2, 4, 6, 5, 4, 3, 4, 2, 6, 2, 4, 4, 7, 5, 4, 5, 4, 6, 4, 2, 6, 2, 3, 4, 4, 6, 2, 6, 6, 5, 2, 4, 5, 2, 6, 6, 6, 4, 2, 4, 2, 6, 4, 6, 5, 6, 4, 6, 2, 6, 2, 6, 2, 3, 7, 2, 2, 4, 4, 6, 6, 7, 7, 2, 4, 4, 6, 2, 4, 2, 6, 4, 4, 6, 4, 3, 4, 4, 2, 2, 6, 4, 4, 4, 7, 3, 6, 3, 6, 3, 4, 7, 7, 3, 6, 7, 2, 4, 2, 3, 5, 6, 2, 4, 7, 2, 5, 6, 6, 2, 7, 6, 5, 6, 6, 4, 6, 4, 7, 7, 4, 4, 4, 4, 4, 3, 6, 6, 7, 2, 6, 4, 7, 4, 2, 7, 7, 2, 3, 3, 3, 4, 6, 7, 7, 4, 6, 6, 7, 4, 6, 3, 4, 5, 2, 6, 2, 6, 2, 6, 4, 7, 4, 2, 2, 6, 4, 4, 6, 4, 3, 6, 4, 5, 4, 5, 6, 4, 7, 6, 4, 7, 2, 4, 5, 4, 7, 3, 6, 4, 6, 4, 4, 5, 3, 2, 7, 4, 3, 2, 4, 2, 4, 4, 2, 2, 6, 4, 4, 4, 6, 7, 4, 4, 4, 5, 2, 4, 2, 6, 6, 2, 4, 6, 6, 7, 4, 4, 6, 4, 5, 2, 6, 4, 4, 4, 4, 4, 4, 2, 6, 4, 6, 2, 3, 6, 7, 2, 4, 6, 2, 2, 4, 2, 6, 6, 6, 6, 2, 4, 2, 3, 2, 4, 5, 5, 5, 2, 6, 2, 4, 4, 4, 2, 5, 6, 2, 5, 2, 4, 6, 2, 4, 4, 2, 3, 6, 6, 3, 4, 6, 2, 6, 2, 2, 4, 4, 5, 5, 6, 5, 4, 7, 5, 7, 7, 5, 4, 4, 2, 2, 2, 2, 3, 6, 6, 4, 7, 6, 4, 2, 7, 5, 6, 4, 5, 4, 6, 4, 7, 6, 3, 6, 4, 6, 2, 6, 6, 6, 4, 3, 6, 7, 5, 4, 7, 3, 2, 2, 6, 2, 3, 6, 3, 4, 6, 6, 2, 5, 4, 4, 6, 5, 4, 3, 6, 2, 3, 6, 6, 3, 6, 5, 4, 7, 6, 2, 7, 4, 4, 6, 4, 6, 4, 3, 2, 3, 7, 2, 6, 4, 5, 2, 6, 4, 5, 4, 4, 5, 7, 3, 7, 5, 3, 7, 7, 6, 2, 2, 3, 2, 3, 6, 2, 6, 3, 3, 5, 7, 4, 6, 2, 3, 4, 2, 2, 2, 5, 2, 5, 2, 2, 4, 6, 7, 4, 6, 7, 4, 4, 4, 4, 2, 2, 7, 2, 6, 2, 2, 4, 4, 4, 7, 7, 7, 3, 2, 6, 4, 5, 3, 6, 3, 2, 3, 3, 6, 2, 4, 2, 4, 4, 7, 6, 2, 5, 4, 3, 6, 6, 6, 2, 6, 6, 3, 3, 6, 3, 5, 6, 6, 2, 2, 2, 3, 2, 6, 4, 4, 6, 3, 6, 3, 4, 6, 4, 2, 3, 4, 5, 6, 3, 2, 4, 6, 6, 3, 3, 6, 7, 4, 2, 2, 6, 4, 5, 4, 6, 2, 4, 4, 5, 6, 4, 3, 6, 6, 6, 6, 5, 4, 2, 4, 6, 4, 4, 7, 7, 2, 4, 4, 4, 6, 2, 3, 6, 4, 5, 4, 4, 2, 2, 2, 6, 6, 4, 7, 6, 6, 4, 4, 6, 4, 2, 2, 7, 2, 2, 2, 4, 6, 5, 7, 7, 4, 2, 3, 6, 6, 3, 7, 6, 6, 3, 5, 6, 4, 4, 6, 5, 5, 5, 7, 2, 4, 4, 3, 7, 4, 4, 2, 2, 2, 2, 6, 4, 2, 6, 4, 2, 3, 2, 5, 6, 2, 4, 6, 2, 4, 6, 2, 7, 2, 4, 2, 2, 6, 3, 4, 4, 4, 6, 2, 6, 2, 2, 4, 6, 6, 3, 3, 4, 4, 4, 3, 6, 2, 6, 7, 7, 7, 6, 4, 5, 6, 6, 4, 6, 4, 2, 4, 6, 6, 4, 2, 6, 4, 4, 7, 4, 6, 7, 3, 6, 4, 4, 6, 6, 6, 4, 5, 2, 6, 4, 6, 6, 5, 6, 5, 6, 5, 2, 4, 5, 2, 3, 2, 6, 2, 3, 6, 4, 6, 6, 5, 4, 6, 2, 3, 2, 2, 6, 6, 4, 6, 6, 7, 4, 2, 6, 2, 4, 2, 4, 7, 2, 5, 6, 2, 5, 2, 4, 6, 6, 7, 6, 4, 3, 4, 5, 4, 2, 3, 4, 6, 3, 6, 7, 2, 4, 2, 2, 2, 2, 4, 6, 6, 3, 7, 3, 6, 6, 5, 2, 6, 4, 6, 5, 2, 2, 2, 6, 6, 4, 3, 2, 5, 6, 7, 3, 2, 4, 6, 2, 2, 4, 2, 6, 4, 6, 6, 4, 2, 4, 6, 3, 6, 7, 6, 4, 4, 4, 6, 4, 2, 2, 3, 4, 4, 4, 6, 4, 2, 2, 3, 7, 4, 6, 3, 6, 6, 4, 4, 7, 5, 3, 6, 4, 4, 4, 4, 4, 2, 4, 4, 7, 2, 2, 3, 2, 7, 2, 2, 2, 4, 2, 6, 6, 2, 5, 2, 4, 7, 2, 7, 6, 4, 2, 6, 6, 4, 2, 7, 2, 5, 6, 2, 6, 4, 4, 2, 4, 6, 2, 4, 5, 2, 3, 4, 3, 6, 6, 7, 4, 2, 4, 7, 6, 6, 6, 5, 4, 6, 2, 6, 4, 6, 7, 4, 5, 6, 2, 7, 2, 2, 6, 5, 3, 6, 7, 4, 3, 2, 6, 4, 6, 4, 7, 2, 4, 4, 4, 5, 6, 6, 4, 2, 6, 2, 2, 3, 7, 2, 6, 4, 7, 2, 2, 3, 6, 5, 3, 4, 4, 3, 3, 6, 5, 2, 6, 4, 5, 2, 4, 2, 5, 7, 6, 4, 6, 6, 6, 6, 6, 6, 7, 7, 3, 2, 4, 7, 6, 6, 3, 7, 7, 4, 5, 3, 2, 7, 4, 4, 6, 2, 2, 3, 3, 3, 6, 2, 3, 2, 2, 6, 6, 6, 4, 6, 7, 5, 4, 2, 5, 6, 4, 2, 2, 7, 4, 6, 2, 5, 6, 3, 3, 6, 6, 4, 4, 2, 3, 6, 2, 2, 2, 6, 4, 4, 4, 7, 2, 6, 4, 4, 3, 6, 4, 2, 2, 7, 6, 5, 6, 4, 7, 4, 7, 3, 6, 3, 3, 3, 3, 4, 2, 4, 3, 2, 3, 4, 2, 7, 6, 5, 5, 4, 4, 5, 3, 4, 4, 6, 4, 2, 6, 6, 3, 2, 6, 6, 5, 6, 6, 4, 6, 6, 6, 6, 4, 6, 3, 4, 4, 2, 5, 6, 2, 4, 6, 2, 4, 3, 2, 6, 4, 2, 4, 6, 6, 2, 6, 2, 6, 5, 2, 2, 4, 6, 3, 7, 5, 4, 5, 2, 2, 6, 6, 6, 5, 6, 2, 6, 2, 7, 3, 6, 4, 7, 2, 7, 3, 5, 2, 6, 6, 6, 6, 5, 6, 6, 5, 6, 4, 6, 4, 6, 4, 4, 3, 2, 7, 5, 4, 6, 2, 6, 6, 5, 4, 4, 2, 2, 2, 4, 6, 5, 5, 4, 6, 5, 6, 2, 4, 4, 7, 4, 3, 5, 3, 7, 2, 2, 2, 7, 2, 6, 6, 6, 6, 4, 4, 2, 2, 5, 2, 4, 4, 5, 6, 4, 4, 5, 5, 7, 6, 4, 4, 7, 6, 3, 6, 6, 6, 2, 3, 6, 3, 4, 2, 2, 3, 3, 4, 7, 6, 6, 4, 6, 6, 2, 4, 6, 4, 5, 3, 6, 4, 4, 6, 4, 7, 4, 2, 6, 6, 4, 6, 6, 6, 4, 6, 6, 2, 2, 2, 6, 6, 5, 6, 6, 4, 2, 6, 2, 7, 6, 2, 4, 6, 4, 4, 5, 4, 2, 5, 3, 6, 6, 2, 2, 4, 5, 5, 7, 6, 6, 4, 6, 6, 6, 4, 2, 4, 6, 4, 4, 6, 6, 3, 6, 4, 6, 6, 3, 3, 2, 2, 2, 3, 7, 3, 4, 6, 2, 4, 3, 4, 6, 6, 6, 3, 3, 6, 4, 4, 4, 4, 6, 6, 4, 5, 3, 5, 4, 6, 4, 3, 5, 2, 3, 3, 5, 4, 4, 6, 5, 6, 2, 6, 4, 4, 6, 2, 4, 4, 6, 7, 4, 3, 2, 4, 7, 6, 6, 4, 6, 6, 2, 6, 4, 7, 4, 5, 6, 7, 2, 5, 2, 7, 6, 2, 4, 2, 2, 4, 6, 3, 5, 4, 6, 5, 6, 4, 2, 5, 7, 4, 5, 6, 6, 6, 2, 6, 2, 7, 4, 4, 5, 4, 3, 5, 3, 6, 6, 6, 5, 6, 4, 6, 4, 3, 5, 7, 6, 6, 7, 6, 7, 6, 2, 4, 2, 6, 6, 2, 5, 4, 4, 4, 4, 2, 7, 4, 4, 4, 2, 6, 2, 4, 4, 5, 6, 2, 2, 2, 4, 5, 2, 4, 3, 3, 6, 2, 2, 6, 2, 4, 7, 4, 4, 2, 3, 7, 4, 3, 6, 6, 6, 6, 2, 2, 7, 3, 7, 6, 4, 2, 4, 6, 5, 5, 3, 6, 3, 4, 6, 3, 4, 6, 6, 2, 2, 5, 2, 3, 7, 4, 2, 5, 6, 6, 5, 2, 5, 7, 7, 4, 4, 6, 7, 4, 4, 4, 2, 5, 7, 6, 4, 4, 6, 7, 7, 4, 6, 7, 2, 6, 6, 2, 6, 6, 4, 7, 2, 3, 7, 2, 6, 6, 2, 6, 4, 6, 7, 2, 6, 6, 6, 6, 6, 4, 6, 7, 2, 6, 2, 4, 5, 7, 4, 5, 3, 2, 2, 2, 3, 6, 4, 4, 4, 4, 5, 4, 6, 2, 6, 3, 6, 2, 3, 5, 3, 7, 3, 7, 4, 4, 6, 2, 4, 2, 3, 4, 6, 4, 7, 6, 4, 2, 7, 2, 6, 2, 4, 4, 7, 6, 5, 4, 2, 6, 5, 3, 7, 7, 6, 6, 4, 3, 6, 6, 4, 7, 6, 4, 4, 7, 3, 2, 4, 4, 4, 2, 5, 2, 4, 6, 7, 2, 6, 6, 7, 4, 7, 6, 5, 7, 5, 2, 6, 4, 6, 7, 6, 4, 6, 4, 4, 6, 2, 4, 7, 6, 6, 2, 6, 5, 5, 4, 2, 5, 2, 6, 4, 4, 2, 2, 2, 6, 2, 5, 6, 2, 6, 5, 3, 6, 4, 2, 3, 5, 6, 6, 4, 4, 4, 6, 2, 3, 2, 6, 6, 4, 5, 7, 7, 6, 7, 4, 3, 2, 7, 6, 7, 2, 6, 4, 5, 5, 6, 5, 2, 4, 6, 3, 6, 6, 6, 4, 3, 4, 5, 2, 4, 2, 4, 3, 3, 6, 4, 5, 5, 4, 4, 3, 7, 4, 4, 5, 6, 4, 4, 2, 5, 2, 5, 2, 2, 4, 6, 4, 3, 6, 2, 6, 3, 4, 4, 6, 4, 6, 2, 7, 6, 6, 6, 2, 4, 2, 2, 6, 4, 7, 2, 3, 3, 6, 6, 6, 4, 4, 4, 4, 6, 2, 3, 6, 2, 3, 2, 2, 6, 7, 6, 6, 7, 7, 4, 4, 2, 4, 4, 4, 2, 7, 3, 4, 6, 4, 3, 5, 4, 6, 4, 5, 5, 4, 4, 4, 6, 6, 4, 6, 5, 6, 6, 6, 6, 4, 4, 7, 4, 3, 2, 6, 3, 6, 4, 6, 6, 7, 2, 6, 6, 7, 7, 2, 7, 6, 7, 4, 2, 6, 5, 4, 4, 4, 4, 6, 6, 2, 6, 3, 4, 2, 6, 4, 3, 2, 6, 5, 3, 5, 4, 6, 6, 2, 4, 4, 5, 3, 6, 2, 4, 4, 2, 2, 7, 7, 5, 6, 3, 5, 7, 2, 4, 5, 7, 7, 7, 4, 6, 2, 5, 2, 6, 4, 6, 2, 4, 2, 2, 4, 7, 2, 7, 3, 6, 3, 4, 6, 6, 4, 4, 4, 2, 4, 2, 6, 4, 4, 6, 2, 2, 4, 3, 2, 6, 2, 6, 7, 6, 7, 4, 4, 6, 4, 4, 6, 4, 2, 6, 4, 6, 2, 2, 4, 4, 6, 4, 6, 6, 6, 4, 4, 5, 7, 2, 7, 5, 2, 4, 6, 3, 4, 3, 2, 4, 4, 3, 6, 6, 4, 4, 2, 6, 2, 4, 7, 4, 7, 2, 7, 6, 7, 6, 5, 2, 6, 6, 6, 4, 6, 2, 6, 3, 5, 2, 4, 5, 5, 6, 7, 3, 6, 2, 2, 3, 7, 4, 4, 7, 2, 2, 6, 4, 2, 6, 4, 2, 5, 6, 6, 6, 3, 4, 3, 4, 4, 4, 6, 5, 7, 6, 4, 2, 5, 6, 5, 4, 4, 3, 5, 5, 4, 2, 2, 4, 6, 2, 4, 2, 5, 5, 3, 6, 3, 6, 7, 2, 2, 4, 3, 4, 7, 6, 2, 5, 4, 4, 4, 6, 4, 6, 6, 3, 4, 6, 5, 7, 6, 2, 5, 2, 3, 4, 6, 2, 4, 3, 3, 3, 4, 4, 7, 6, 6, 5, 7, 6, 6, 4, 5, 6, 3, 4, 6, 7, 2, 4, 2, 3, 2, 4, 2, 5, 4, 6, 2, 6, 5, 4, 6, 4, 4, 4, 5, 5, 7, 5, 6, 6, 3, 4, 6, 2, 6, 4, 6, 2, 5, 3, 2, 5, 6, 5, 4, 5, 5, 4, 2, 6, 3, 4, 3, 7, 6, 6, 2, 4, 6, 6, 6, 5, 4, 5, 6, 6, 5, 6, 6, 4, 5, 5, 4, 6, 6, 4, 4, 7, 4, 6, 7, 4, 5, 4, 2, 4, 6, 5, 7, 4, 4, 2, 7, 6, 7, 4, 6, 4, 4, 7, 5, 2, 3, 4, 4, 3, 7, 4, 5, 2, 6, 6, 2, 5, 6, 6, 4, 6, 3, 2, 4, 2, 2, 5, 6, 4, 6, 2, 4, 6, 6, 3, 3, 7, 4, 4, 4, 5, 2, 4, 6, 6, 6, 7, 4, 6, 3, 4, 4, 6, 5, 6, 2, 6, 6, 5, 4, 2, 4, 6, 4, 2, 2, 6, 6, 4, 3, 6, 6, 4, 4, 7, 2, 2, 2, 5, 6, 2, 4, 4, 4, 4, 2, 2, 2, 6, 7, 5, 6, 5, 5, 6, 2, 3, 6, 4, 4, 4, 2, 3, 5, 2, 2, 4, 3, 2, 2, 5, 4, 7, 6, 2, 3, 4, 6, 2, 2, 4, 2, 4, 3, 4, 6, 4, 2, 6, 4, 6, 2, 6, 7, 4, 6, 4, 5, 3, 6, 4, 6, 3, 4, 3, 7, 3, 6, 5, 6, 6, 4, 4, 6, 2, 2, 2, 6, 3, 7, 7, 2, 4, 2, 6, 6, 6, 2, 6, 4, 2, 4, 7, 2, 4, 5, 4, 7, 6, 6, 6, 4, 4, 3, 4, 4, 4, 7, 3, 6, 4, 6, 6, 3, 4, 2, 4, 6, 7, 6, 4, 2, 2, 3, 4, 6, 5, 4, 3, 4, 6, 2, 6, 2, 6, 6, 6, 4, 3, 3, 4, 6, 7, 3, 6, 3, 2, 6, 4, 3, 4, 6, 5, 4, 3, 4, 4, 4, 4, 3, 4, 2, 2, 6, 2, 6, 2, 2, 6, 2, 6, 4, 3, 6, 4, 4, 4, 6, 4, 6, 2, 3, 3, 3, 7, 3, 5, 6, 4, 5, 7, 4, 6, 3, 4, 5, 2, 6, 5, 4, 3, 2, 7, 6, 6, 6, 3, 2, 6, 4, 6, 4, 6, 6, 2, 2, 6, 2, 6, 6, 6, 2, 6, 4, 6, 2, 4, 6, 4, 7, 3, 2, 2, 4, 6, 4, 4, 4, 6, 4, 2, 6, 6, 5, 2, 2, 4, 4, 7, 4, 3, 4, 6, 2, 7, 6, 4, 7, 5, 7, 4, 6, 5, 2, 7, 6, 6, 2, 2, 3, 4, 6, 4, 6, 3, 6, 2, 6, 2, 4, 6, 6, 2, 4, 7, 2, 6, 7, 6, 3, 4, 3, 2, 4, 2, 4, 6, 2, 4, 6, 6, 4, 2, 7, 2, 5, 4, 6, 4, 6, 2, 7, 6, 3, 4, 4, 5, 6, 3, 6, 7, 7, 3, 3, 2, 6, 2, 4, 4, 6, 3, 3, 7, 4, 7, 3, 2, 6, 2, 4, 6, 5, 4, 2, 4, 6, 3, 6, 6, 2, 6, 6, 2, 6, 2, 2, 2, 6, 4, 5, 4, 2, 5, 6, 2, 7, 4, 6, 4, 6, 2, 4, 5, 6, 3, 5, 6, 6, 7, 3, 7, 6, 3, 4, 4, 6, 2, 6, 4, 2, 6, 5, 2, 4, 3, 4, 2, 6, 6, 2, 4, 4, 2, 6, 6, 6, 6, 6, 2, 4, 6, 2, 2, 4, 5, 2, 7, 4, 4, 6, 7, 2, 4, 6, 2, 3, 2, 4, 6, 4, 4, 5, 4, 6, 5, 2, 7, 3, 4, 6, 6, 4, 5, 6, 6, 6, 3, 6, 2, 6, 6, 6, 2, 2, 5, 5, 6, 2, 6, 4, 6, 4, 6, 7, 6, 2, 6, 7, 4, 3, 6, 6, 4, 6, 6, 3, 4, 6, 4, 3, 2, 4, 6, 4, 6, 2, 2, 6, 2, 6, 2, 6, 6, 2, 3, 2, 4, 6, 3, 5, 6, 4, 7, 7, 2, 6, 4, 6, 6, 6, 6, 5, 6, 2, 2, 4, 6, 6, 2, 6, 3, 7, 4, 3, 3, 3, 7, 6, 6, 6, 5, 2, 4, 3, 4, 2, 6, 7, 5, 5, 4, 6, 6, 7, 6, 6, 2, 4, 4, 2, 7, 7, 4, 2, 2, 2, 4, 4, 3, 6, 2, 6, 6, 4, 4, 6, 6, 4, 6, 6, 6, 2, 6, 7, 4, 2, 6, 3, 4, 6, 6, 6, 5, 6, 2, 4, 6, 3, 6, 2, 4, 2, 5, 6, 6, 4, 6, 6, 4, 4, 4, 6, 4, 7, 2, 4, 7, 3, 2, 2, 4, 6, 7, 4, 7, 4, 4, 6, 2, 4, 5, 5, 5, 6, 2, 6, 5, 6, 2, 6, 3, 6, 6, 6]\n"
     ]
    },
    {
     "data": {
      "image/png": "[encoded data removed]",
      "text/plain": [
       "<Figure size 640x480 with 1 Axes>"
      ]
     },
     "metadata": {},
     "output_type": "display_data"
    },
    {
     "name": "stdout",
     "output_type": "stream",
     "text": [
      "(8000, 4096)\n"
     ]
    }
   ],
   "source": [
    "# YOUR CODE HERE\n",
    "# >\n",
    "import numpy as np\n",
    "\n",
    "data = np.load('stars_train_X_y.npz')\n",
    "X = data['X_train'] #   np.ndarray of size (8000, 4096),  flattened image (64x64) of the night sky.\n",
    "y = data['y_train'] #   np.ndarray of size (8000, 2), number of circular stars and number square stars\n",
    "\n",
    "(X_train, X_temp, y_train, y_temp) = train_test_split(data['X_train'], data['y_train'], test_size=0.2, random_state=0, shuffle = True)\n",
    "(X_test, X_val, y_test, y_val) = train_test_split(X_temp, y_temp, test_size=0.5, random_state=0, shuffle = True)\n",
    "\n",
    "def shapePredList(inp, elm):\n",
    "    n = [round((t[elm])/2) for t in inp]\n",
    "    return n \n",
    "\n",
    "def shapeList(inp, elm):\n",
    "    n = [(t[elm]) for t in inp]\n",
    "    return n \n",
    "\n",
    "cLstTrain = shapePredList(y_train, 0)\n",
    "cLstTest = shapePredList(y_test, 0)\n",
    "sLstTrain = shapePredList(y_train, 1)\n",
    "sLstTest = shapePredList(y_test, 1)\n",
    "\n",
    "squareRealTest = shapeList(y_test, 1)\n",
    "circularRealTest = shapeList(y_test, 0)\n",
    "print(cLstTrain)\n",
    "print(sLstTrain)\n",
    "\n",
    "from matplotlib import pyplot as plt\n",
    "def plot():\n",
    "    y_values = cLstTrain[:100]\n",
    "    x_values = range(len(y_values))\n",
    "    plt.scatter(x_values, y_values)\n",
    "    plt.show()\n",
    "plot()\n",
    "\n",
    "print(X.shape)"
   ]
  },
  {
   "cell_type": "code",
   "execution_count": 60,
   "metadata": {},
   "outputs": [
    {
     "name": "stdout",
     "output_type": "stream",
     "text": [
      "MSE : 25.32875\n",
      "ACC : 0.1025\n"
     ]
    },
    {
     "data": {
      "text/plain": [
       "array([ 9., 10., 11., 11., 11., 10., 11., 10., 11., 10., 10., 11., 11.,\n",
       "       10., 10.,  9., 11., 11.,  8., 11., 10., 10.,  9., 11., 10., 11.,\n",
       "       10., 11., 10., 10., 11., 11., 11., 11., 10., 11.,  9.,  8., 11.,\n",
       "       11., 10., 11.,  9.,  9., 11., 10., 11., 11., 11., 10.,  8., 10.,\n",
       "       11., 11., 11., 11.,  8., 10., 11., 10.,  9., 10., 10., 10., 10.,\n",
       "       10., 10., 11., 10., 10., 10., 10., 10., 10., 11., 11., 10.,  9.,\n",
       "       10.,  9., 10.,  7., 10.,  8.,  9., 10., 11., 10.,  8., 11., 11.,\n",
       "       10.,  9.,  9.,  9., 10.,  8., 11., 11., 10.,  9., 11., 10., 10.,\n",
       "       10.,  8., 11., 11., 10., 10.,  9.,  7.,  9., 10., 10., 11., 10.,\n",
       "       11., 11., 11., 11., 10., 10., 10., 11., 10.,  9.,  7.,  9., 10.,\n",
       "       11.,  9., 11., 10., 10., 11., 11., 10., 10., 10., 10., 11.,  9.,\n",
       "       10., 10., 11., 11.,  9., 10.,  7., 10., 11.,  9., 10., 11.,  9.,\n",
       "       11.,  8., 10., 10., 10., 10., 11.,  9., 11.,  9., 11., 10., 11.,\n",
       "       10.,  9., 11., 11., 10., 11., 10., 11.,  8., 11., 11., 11.,  8.,\n",
       "        9.,  9., 11.,  9., 11.,  9., 10., 11., 11.,  9.,  9., 10., 10.,\n",
       "        7., 10.,  9., 10., 10., 11.,  7., 11., 10., 10., 10., 10., 11.,\n",
       "       10., 10.,  9., 10.,  9.,  9., 10., 10., 10., 10., 11., 10., 10.,\n",
       "        9., 10., 10., 10., 11., 10., 11., 10., 11.,  9., 11., 11., 10.,\n",
       "        9.,  9., 11., 10., 10., 10., 10.,  9., 11., 10., 11., 11.,  9.,\n",
       "       10., 10.,  7.,  9., 10., 10.,  9.,  8., 11., 10., 10.,  9., 11.,\n",
       "       11., 11., 10., 11., 11., 10., 10., 11.,  6., 11., 11.,  7., 10.,\n",
       "       10., 11.,  9., 11., 10., 10., 11.,  8., 10.,  9., 11., 10., 11.,\n",
       "       10., 11.,  9., 10., 11., 11.,  9., 11., 11., 10., 11., 10., 10.,\n",
       "        9., 11., 11., 10.,  9., 10., 11.,  8., 10., 10., 10., 10., 11.,\n",
       "       10., 11., 10., 11., 10., 11., 11., 11., 10., 11., 11., 11., 11.,\n",
       "        9., 10., 10., 11., 10., 11., 11., 10., 10., 10., 11., 10., 11.,\n",
       "       11., 11., 10., 10.,  9., 10., 11., 11., 10., 10.,  9., 10., 11.,\n",
       "       10.,  9., 10., 10., 10., 10., 10., 10., 10., 11., 11., 10., 10.,\n",
       "       10., 10., 10., 10., 11., 11., 11., 10., 11., 11.,  9., 10.,  9.,\n",
       "       11., 11.,  9., 11., 11., 11., 11., 10., 10., 10., 10., 10., 10.,\n",
       "        9., 11., 10., 11., 10., 10., 11.,  9., 11., 10., 11.,  9., 10.,\n",
       "       11., 10., 10., 10.,  8., 11., 10., 10., 11.,  8., 11.,  8.,  9.,\n",
       "       11., 11., 11., 10.,  9., 10., 10.,  9., 10.,  8.,  9.,  8.,  9.,\n",
       "       10.,  9.,  7., 10., 11., 11.,  9.,  9., 11., 11.,  7., 10., 11.,\n",
       "        9., 10., 11., 11., 11., 10., 10., 11., 10., 11., 11., 11., 10.,\n",
       "       10., 11., 11., 11., 10., 10., 11.,  9., 11., 11., 10., 10., 10.,\n",
       "       10.,  9.,  9.,  9., 11., 11.,  9., 11., 11., 11.,  9., 11., 11.,\n",
       "       11., 11., 11., 10., 10., 10., 10., 10., 11., 10., 11., 10., 10.,\n",
       "       10., 11., 11., 10., 11., 11., 11., 10.,  9.,  9.,  9.,  9.,  7.,\n",
       "       11.,  9., 11., 10., 10., 11., 11., 10., 11., 10., 10., 10., 11.,\n",
       "       10., 10., 10., 11., 11., 11., 10., 10.,  9., 10.,  8., 10., 11.,\n",
       "       11., 11., 10., 11., 11., 11., 11.,  9., 11., 10., 10.,  9., 11.,\n",
       "        9., 10., 10., 11., 11.,  9.,  9., 11., 11., 10.,  8., 10., 11.,\n",
       "       10., 11., 10.,  9., 11., 11., 11.,  9., 11., 10., 10.,  8., 10.,\n",
       "        8., 10.,  9.,  7., 11., 10., 10., 11., 11., 10., 10., 10., 11.,\n",
       "       11., 11.,  9.,  9., 10., 10.,  9.,  9., 11.,  9.,  9., 10., 10.,\n",
       "        8., 11., 11., 10., 10., 11., 11., 11., 11., 10., 11.,  8., 10.,\n",
       "       10., 11., 11., 11., 10., 10., 10., 11., 10., 10.,  9., 10., 10.,\n",
       "       10., 11.,  9.,  9., 10., 11., 11., 10., 11., 11., 11., 11.,  9.,\n",
       "       11., 10., 11.,  8., 11., 11., 11.,  9., 10., 11., 11.,  9., 10.,\n",
       "       11., 11., 11.,  9., 10., 10., 10., 11., 10., 11., 10., 10.,  9.,\n",
       "       11.,  7.,  9., 11., 10., 11., 11., 10., 11., 11.,  9., 11., 11.,\n",
       "       11., 11., 11., 11., 10., 11., 10., 10., 11., 10., 10., 10., 10.,\n",
       "       10.,  9.,  9., 10., 10., 10., 10., 10., 11., 11.,  8., 11., 11.,\n",
       "       10.,  7.,  9., 11., 11.,  9.,  9., 11., 10., 10.,  9., 11., 10.,\n",
       "       10., 11., 10., 11.,  9.,  8., 11., 10.,  8., 10.,  9., 10., 10.,\n",
       "        9., 10.,  9., 11.,  8.,  9., 10.,  9., 11.,  8., 10., 10., 11.,\n",
       "       10.,  9., 10., 10., 11., 10., 10., 10., 11., 10., 11., 10.,  9.,\n",
       "       10., 10., 11.,  9., 11., 11., 10., 11., 11.,  9., 11.,  9., 10.,\n",
       "       11.,  9., 11.,  8., 10., 11., 11., 10., 11., 11., 10., 10., 11.,\n",
       "       10.,  9.,  8., 11.,  9., 10., 11., 11.,  9., 10., 11., 11., 11.,\n",
       "        9., 10.,  7., 11., 10.,  9.,  7.])"
      ]
     },
     "execution_count": 60,
     "metadata": {},
     "output_type": "execute_result"
    }
   ],
   "source": [
    "import cv2\n",
    "import numpy as np\n",
    "from sklearn.preprocessing import MinMaxScaler\n",
    "from sklearn.preprocessing import Binarizer\n",
    "from sklearn.preprocessing import PowerTransformer\n",
    "\n",
    "## preprocessing\n",
    "def scaler(inp):\n",
    "    scaler = MinMaxScaler()\n",
    "    X_scaled = scaler.fit_transform(inp) \n",
    "    return X_scaled\n",
    "\n",
    "def PowerTransformerer(inp):\n",
    "    scaler = PowerTransformer()\n",
    "    X_transformed = scaler.fit_transform(inp)\n",
    "    return X_transformed\n",
    "\n",
    "#set grid search\n",
    "paramGrid = {\n",
    "    'penalty': ['l1', 'l2'],\n",
    "    'C': [0.1, 1, 10, 100]\n",
    "}\n",
    "\n",
    "#Cut list down\n",
    "testXtrain = PowerTransformerer(X_train)\n",
    "testYtrain = y_train\n",
    "\n",
    "testXtest = X_test\n",
    "testYTest = y_test\n",
    "\n",
    "#get y circ and sqr\n",
    "circTestYtrain = shapeList(testYtrain, 0)\n",
    "sqrTestYtrain = shapeList(testYtrain, 1)\n",
    "\n",
    "circTestYTest = shapeList(testYTest, 0)\n",
    "sqrTestYTest = shapeList(testYTest, 1)\n",
    "\n",
    "def predictCircular(trainX_, trainY_, testX_, testY_ ):\n",
    "    model = sklearn.linear_model.LogisticRegression(random_state=0, max_iter=1000)\n",
    "    #model_search = GridSearchCV(model, paramGrid, cv=5)\n",
    "    model.fit(trainX_, trainY_)\n",
    "    pred = model.predict(testX_)\n",
    "    MSE = mean_squared_error(testY_, pred)\n",
    "    ACC = accuracy_score(testY_, pred)\n",
    "    print(\"MSE : \" + str(MSE))\n",
    "    print(\"ACC : \" + str(ACC) )\n",
    "    return pred\n",
    "\n",
    "#Count circles\n",
    "predictCircular(testXtrain, circTestYtrain, testXtest, circTestYTest)"
   ]
  },
  {
   "cell_type": "code",
   "execution_count": 62,
   "metadata": {},
   "outputs": [
    {
     "name": "stderr",
     "output_type": "stream",
     "text": [
      "c:\\Users\\alx26\\anaconda3\\lib\\site-packages\\sklearn\\model_selection\\_validation.py:372: FitFailedWarning: \n",
      "20 fits failed out of a total of 40.\n",
      "The score on these train-test partitions for these parameters will be set to nan.\n",
      "If these failures are not expected, you can try to debug them by setting error_score='raise'.\n",
      "\n",
      "Below are more details about the failures:\n",
      "--------------------------------------------------------------------------------\n",
      "20 fits failed with the following error:\n",
      "Traceback (most recent call last):\n",
      "  File \"c:\\Users\\alx26\\anaconda3\\lib\\site-packages\\sklearn\\model_selection\\_validation.py\", line 680, in _fit_and_score\n",
      "    estimator.fit(X_train, y_train, **fit_params)\n",
      "  File \"c:\\Users\\alx26\\anaconda3\\lib\\site-packages\\sklearn\\linear_model\\_logistic.py\", line 1461, in fit\n",
      "    solver = _check_solver(self.solver, self.penalty, self.dual)\n",
      "  File \"c:\\Users\\alx26\\anaconda3\\lib\\site-packages\\sklearn\\linear_model\\_logistic.py\", line 447, in _check_solver\n",
      "    raise ValueError(\n",
      "ValueError: Solver lbfgs supports only 'l2' or 'none' penalties, got l1 penalty.\n",
      "\n",
      "  warnings.warn(some_fits_failed_message, FitFailedWarning)\n",
      "c:\\Users\\alx26\\anaconda3\\lib\\site-packages\\sklearn\\model_selection\\_search.py:969: UserWarning: One or more of the test scores are non-finite: [       nan 0.32234375        nan 0.31296875        nan 0.309375\n",
      "        nan 0.30625   ]\n",
      "  warnings.warn(\n"
     ]
    },
    {
     "name": "stdout",
     "output_type": "stream",
     "text": [
      "MSE : 2.09375\n",
      "ACC : 0.31\n"
     ]
    },
    {
     "name": "stderr",
     "output_type": "stream",
     "text": [
      "c:\\Users\\alx26\\anaconda3\\lib\\site-packages\\sklearn\\model_selection\\_validation.py:372: FitFailedWarning: \n",
      "20 fits failed out of a total of 40.\n",
      "The score on these train-test partitions for these parameters will be set to nan.\n",
      "If these failures are not expected, you can try to debug them by setting error_score='raise'.\n",
      "\n",
      "Below are more details about the failures:\n",
      "--------------------------------------------------------------------------------\n",
      "20 fits failed with the following error:\n",
      "Traceback (most recent call last):\n",
      "  File \"c:\\Users\\alx26\\anaconda3\\lib\\site-packages\\sklearn\\model_selection\\_validation.py\", line 680, in _fit_and_score\n",
      "    estimator.fit(X_train, y_train, **fit_params)\n",
      "  File \"c:\\Users\\alx26\\anaconda3\\lib\\site-packages\\sklearn\\linear_model\\_logistic.py\", line 1461, in fit\n",
      "    solver = _check_solver(self.solver, self.penalty, self.dual)\n",
      "  File \"c:\\Users\\alx26\\anaconda3\\lib\\site-packages\\sklearn\\linear_model\\_logistic.py\", line 447, in _check_solver\n",
      "    raise ValueError(\n",
      "ValueError: Solver lbfgs supports only 'l2' or 'none' penalties, got l1 penalty.\n",
      "\n",
      "  warnings.warn(some_fits_failed_message, FitFailedWarning)\n",
      "c:\\Users\\alx26\\anaconda3\\lib\\site-packages\\sklearn\\model_selection\\_search.py:969: UserWarning: One or more of the test scores are non-finite: [       nan 0.29359375        nan 0.28125           nan 0.278125\n",
      "        nan 0.2746875 ]\n",
      "  warnings.warn(\n"
     ]
    },
    {
     "name": "stdout",
     "output_type": "stream",
     "text": [
      "MSE : 3.33\n",
      "ACC : 0.3\n"
     ]
    }
   ],
   "source": [
    "#Code for circular predictions \n",
    "from sklearn.model_selection import GridSearchCV\n",
    "\n",
    "param_grid = {\n",
    "    'penalty': ['l1', 'l2'],\n",
    "    'C': [0.1, 1, 10, 100]\n",
    "}\n",
    "\n",
    "\n",
    "def predictCircular():\n",
    "    model = sklearn.linear_model.LogisticRegression(random_state=0, max_iter=1500)\n",
    "    model_search = GridSearchCV(model, param_grid, cv=5)\n",
    "    model_search.fit(X_train, cLstTrain)\n",
    "    pred = model_search.predict(X_test)\n",
    "    MSE = mean_squared_error(cLstTest, pred)\n",
    "    ACC = accuracy_score(cLstTest, pred)\n",
    "    print(\"MSE : \" + str(MSE))\n",
    "    print(\"ACC : \" + str(ACC) )\n",
    "    return pred\n",
    "\n",
    "def predictSquare():\n",
    "    model = sklearn.linear_model.LogisticRegression(random_state=0, max_iter=1500)\n",
    "    model_search = GridSearchCV(model, param_grid, cv=5)\n",
    "    model_search.fit(X_train, sLstTrain)\n",
    "    pred = model_search.predict(X_test)\n",
    "    MSE = mean_squared_error(sLstTest, pred)\n",
    "    ACC = accuracy_score(sLstTest, pred)\n",
    "    print(\"MSE : \" + str(MSE))\n",
    "    print(\"ACC : \" + str(ACC) )\n",
    "    return pred\n",
    "\n",
    "testCircPred = predictCircular()\n",
    "testSqrePred = predictSquare()"
   ]
  },
  {
   "cell_type": "code",
   "execution_count": 63,
   "metadata": {},
   "outputs": [
    {
     "name": "stdout",
     "output_type": "stream",
     "text": [
      "[[0], [0], [0], [1], [0], [0], [0], [1], [0], [0], [0], [0], [1], [1], [0], [0], [0], [0], [0], [0], [1], [0], [0], [0], [0], [1], [0], [0], [0], [0], [0], [0], [0], [1], [0], [1], [0], [0], [0], [0], [0], [0], [0], [0], [1], [0], [0], [0], [0], [0], [0], [0], [1], [0], [0], [0], [1], [0], [0], [0], [0], [0], [0], [1], [0], [0], [0], [0], [0], [0], [0], [0], [0], [0], [1], [0], [0], [0], [0], [0], [0], [0], [0], [0], [0], [0], [0], [0], [1], [1], [0], [0], [0], [0], [0], [0], [0], [1], [0], [0], [0], [0], [0], [0], [0], [0], [1], [0], [0], [0], [0], [0], [0], [0], [0], [0], [0], [0], [1], [0], [0], [0], [0], [0], [0], [0], [0], [0], [1], [0], [1], [0], [1], [0], [1], [0], [1], [0], [0], [1], [0], [0], [1], [0], [1], [0], [1], [0], [0], [0], [0], [0], [0], [1], [0], [0], [1], [0], [0], [0], [1], [0], [0], [1], [0], [0], [0], [0], [0], [0], [0], [0], [0], [0], [0], [0], [0], [0], [0], [0], [1], [1], [0], [0], [0], [0], [0], [0], [0], [0], [1], [0], [0], [0], [0], [0], [0], [0], [0], [0], [0], [0], [1], [0], [0], [0], [0], [0], [0], [0], [0], [1], [0], [0], [0], [0], [0], [0], [0], [0], [0], [0], [0], [0], [0], [0], [0], [0], [0], [0], [0], [1], [0], [0], [0], [0], [0], [0], [0], [0], [0], [0], [0], [1], [0], [0], [0], [0], [0], [1], [1], [0], [0], [1], [0], [0], [1], [0], [0], [0], [1], [0], [0], [0], [0], [0], [0], [0], [0], [0], [0], [0], [0], [0], [0], [1], [0], [0], [0], [0], [0], [0], [0], [0], [0], [0], [0], [0], [0], [0], [1], [0], [0], [0], [0], [1], [0], [0], [0], [0], [0], [1], [0], [0], [0], [0], [0], [0], [1], [0], [0], [1], [0], [0], [0], [0], [0], [0], [0], [0], [0], [0], [0], [0], [0], [0], [0], [0], [0], [0], [0], [0], [0], [0], [0], [1], [1], [0], [0], [0], [0], [0], [0], [0], [0], [0], [0], [1], [0], [1], [0], [0], [0], [0], [0], [0], [0], [0], [0], [0], [0], [0], [0], [0], [0], [1], [0], [0], [0], [0], [0], [0], [0], [1], [0], [1], [1], [0], [0], [0], [0], [1], [0], [1], [0], [0], [1], [0], [0], [0], [0], [0], [0], [0], [0], [0], [0], [0], [0], [0], [0], [0], [0], [0], [1], [1], [0], [0], [0], [0], [0], [0], [0], [0], [0], [0], [0], [1], [0], [0], [0], [0], [0], [0], [1], [0], [0], [0], [0], [0], [0], [0], [0], [0], [0], [0], [1], [1], [0], [0], [0], [0], [0], [0], [0], [0], [0], [0], [0], [0], [0], [1], [0], [0], [1], [0], [0], [0], [0], [0], [0], [0], [0], [0], [0], [0], [0], [0], [0], [0], [0], [0], [0], [0], [0], [0], [1], [0], [1], [0], [0], [1], [0], [0], [0], [1], [0], [0], [0], [0], [0], [0], [0], [0], [0], [0], [0], [0], [0], [0], [0], [0], [0], [0], [0], [0], [0], [0], [0], [0], [0], [1], [1], [0], [0], [0], [0], [0], [1], [0], [0], [0], [0], [0], [0], [0], [0], [0], [0], [0], [0], [0], [1], [0], [0], [1], [0], [0], [0], [0], [0], [0], [0], [0], [0], [0], [0], [0], [0], [0], [1], [0], [1], [0], [0], [0], [0], [0], [0], [0], [0], [0], [0], [0], [0], [0], [0], [0], [0], [0], [0], [0], [0], [0], [0], [0], [0], [0], [0], [1], [1], [0], [0], [0], [0], [1], [0], [0], [0], [0], [1], [1], [0], [1], [0], [0], [0], [0], [0], [0], [1], [0], [0], [0], [0], [0], [0], [0], [0], [0], [0], [0], [0], [1], [0], [0], [0], [0], [0], [0], [0], [0], [0], [1], [0], [0], [0], [0], [0], [0], [0], [1], [0], [1], [0], [0], [0], [0], [0], [0], [0], [0], [0], [0], [0], [0], [1], [0], [0], [0], [0], [1], [0], [0], [0], [0], [0], [0], [1], [0], [0], [0], [0], [0], [0], [0], [0], [0], [0], [0], [0], [0], [0], [0], [0], [0], [0], [0], [0], [1], [0], [0], [0], [0], [0], [0], [0], [0], [0], [0], [0], [0], [0], [0], [0], [0], [0], [0], [0], [0], [1], [0], [0], [0], [0], [0], [0], [0], [0], [1], [1], [0], [0], [0], [0], [0], [0], [0], [0], [0], [0], [0], [0], [0], [0], [0], [0], [0], [0], [1], [0], [0], [0], [0], [0], [0], [1], [0], [0], [1], [0], [0], [0], [0], [0], [0], [0], [0], [0], [0], [0], [0], [1], [0], [0], [0], [0], [0], [1], [0], [0], [0], [0], [0], [0], [0], [0], [0], [0], [0], [0], [0], [0], [1], [0], [0], [0], [1], [0], [0], [0], [0], [0], [1], [1], [0], [0], [0], [0], [0], [0], [0], [0], [0], [0], [0], [1], [0], [0], [0]]\n",
      "[[0], [0], [0], [0], [0], [0], [0], [0], [0], [0], [1], [1], [0], [0], [0], [0], [0], [1], [1], [0], [0], [0], [0], [0], [0], [0], [0], [0], [0], [1], [0], [1], [1], [1], [0], [1], [0], [1], [0], [0], [0], [1], [1], [0], [1], [0], [1], [0], [0], [1], [0], [0], [0], [0], [0], [0], [0], [0], [0], [0], [1], [0], [0], [1], [0], [1], [1], [0], [0], [0], [0], [0], [0], [0], [0], [0], [0], [0], [1], [0], [0], [0], [0], [0], [0], [0], [1], [0], [0], [1], [0], [0], [1], [0], [1], [1], [0], [1], [0], [0], [0], [1], [0], [0], [0], [0], [0], [1], [0], [0], [0], [0], [0], [0], [0], [0], [0], [0], [0], [0], [0], [0], [0], [0], [0], [0], [0], [0], [0], [0], [1], [0], [0], [0], [1], [0], [0], [0], [1], [1], [0], [0], [0], [0], [0], [0], [0], [0], [1], [0], [0], [0], [0], [1], [1], [0], [0], [0], [0], [0], [0], [1], [0], [1], [0], [0], [0], [0], [1], [0], [1], [0], [0], [0], [0], [0], [1], [0], [0], [0], [0], [1], [0], [0], [0], [0], [0], [0], [0], [1], [0], [0], [0], [0], [0], [0], [0], [0], [0], [1], [0], [0], [1], [0], [0], [1], [0], [1], [0], [1], [0], [0], [0], [0], [0], [1], [0], [1], [1], [0], [0], [0], [1], [0], [1], [0], [0], [0], [0], [0], [0], [1], [0], [0], [0], [0], [0], [1], [0], [0], [0], [0], [1], [0], [0], [1], [0], [0], [0], [0], [1], [0], [1], [0], [0], [0], [0], [0], [0], [0], [0], [0], [0], [1], [0], [0], [0], [0], [0], [0], [0], [0], [1], [1], [0], [1], [0], [1], [0], [0], [0], [0], [0], [0], [0], [0], [1], [0], [0], [1], [0], [0], [1], [0], [0], [0], [0], [0], [0], [0], [0], [0], [0], [0], [0], [0], [0], [0], [0], [0], [1], [0], [0], [0], [0], [0], [1], [0], [0], [1], [0], [1], [0], [1], [0], [0], [0], [1], [0], [0], [1], [0], [0], [0], [0], [0], [0], [0], [1], [0], [1], [0], [0], [0], [1], [1], [0], [1], [1], [0], [0], [0], [0], [0], [1], [0], [1], [0], [0], [0], [0], [0], [0], [0], [0], [0], [0], [0], [1], [0], [0], [1], [0], [0], [1], [1], [0], [0], [1], [0], [1], [1], [0], [0], [0], [1], [0], [0], [0], [0], [1], [0], [0], [0], [0], [0], [0], [0], [0], [1], [0], [0], [1], [0], [1], [0], [0], [0], [0], [0], [0], [0], [0], [1], [0], [0], [0], [1], [0], [0], [0], [0], [0], [0], [0], [0], [0], [0], [0], [0], [0], [1], [0], [0], [0], [0], [0], [0], [0], [0], [0], [0], [0], [0], [0], [1], [0], [0], [1], [0], [0], [0], [0], [1], [1], [0], [0], [0], [0], [1], [1], [1], [1], [0], [0], [0], [1], [0], [0], [1], [0], [0], [1], [1], [0], [0], [0], [0], [0], [1], [1], [1], [0], [0], [1], [0], [0], [0], [0], [1], [0], [0], [0], [0], [1], [0], [0], [1], [0], [0], [0], [1], [0], [0], [1], [0], [0], [0], [0], [0], [0], [1], [1], [0], [0], [0], [0], [0], [1], [1], [1], [0], [1], [1], [0], [1], [0], [0], [0], [0], [0], [0], [0], [0], [0], [1], [0], [0], [1], [0], [0], [0], [0], [1], [0], [0], [0], [0], [0], [0], [1], [1], [0], [1], [0], [1], [0], [0], [0], [0], [0], [0], [1], [0], [0], [0], [1], [0], [0], [0], [0], [0], [0], [0], [0], [0], [0], [1], [0], [1], [1], [0], [1], [1], [0], [0], [0], [0], [0], [1], [0], [0], [0], [1], [0], [0], [0], [1], [1], [1], [0], [0], [0], [0], [1], [1], [1], [0], [0], [0], [0], [0], [0], [0], [0], [1], [0], [0], [0], [0], [0], [0], [0], [0], [1], [0], [0], [0], [1], [0], [0], [0], [1], [0], [0], [0], [0], [0], [0], [0], [0], [0], [1], [0], [0], [0], [1], [0], [0], [0], [0], [0], [0], [1], [0], [0], [0], [0], [0], [0], [0], [0], [0], [1], [0], [0], [0], [0], [0], [0], [0], [0], [0], [1], [1], [1], [0], [0], [0], [0], [1], [1], [0], [1], [0], [0], [0], [1], [0], [0], [1], [0], [1], [0], [0], [1], [0], [0], [0], [0], [0], [0], [0], [0], [0], [0], [0], [0], [0], [1], [0], [0], [1], [0], [0], [0], [0], [0], [0], [1], [0], [0], [1], [0], [1], [0], [0], [0], [0], [0], [0], [0], [0], [0], [0], [0], [1], [0], [0], [1], [1], [0], [0], [0], [1], [1], [0], [0], [0], [0], [0], [0], [0], [0], [1], [0], [0], [0], [0], [1], [1], [1], [1], [1], [0], [0], [0], [0], [1], [0], [1], [1], [0], [1], [1], [0], [0], [1], [1], [0], [0], [0], [0], [0], [0], [0], [0], [0], [0], [0], [0], [0], [0], [0], [0], [0], [0], [1], [1], [0]]\n",
      "0.72125\n"
     ]
    }
   ],
   "source": [
    "def something(CircPred, SqrePred):\n",
    "    lst = []\n",
    "    for i in range (0, len(CircPred)):\n",
    "        if CircPred[i] > SqrePred[i]: \n",
    "            n = 1\n",
    "            lst.append([n])\n",
    "        else:\n",
    "            n = 0\n",
    "            lst.append([n])\n",
    "    return lst\n",
    "predictions = (something(testCircPred, testSqrePred))\n",
    "realValues = (something(circularRealTest, squareRealTest))\n",
    "\n",
    "print(predictions)\n",
    "print(realValues)\n",
    "print(accuracy_score(realValues, predictions))\n"
   ]
  },
  {
   "cell_type": "code",
   "execution_count": 25,
   "metadata": {},
   "outputs": [
    {
     "name": "stdout",
     "output_type": "stream",
     "text": [
      "[[0], [0], [1], [0], [1], [0], [0], [0], [0], [0], [1], [0], [0], [0], [0], [0], [0], [1], [0], [0], [0], [1], [0], [0], [0], [1], [0], [0], [0], [0], [0], [1], [0], [1], [0], [0], [0], [0], [0], [0], [0], [0], [0], [0], [1], [0], [0], [0], [1], [0], [0], [0], [1], [0], [1], [1], [0], [0], [0], [0], [0], [1], [0], [1], [0], [0], [0], [0], [0], [0], [0], [0], [0], [0], [0], [1], [0], [1], [1], [0], [1], [1], [0], [0], [0], [0], [0], [1], [1], [0], [0], [0], [1], [0], [0], [1], [0], [0], [0], [0], [0], [0], [0], [0], [0], [0], [1], [1], [0], [0], [0], [1], [0], [1], [1], [1], [0], [0], [0], [0], [0], [0], [0], [0], [0], [0], [0], [0], [1], [0], [0], [0], [0], [0], [1], [1], [0], [1], [0], [0], [0], [1], [1], [1], [1], [0], [1], [0], [0], [1], [0], [0], [0], [0], [0], [0], [0], [0], [1], [0], [1], [0], [0], [0], [0], [0], [0], [1], [0], [0], [1], [0], [0], [0], [0], [1], [0], [0], [0], [0], [1], [1], [0], [0], [0], [0], [0], [0], [0], [0], [0], [0], [1], [1], [0], [0], [0], [0], [0], [1], [0], [1], [0], [0], [0], [0], [0], [0], [1], [0], [1], [1], [0], [1], [0], [0], [0], [0], [0], [0], [0], [0], [1], [0], [0], [0], [0], [0], [0], [0], [0], [1], [0], [1], [0], [0], [0], [0], [1], [0], [0], [0], [0], [0], [1], [1], [0], [0], [0], [0], [0], [0], [0], [0], [1], [1], [1], [0], [0], [1], [0], [0], [1], [1], [1], [1], [1], [0], [0], [0], [0], [0], [0], [0], [0], [0], [0], [1], [0], [0], [0], [0], [0], [0], [1], [0], [0], [0], [0], [0], [0], [0], [0], [0], [0], [0], [1], [0], [0], [0], [1], [0], [0], [0], [0], [1], [0], [0], [0], [0], [0], [0], [1], [0], [0], [0], [0], [1], [0], [0], [0], [0], [0], [0], [0], [1], [0], [0], [0], [1], [0], [0], [0], [0], [0], [0], [0], [0], [0], [0], [1], [1], [0], [1], [0], [0], [1], [0], [0], [0], [0], [1], [0], [1], [0], [0], [0], [0], [0], [0], [0], [1], [1], [0], [0], [0], [0], [0], [0], [1], [0], [0], [0], [1], [0], [0], [0], [0], [0], [1], [1], [0], [1], [0], [0], [1], [1], [0], [0], [0], [1], [0], [1], [0], [1], [0], [0], [0], [1], [0], [0], [0], [0], [0], [1], [1], [0], [1], [0], [1], [1], [0], [1], [0], [1], [0], [0], [0], [0], [1], [0], [1], [1], [0], [0], [0], [1], [0], [0], [0], [1], [1], [1], [0], [0], [1], [1], [0], [0], [0], [0], [0], [0], [0], [0], [0], [0], [0], [0], [0], [0], [1], [1], [0], [0], [1], [0], [1], [1], [0], [0], [0], [1], [0], [0], [0], [0], [0], [1], [1], [0], [0], [1], [0], [0], [0], [0], [0], [0], [0], [0], [0], [0], [0], [0], [0], [0], [1], [0], [0], [1], [0], [0], [0], [0], [0], [1], [0], [1], [0], [0], [0], [0], [1], [0], [0], [0], [0], [0], [0], [1], [0], [0], [0], [0], [0], [0], [0], [0], [0], [1], [0], [0], [0], [0], [0], [1], [0], [0], [0], [0], [0], [1], [0], [0], [1], [1], [0], [0], [0], [0], [0], [0], [0], [0], [0], [0], [0], [0], [0], [0], [0], [0], [0], [0], [1], [0], [0], [1], [0], [0], [1], [0], [0], [1], [0], [0], [0], [0], [0], [0], [0], [0], [0], [0], [0], [0], [1], [0], [0], [0], [0], [1], [1], [0], [0], [0], [0], [0], [0], [0], [0], [0], [0], [0], [0], [0], [0], [0], [0], [0], [0], [0], [0], [0], [0], [0], [0], [0], [0], [0], [1], [0], [0], [1], [0], [0], [0], [0], [1], [1], [0], [0], [0], [1], [0], [0], [0], [1], [1], [1], [0], [0], [0], [0], [0], [0], [0], [0], [1], [0], [1], [0], [0], [0], [0], [0], [1], [0], [1], [1], [0], [0], [1], [0], [0], [0], [0], [0], [0], [1], [0], [0], [0], [0], [0], [1], [0], [0], [0], [0], [1], [0], [1], [1], [0], [0], [0], [0], [0], [1], [0], [0], [0], [1], [0], [1], [0], [0], [0], [0], [0], [0], [1], [0], [0], [0], [0], [0], [0], [1], [0], [1], [1], [0], [0], [0], [0], [0], [0], [0], [1], [0], [0], [0], [0], [0], [0], [1], [1], [0], [1], [0], [0], [0], [0], [1], [0], [1], [0], [1], [0], [0], [0], [0], [1], [1], [0], [0], [0], [0], [0], [1], [0], [0], [0], [0], [0], [1], [0], [0], [0], [1], [0], [0], [0], [1], [0], [0], [0], [1], [0], [0], [0], [0], [0], [0], [0], [0], [0], [0], [0], [1], [0], [1], [0], [0], [0], [0], [0], [0], [0], [1], [1], [1], [0], [0], [1], [0], [0], [0], [1], [0], [0], [0], [0], [0], [0], [0], [0], [0], [0], [1], [1], [1], [1], [0], [1], [0], [0], [0], [0], [0], [1], [0], [1], [1], [1], [0], [0], [0], [0], [0], [0], [0], [0], [0], [0], [0], [0], [0], [0], [0], [0], [0], [0], [0], [0], [1], [0], [0], [0], [0], [0], [0], [0], [0], [0], [0], [0], [0], [1], [0], [0], [0], [0], [0], [0], [0], [0], [0], [0], [0], [0], [0], [0], [0], [0], [0], [1], [0], [1], [0], [0], [1], [0], [0], [0], [1], [0], [1], [1], [0], [0], [1], [0], [0], [0], [0], [0], [0], [1], [0], [0], [0], [0], [0], [0], [1], [0], [1], [0], [0], [0], [0], [1], [0], [0], [0], [0], [0], [0], [0], [0], [1], [0], [0], [0], [1], [0], [0], [0], [1], [1], [1], [0], [0], [0], [1], [0], [0], [0], [0], [0], [0], [1], [1], [0], [0], [0], [1], [0], [0], [0], [0], [1], [1], [0], [0], [1], [1], [0], [0], [0], [0], [0], [0], [0], [0], [0], [1], [0], [0], [0], [1], [1], [0], [0], [0], [0], [0], [1], [0], [0], [0], [0], [0], [0], [0], [1], [1], [1], [0], [0], [0], [0], [0], [0], [0], [0], [0], [0], [0], [0], [0], [1], [0], [0], [1], [0], [0], [0], [0], [0], [0], [0], [0], [0], [0], [0], [0], [0], [0], [1], [0], [0], [0], [1], [1], [0], [1], [0], [0], [0], [0], [0], [0], [1], [0], [0], [0], [0], [0], [0], [0], [1], [0], [0], [1], [1], [1], [0], [0], [1], [0], [0], [0], [1], [0], [0], [1], [1], [0], [0], [0], [0], [0], [0], [1], [0], [0], [0], [1], [0], [0], [0], [1], [0], [1], [0], [0], [0], [0], [0], [1], [0], [0], [0], [0], [1], [0], [0], [0], [0], [0], [0], [0], [0], [1], [0], [0], [0], [0], [1], [0], [0], [0], [0], [0], [0], [0], [0], [0], [0], [0], [0], [0], [0], [1], [0], [0], [0], [0], [0], [0], [0], [0], [0], [0], [1], [0], [0], [0], [0], [1], [1], [1], [0], [1], [0], [1], [1], [0], [0], [0], [0], [0], [0], [1], [1], [0], [0], [0], [0], [0], [0], [1], [1], [1], [1], [1], [1], [1], [1], [0], [0], [0], [0], [1], [1], [1], [0], [0], [0], [0], [0], [1], [0], [0], [0], [0], [0], [1], [0], [0], [0], [1], [1], [0], [1], [0], [0], [0], [0], [0], [0], [1], [0], [0], [1], [0], [0], [0], [0], [0], [0], [1], [0], [1], [0], [0], [0], [0], [0], [0], [1], [0], [0], [0], [1], [0], [0], [0], [0], [1], [0], [0], [0], [0], [0], [1], [0], [0], [0], [0], [0], [0], [0], [0], [0], [1], [0], [0], [0], [0], [0], [0], [0], [0], [0], [0], [0], [0], [0], [1], [0], [0], [0], [0], [0], [0], [1], [0], [0], [0], [0], [0], [0], [0], [1], [0], [0], [0], [0], [0], [0], [0], [0], [0], [0], [0], [0], [0], [0], [1], [1], [0], [0], [0], [0], [0], [1], [0], [0], [0], [0], [1], [0], [0], [1], [1], [0], [1], [0], [1], [0], [0], [0], [1], [1], [1], [0], [1], [0], [0], [0], [0], [0], [0], [0], [0], [0], [0], [0], [0], [0], [0], [1], [0], [1], [0], [0], [0], [0], [1], [0], [0], [0], [0], [0], [0], [1], [0], [1], [0], [0], [0], [0], [0], [1], [1], [0], [0], [0], [1], [1], [0], [0], [1], [0], [0], [1], [1], [0], [1], [1], [0], [0], [0], [1], [0], [1], [1], [1], [0], [0], [0], [0], [0], [0], [0], [1], [1], [0], [0], [1], [0], [1], [1], [0], [0], [0], [0], [0], [0], [0], [0], [0], [0], [1], [0], [0], [0], [1], [0], [0], [1], [0], [0], [0], [0], [1], [0], [0], [1], [0], [0], [0], [0], [1], [0], [0], [0], [0], [0], [1], [0], [0], [0], [0], [0], [0], [0], [0], [0], [1], [0], [1], [0], [0], [1], [0], [0], [0], [0], [0], [0], [1], [0], [0], [0], [0], [1], [1], [0], [0], [1], [1], [1], [0], [0], [1], [1], [0], [0], [0], [0], [0], [1], [1], [0], [0], [0], [0], [0], [0], [0], [0], [0], [0], [0], [0], [0], [0], [0], [0], [0], [0], [1], [0], [1], [0], [0], [0], [0], [0], [0], [0], [0], [0], [0], [0], [0], [1], [1], [0], [0], [0], [0], [0], [0], [0], [0], [1], [0], [1], [0], [0], [0], [0], [0], [0], [0], [0], [0], [0], [0], [1], [0], [0], [0], [0], [1], [0], [0], [0], [0], [0], [0], [1], [0], [1], [1], [0], [0], [0], [0], [1], [0], [0], [1], [0], [0], [0], [0], [0], [0], [1], [0], [0], [1], [0], [1], [0], [0], [0], [0], [0], [0], [0], [1], [0], [0], [0], [0], [0], [0], [0], [0], [0], [0], [0], [1], [0], [0], [0], [0], [0], [0], [0], [0], [0], [0], [0], [1], [0], [1], [1], [0], [0], [0], [0], [0], [0], [0], [0], [1], [1], [0], [1], [0], [0], [1], [0], [0], [0], [0], [0], [0], [0], [1], [0], [0], [0], [1], [0], [1], [0], [0], [0], [0], [0], [1], [0], [0], [0], [0], [1], [0], [0], [1], [0], [0], [0], [0], [0], [0], [0], [0], [0], [0], [0], [0], [0], [0], [1], [0], [1], [0], [0], [0], [0], [0], [1], [0], [0], [0], [0], [1], [0], [0], [0], [1], [0], [1], [0], [1], [1], [0], [1], [0], [1], [0], [0], [0], [0], [0], [0], [0], [0], [0], [1], [1], [0], [1], [0], [0], [0], [1], [0], [0], [0], [0], [0], [0], [0], [0], [0], [0], [0], [0], [0], [0], [0], [0], [0], [0], [1], [1], [0], [0], [0], [0], [0], [0], [1], [0], [0], [0], [0], [0], [1], [0], [0], [0], [1], [0], [0], [1], [0], [0], [0], [0], [1], [0], [0], [0], [0], [0], [0], [0], [0], [0], [0], [0], [1], [0], [1], [0], [0], [0], [0], [0], [1], [0], [0], [0], [0], [0], [0], [0], [0], [0], [1], [0], [0], [0], [0], [1], [0], [1], [0], [0], [0], [1], [1], [0], [0], [0], [0], [0], [0], [0], [1], [1], [1], [0], [0], [0], [0], [0], [0], [0], [0], [0], [0], [0], [1], [1], [0], [0], [0], [1], [0], [0], [1], [0], [0], [1], [0], [0], [0], [0], [1], [0], [0], [0], [0], [0], [0], [0], [1], [0], [1], [0], [0], [0], [0], [0], [1], [0], [1], [1], [0], [1], [1], [0], [0], [0], [1], [0], [1], [0], [1], [0], [1], [0], [1], [0], [1], [0], [1], [1], [0], [0], [0], [0], [0], [0], [0], [0], [0], [0], [0], [1], [0], [0], [0], [0], [0], [0], [0], [1], [0], [1], [0], [1], [1], [1], [0], [0], [0], [0], [0], [0], [0], [0], [0], [0], [0], [0], [0], [0], [1], [0], [0], [0], [0], [0], [0], [0], [1], [0], [0], [0], [0], [0], [0], [0], [0], [1], [0], [1], [0], [0], [0], [1], [0], [1], [0], [0], [0], [0], [0], [0], [1], [0], [0], [0], [0], [0], [0], [0], [0], [0], [0], [0], [0], [0], [0], [0], [0], [0], [0], [0], [0], [0], [1], [0], [0], [0], [0], [0], [0], [1], [0], [0], [0], [0], [0], [1], [0], [0], [1], [0], [0], [0], [0], [0], [0], [0], [0], [0], [0], [1], [0], [0], [0], [0], [1], [1], [0], [0], [0], [0], [1], [0], [1], [0], [1], [0], [0], [0], [0], [0], [0], [0], [0], [0], [0], [0], [1], [0], [1], [0], [1], [0], [0], [0], [0], [0], [0], [0], [0], [0], [1], [0], [0], [1], [0], [0], [0], [0], [0], [0], [0], [0], [0], [0], [0], [0], [1], [1], [0], [0], [1], [0], [0], [0], [0], [0], [0], [0], [0], [0], [0], [1], [0], [0], [1], [0], [0], [1], [0], [1], [0], [0], [1], [0], [0], [0], [0], [1], [0], [0], [0], [0], [0], [0], [1], [0], [0], [0], [0], [1], [0], [0], [0], [0], [0], [1], [0], [0], [0], [0], [1], [1], [1], [0], [0], [0], [0], [0], [1], [1], [0], [0], [0], [0], [0], [1], [0], [0], [0], [1], [0], [1], [0], [0], [1], [1], [0], [0], [0], [0], [0], [0], [0], [0], [0], [0], [0], [0], [0], [0], [0], [0], [0], [0], [0], [0], [0], [0], [1], [0], [1], [1], [1], [1], [0], [0], [0], [0], [0], [1], [0], [0], [0], [0], [0], [0], [0], [1], [0], [1], [0], [0], [0], [0], [1], [0], [0], [0], [0], [0], [0], [0], [1], [1], [0], [0], [0], [1], [1], [0], [0], [0], [0], [1], [0], [0], [1], [1], [0], [1], [0], [0], [0], [1], [1], [0], [0], [0], [0], [0], [0], [0], [0], [0], [0], [0], [0], [0], [0], [0], [0], [0], [1], [0], [1], [0], [0], [0], [0], [1], [0], [0], [0], [0], [0], [0], [0], [0], [0], [0], [0], [1], [0], [0], [0], [0], [0], [1], [0], [0], [0], [0], [0], [0], [0], [0], [0], [0], [0], [0], [0], [0], [0], [0], [0], [0], [0], [1], [1], [1], [0], [0], [0], [0], [0], [1], [1], [0], [0], [0], [1], [0], [0], [0], [0], [0], [1], [0], [0], [1], [1], [0], [0], [0], [1], [0], [0], [0], [0], [0], [0], [0], [0], [0], [0], [0], [1], [1], [0], [0], [1], [0], [0], [0], [0], [0], [0], [0], [0], [0], [0], [0], [0], [0], [0], [0], [1], [0], [0], [0], [0], [0], [0], [0], [0], [0], [0], [1], [0], [0], [0], [0], [0], [1], [1], [0], [1], [0], [0], [0], [1], [0], [1], [0], [0], [0], [0], [1], [0], [0], [0], [0], [0], [1], [0], [0], [0], [0], [0], [1], [0], [0], [0], [0], [0], [0], [0], [1], [1], [0], [1], [1], [0], [0], [0], [0], [0], [1], [0], [0], [0], [0], [0], [0], [0], [0], [0], [0], [1], [1], [0], [0], [0], [0], [0], [0], [0], [0], [0], [0], [1], [1], [0], [0], [0], [0], [0], [0], [1], [1], [0], [0], [1], [1], [0], [0], [0], [0], [1], [0], [1], [1], [1], [0], [0], [1], [0], [0], [1], [1], [0], [1], [0], [0], [0], [0], [0], [0], [0], [1], [0], [0], [0], [0], [0], [1], [0], [0], [1], [0], [0], [0], [0], [0], [0], [1], [0], [0], [1], [0], [1], [1], [0], [0], [0], [0], [1], [0], [0], [0], [0], [1], [1], [0], [1], [0], [0], [0], [1], [0], [0], [0], [1], [0], [0], [1], [0], [1], [0], [0], [0], [0], [0], [1], [0], [0], [0], [0], [0], [0], [0], [0], [0], [0], [0], [0], [0], [0], [0], [0], [1], [0], [0], [0], [0], [1], [0], [0], [0], [0], [0], [1], [1], [0], [0], [0], [1], [0], [0], [0], [0], [0], [1], [0], [0], [0], [0], [0], [1], [1], [1], [1], [0], [0], [1], [0], [0], [0], [0], [0], [1], [1], [0], [0], [1], [0], [0], [0], [0], [0], [0], [0], [0], [0], [0], [0], [0], [1], [1], [0], [1], [0], [0], [0], [0], [0], [0], [0], [0], [0], [0], [0], [0], [0], [0], [1], [0], [0], [0], [0], [1], [1], [0], [0], [0], [0], [1], [1], [0], [1], [0], [0], [0], [0], [0], [1], [0], [0], [0], [0], [0], [0], [0], [1], [0], [1], [0], [0], [0], [0], [1], [0], [0], [0], [0], [0], [1], [1], [0], [0], [0], [0], [0], [0], [0], [0], [1], [0], [0], [0], [0], [0], [1], [1], [0], [0], [1], [0], [0], [1], [0], [0], [1], [0], [0], [1], [0], [0], [0], [0], [0], [1], [0], [0], [0], [0], [0], [0], [0], [0], [0], [0], [0], [0], [0], [0], [0], [1], [1], [0], [1], [1], [1], [0], [0], [1], [1], [0], [0], [0], [0], [1], [0], [0], [1], [0], [1], [0], [0], [1], [0], [0], [0], [0], [0], [1], [0], [0], [0], [1], [0], [0], [0], [1], [1], [0], [0], [1], [1], [0], [0], [0], [0], [1], [0], [0], [0], [0], [0], [0], [1], [0], [0], [0], [0], [0], [0], [0], [0], [0], [0], [1], [0], [0], [1], [0], [0], [0], [1], [1], [0], [0], [1], [1], [0], [0], [0], [1], [0], [1], [1], [0], [0], [1], [0], [1], [0], [0], [0], [0], [0], [0], [0], [0], [0], [0], [0], [0], [0], [0], [1], [0], [0], [1], [0], [0], [0], [0], [1], [0], [0], [0], [1], [0], [1], [0], [1], [0], [1], [0], [1], [0], [0], [0], [0], [0], [0], [1], [1], [0], [0], [0], [0], [1], [1], [0], [0], [0], [0], [0], [0], [0], [0], [0], [0], [0], [0], [1], [1], [0], [0], [0], [0], [0], [0], [1], [1], [0], [0], [0], [0], [0], [0], [0], [0], [0], [0], [1], [0], [0], [1], [0], [0], [0], [0], [0], [0], [0], [0], [0], [0], [0], [0], [0], [0], [0], [0], [0], [0], [0], [0], [0], [1], [1], [1], [0], [0], [0], [0], [1], [1], [1], [0], [0], [0], [0], [1], [0], [0], [0], [0], [0], [1], [0], [0], [0], [0], [0], [0], [1], [0], [0], [0], [0], [0], [1], [0], [0], [0], [0], [0], [0], [0], [0], [0], [0], [0], [0], [0], [0], [1], [0], [0], [0], [1], [1], [0], [0], [0], [0], [0], [0], [1], [0], [0], [0], [1], [0], [0], [0], [0], [0], [0], [0], [0], [1], [0], [1], [0], [0], [0], [0], [0], [0], [0], [0], [1], [0], [1], [1], [0], [1], [0], [0], [0], [0], [0], [0], [0], [0], [0], [0], [0], [0], [0], [0], [1], [0], [0], [0], [0], [0], [0], [0], [0], [0], [0], [0], [1], [0], [0], [0], [0], [0], [0], [0], [0], [0], [1], [1], [0], [0], [0], [0], [1], [1], [0], [0], [0], [0], [0], [0], [0], [0], [1], [0], [0], [1], [1], [0], [1], [1], [0], [1], [1], [1], [0], [0], [0], [0], [1], [1], [0], [1], [1], [0], [0], [0], [0], [0], [0], [0], [0], [0], [0], [0], [0], [0], [0], [1], [1], [0], [0], [0], [0], [0], [0], [0], [0], [0], [1], [1], [1], [0], [0], [1], [0], [0], [0], [0], [0], [0], [0], [0], [1], [0], [1], [0], [0], [0], [0], [0], [0], [0], [0], [0], [0], [1], [0], [0], [0], [0], [1], [0], [1], [0], [0], [0], [0], [0], [1], [0], [0], [1], [0], [0], [0], [1], [1], [0], [0], [0], [0], [0], [1], [0], [1], [0], [0], [0], [0], [0], [0], [1], [0], [0], [0], [1], [0], [0], [0], [1], [0], [0], [0], [0], [0], [0], [0], [0], [0], [0], [0], [1], [0], [0], [0], [0], [0], [0], [0], [0], [0], [0], [0], [0], [0], [0], [0], [0], [0], [0], [0], [1], [0], [0], [0], [1], [0], [0], [0], [0], [1], [0], [0], [0], [0], [0], [0], [0], [0], [0], [0], [0], [0], [0], [1], [0], [0], [0], [0], [0], [1], [0], [0], [0], [1], [0], [0], [0], [0], [0], [0], [1], [0], [0], [0], [0], [0], [0], [0], [0], [1], [0], [0], [0], [1], [1], [0], [0], [0], [0], [0], [1], [0], [0], [0], [0], [0], [0], [0], [0], [0], [1], [0], [0], [0], [0], [0], [0], [0], [0], [0], [1], [1], [0], [0], [0], [1], [0], [0], [0], [0], [0], [0], [0], [1], [0], [0], [0], [0], [1], [0], [0], [0], [0], [0], [0], [1], [0], [1], [0], [0], [0], [1], [1], [0], [1], [0], [0], [0], [0], [1], [0], [1], [1], [0], [0], [0], [0], [0], [0], [0], [1], [0], [0], [0], [0], [0], [0], [0], [0], [1], [1], [0], [0], [0], [0], [0], [0], [0], [0], [1], [0], [0], [0], [0], [0], [0], [0], [0], [0], [1], [0], [1], [1], [0], [1], [1], [0], [0], [0], [0], [0], [0], [0], [0], [0], [0], [0], [0], [0], [1], [0], [0], [1], [0], [0], [0], [0], [0], [0], [1], [1], [0], [0], [1], [1], [1], [0], [0], [0], [0], [0], [0], [0], [1], [0], [0], [0], [0], [0], [0], [0], [0], [0], [0], [0], [0], [0], [1], [0], [0], [0], [0], [0], [0], [0], [0], [0], [0], [0], [0], [0], [0], [0], [1], [0], [0], [0], [0], [0], [0], [0], [0], [0], [0], [0], [0], [0], [0], [0], [0], [1], [1], [0], [0], [0], [0], [0], [0], [0], [0], [0], [0], [0], [0], [0], [0], [0], [0], [1], [0], [0], [0], [1], [0], [1], [0], [0], [0], [1], [0], [0], [0], [0], [0], [0], [1], [0], [1], [0], [0], [0], [0], [0], [0], [1], [0], [1], [1], [0], [0], [0], [1], [0], [0], [1], [0], [0], [0], [1], [0], [0], [0], [0], [0], [0], [1], [1], [0], [1], [0], [0], [0], [0], [0], [0], [0], [0], [0], [0], [0], [1], [1], [0], [1], [1], [1], [0], [0], [0], [0], [0], [1], [0], [1], [0], [0], [0], [0], [0], [0], [0], [0], [0], [0], [0], [1], [1], [1], [0], [0], [0], [1], [0], [0], [0], [1], [0], [0], [1], [0], [0], [0], [0], [0], [1], [1], [1], [0], [0], [0], [1], [1], [0], [1], [0], [0], [0], [1], [0], [0], [0], [0], [0], [0], [0], [0], [0], [0], [0], [0], [0], [1], [0], [0], [0], [0], [0], [1], [0], [0], [0], [0], [0], [0], [0], [0], [0], [0], [1], [0], [0], [0], [0], [1], [0], [0], [0], [1], [0], [1], [1], [0], [1], [0], [1], [0], [0], [0], [0], [0], [1], [1], [0], [0], [0], [0], [0], [0], [1], [0], [0], [0], [1], [0], [0], [0], [0], [0], [0], [0], [1], [0], [0], [1], [0], [0], [0], [0], [0], [0], [0], [0], [0], [0], [0], [0], [0], [0], [0], [0], [0], [0], [0], [1], [0], [1], [0], [0], [0], [0], [0], [0], [0], [0], [0], [0], [1], [0], [0], [1], [0], [0], [0], [0], [0], [0], [0], [0], [0], [1], [0], [0], [1], [0], [0], [1], [0], [1], [0], [0], [0], [1], [1], [0], [0], [0], [1], [0], [1], [0], [0], [1], [0], [0], [0], [0], [1], [0], [0], [0], [1], [1], [0], [0], [0], [0], [0], [0], [0], [1], [1], [0], [0], [0], [0], [0], [1], [0], [0], [0], [0], [0], [1], [1], [0], [0], [1], [0], [0], [0], [0], [0], [0], [1], [1], [0], [0], [0], [0], [1], [0], [0], [0], [0], [0], [1], [1], [1], [1], [0], [1], [1], [0], [0], [1], [0], [0], [0], [0], [0], [0], [0], [0], [0], [0], [0], [0], [0], [0], [0], [0], [1], [0], [0], [0], [0], [0], [0], [0], [0], [0], [0], [1], [0], [0], [1], [1], [0], [1], [0], [0], [1], [0], [0], [0], [1], [0], [0], [0], [0], [0], [0], [0], [0], [1], [1], [0], [0], [0], [0], [0], [1], [0], [0], [1], [0], [1], [0], [0], [0], [0], [1], [0], [1], [0], [0], [1], [0], [1], [0], [0], [0], [0], [0], [0], [0], [0], [0], [1], [0], [0], [0], [0], [0], [0], [1], [0], [0], [0], [1], [0], [0], [0], [0], [1], [0], [0], [1], [0], [0], [1], [0], [1], [0], [1], [0], [1], [0], [0], [1], [0], [0], [0], [1], [0], [0], [0], [0], [0], [0], [0], [0], [0], [0], [0], [0], [1], [0], [1], [0], [0], [0], [0], [0], [1], [0], [1], [0], [0], [0], [1], [1], [1], [1], [0], [1], [0], [1], [1], [0], [0], [0], [1], [0], [1], [1], [0], [0], [0], [1], [0], [0], [1], [1], [0], [0], [0], [0], [0], [0], [1], [1], [0], [1], [0], [0], [0], [0], [1], [0], [0], [0], [0], [0], [1], [0], [1], [0], [0], [1], [1], [1], [0], [0], [0], [1], [0], [0], [0], [0], [0], [0], [0], [0], [0], [0], [1], [0], [1], [0], [0], [0], [1], [0], [0], [0], [0], [0], [0], [1], [1], [0], [0], [0], [0], [0], [1], [1], [0], [0], [0], [1], [1], [0], [0], [0], [1], [0], [1], [1], [1], [0], [0], [1], [0], [0], [0], [0], [1], [0], [1], [1], [1], [0], [1], [0], [0], [0], [0], [0], [0], [0], [0], [0], [1], [0], [0], [1], [0], [0], [0], [0], [0], [0], [0], [0], [0], [0], [0], [0], [0], [0], [1], [0], [1], [0], [0], [0], [1], [1], [1], [1], [0], [0], [1], [0], [0], [0], [0], [0], [0], [0], [1], [0], [0], [1], [1], [0], [0], [0], [0], [0], [1], [1], [0], [1], [0], [0], [0], [0], [1], [0], [0], [1], [0], [0], [0], [0], [0], [1], [0], [0], [0], [0], [1], [0], [0], [0], [0], [0], [0], [0], [0], [0], [1], [0], [0], [1], [1], [0], [0], [0], [0], [0], [1], [0], [0], [0], [0], [0], [1], [0], [0], [0], [0], [0], [0], [0], [0], [1], [0], [0], [0], [0], [0], [0], [0], [0], [0], [0], [1], [0], [0], [1], [0], [0], [1], [0], [0], [0], [0], [0], [0], [0], [0], [1], [1], [1], [1], [0], [0], [0], [0], [0], [0], [1], [0], [0], [1], [0], [0], [0], [0], [0], [0], [0], [1], [0], [0], [0], [0], [0], [0], [0], [1], [1], [1], [0], [1], [1], [0], [0], [0], [0], [0], [0], [1], [0], [1], [1], [0], [1], [1], [0], [0], [1], [0], [0], [0], [0], [0], [1], [0], [0], [0], [0], [0], [0], [1], [0], [0], [0], [1], [0], [0], [0], [0], [1], [1], [0], [0], [1], [0], [1], [1], [0], [0], [0], [0], [0], [0], [1], [0], [1], [0], [0], [0], [1], [0], [0], [0], [0], [1], [1], [1], [0], [0], [0], [0], [0], [0], [1], [0], [0], [0], [0], [0], [0], [0], [0], [0], [0], [0], [1], [0], [1], [1], [1], [0], [0], [1], [0], [1], [0], [1], [0], [0], [1], [0], [0], [1], [0], [0], [1], [0], [0], [1], [0], [1], [1], [0], [0], [0], [0], [1], [0], [0], [0], [0], [1], [0], [1], [0], [0], [0], [0], [0], [0], [1], [1], [0], [1], [0], [0], [1], [0], [0], [1], [0], [0], [0], [0], [1], [0], [0], [0], [0], [0], [0], [0], [0], [0], [0], [0], [0], [0], [0], [0], [0], [1], [0], [0], [1], [0], [0], [0], [0], [0], [0], [1], [0], [0], [1], [0], [0], [0], [1], [0], [0], [0], [0], [0], [0], [1], [1], [0], [1], [1], [0], [0], [0], [0], [0], [0], [1], [1], [0], [0], [0], [1], [0], [0], [0], [1], [0], [0], [0], [0], [0], [0], [1], [0], [1], [0], [0], [0], [0], [0], [0], [0], [0], [0], [0], [0], [0], [0], [1], [0], [0], [0], [0], [0], [0], [0], [0], [0], [0], [1], [0], [0], [1], [0], [1], [0], [1], [0], [0], [0], [1], [0], [1], [1], [0], [0], [0], [0], [0], [0], [0], [1], [1], [0], [0], [0], [1], [1], [0], [1], [0], [1], [0], [0], [1], [0], [0], [0], [0], [0], [0], [0], [0], [0], [1], [0], [0], [0], [0], [0], [0], [1], [0], [0], [0], [1], [0], [0], [1], [1], [0], [0], [0], [0], [1], [0], [0], [0], [0], [0], [0], [0], [0], [1], [1], [0], [0], [0], [1], [1], [0], [0], [0], [0], [0], [0], [0], [0], [0], [1], [0], [0], [0], [0], [0], [0], [0], [1], [1], [0], [0], [0], [0], [0], [1], [0], [0], [0], [0], [1], [0], [0], [0], [1], [1], [0], [0], [1], [0], [0], [1], [0], [1], [1], [0], [0], [1], [1], [0], [0], [1], [0], [1], [0], [0], [0], [1], [0], [0], [1], [0], [0], [1], [0], [0], [1], [0], [0], [0], [0], [0], [1], [0], [1], [0], [0], [0], [0], [0], [1], [0], [0], [0], [0], [0], [0], [0], [0], [0], [0], [0], [0], [0], [0], [0], [0], [0], [1], [1], [1], [0], [0], [0], [0], [0], [0], [0], [0], [0], [0], [1], [0], [0], [1], [0], [0], [0], [0], [0], [0], [0], [0], [1], [1], [0], [0], [0], [0], [0], [0], [0], [1], [1], [1], [0], [1], [0], [0], [0], [0], [0], [0], [0], [1], [0], [0], [1], [0], [0], [0], [0], [1], [0], [0], [0], [0], [0], [0], [0], [0], [0], [0], [0], [0], [1], [0], [0], [1], [0], [1], [1], [0], [1], [0], [0], [0], [0], [1], [0], [0], [0], [0], [0], [0], [0], [0], [0], [1], [0], [0], [1], [0], [0], [0], [0], [0], [0], [0], [0], [0], [0], [0], [0], [0], [1], [1], [0], [0], [0], [0], [0], [0], [1], [0], [1], [0], [0], [1], [0], [0], [0], [0], [0], [1], [1], [0], [0], [0], [0], [0], [1], [1], [0], [0], [0], [0], [0], [0], [0], [0], [0], [0], [1], [0], [0], [1], [1], [0], [0], [0], [0], [1], [0], [0], [1], [0], [1], [0], [1], [1], [0], [1], [0], [0], [1], [0], [0], [1], [0], [0], [0], [0], [1], [0], [0], [0], [0], [0], [0], [0], [0], [0], [0], [0], [0], [0], [0], [1], [0], [0], [0], [0], [0], [0], [0], [0], [0], [0], [0], [0], [0], [0], [0], [0], [0], [0], [0], [0], [0], [0], [0], [0], [0], [0], [0], [0], [0], [0], [0], [0], [0], [0], [0], [0], [0], [0], [1], [0], [1], [0], [0], [1], [1], [1], [1], [0], [0], [1], [0], [0], [0], [0], [0], [0], [1], [0], [0], [0], [0], [0], [0], [0], [0], [0], [1], [0], [0], [0], [0], [1], [1], [0], [0], [0], [0], [0], [0], [0], [1], [0], [1], [0], [0], [0], [0], [0], [0], [0], [0], [0], [0], [0], [0], [0], [0], [1], [0], [0], [0], [0], [1], [1], [0], [0], [1], [0], [1], [0], [1], [0], [0], [0], [0], [1], [1], [1], [0], [0], [1], [0], [1], [1], [0], [1], [1], [0], [0], [0], [0], [1], [0], [0], [0], [0], [0], [1], [0], [0], [0], [0], [1], [0], [0], [1], [0], [0], [0], [1], [0], [0], [0], [0], [0], [0], [1], [0], [0], [1], [0], [0], [0], [1], [0], [0], [0], [0], [0], [0], [1], [0], [0], [0], [0], [1], [0], [0], [0], [1], [0], [0], [0], [0], [1], [0], [1], [0], [0], [0], [0], [0], [0], [0], [0], [0], [0], [0], [1], [0], [0], [0], [0], [0], [1], [0], [0], [0], [0], [1], [0], [0], [1], [0], [0], [0], [0], [0], [0], [0], [0], [0], [0], [0], [0], [0], [1], [0], [0], [0], [0], [0], [0], [0], [1], [0], [0], [0], [0], [0], [1], [0], [0], [0], [0], [0], [0], [1], [0], [1], [0], [1], [0], [0], [0], [0], [0], [0], [0], [0], [0], [0], [0], [0], [1], [0], [0], [0], [0], [0], [1], [1], [0], [0], [0], [1], [0], [0], [0], [0], [0], [1], [0], [0], [0], [0], [0], [0], [0], [0], [0], [1], [0], [0], [0], [0], [0], [0], [1], [0], [0], [1], [1], [0], [0], [1], [0], [0], [0], [0], [0], [1], [0], [0], [0], [0], [0], [0], [0], [0], [0], [0], [0], [1], [0], [0], [0], [0], [0], [0], [0], [0], [1], [0], [0], [0], [0], [0], [0], [0], [0], [0], [1], [0], [1], [0], [1], [0], [1], [1], [1], [0], [1], [0], [0], [1], [0], [0], [0], [0], [1], [1], [0], [0], [0], [0], [0], [0], [0], [0], [0], [0], [1], [0], [0], [1], [0], [0], [0], [0], [0], [1], [1], [0], [0], [0], [0], [1], [0], [0], [0], [0], [0], [0], [0], [0], [0], [1], [0], [0], [0], [1], [0], [0], [0], [1], [0], [1], [0], [1], [0], [0], [0], [0], [0], [0], [0], [0], [0], [0], [0], [0], [0], [1], [0], [0], [0], [1], [0], [0], [0], [0], [0], [1], [1], [0], [1], [0], [0], [0], [0], [0], [0], [0], [1], [0], [0], [0], [0], [1], [0], [1], [1], [0], [0], [0], [0], [1], [0], [0], [0], [0], [1], [0], [0], [0], [0], [1], [1], [0], [1], [0], [1], [0], [0], [0], [0], [0], [0], [0], [0], [0], [1], [0], [0], [0], [1], [0], [0], [0], [0], [0], [0], [0], [1], [0], [0], [0], [0], [0], [1], [0], [0], [0], [0], [0], [0], [0], [0], [0], [0], [0], [0], [0], [1], [1], [0], [0], [0], [0], [0], [0], [0], [0], [1], [0], [0], [0], [0], [0], [0], [0], [0], [0], [0], [0], [0], [0], [0], [1], [0], [0], [0], [1], [0], [1], [0], [1], [0], [1], [0], [1], [0], [0], [0], [0], [0], [0], [0], [1], [1], [0], [0], [0], [0], [1], [0], [0], [0], [1], [0], [0], [0], [0], [0], [0], [0], [0], [1], [0], [0], [0], [0], [0], [0], [0], [0], [0], [0], [0], [0], [1], [1], [1], [0], [0], [0], [1], [0], [0], [0], [1], [0], [0], [0], [1], [1], [0], [1], [0], [1], [0], [0], [0], [0], [1], [1], [0], [1], [0], [0], [1], [0], [0], [0], [0], [0], [0], [0], [0], [1], [0], [1], [1], [0], [0], [0], [0], [1], [0], [0], [0], [0], [0], [0], [0], [0], [1], [0], [0], [1], [0], [0], [1], [0], [0], [0], [1], [1], [1], [0], [1], [0], [0], [0], [0], [0], [1], [0], [1], [0], [0], [1], [0], [1], [0], [0], [0], [0], [0], [1], [0], [0], [0], [0], [0], [0], [0], [0], [0], [1], [0], [0], [0], [0], [0], [0], [0], [1], [0], [1], [0], [0], [0], [0], [1], [1], [0], [0], [0], [0], [0], [0], [0], [0], [0], [0], [1], [0], [1], [0], [0], [0], [0], [0], [0], [0], [0], [0], [0], [0], [0], [0], [0], [1], [0], [0], [1], [0], [1], [0], [0], [1], [0], [1], [0], [0], [0], [0], [0], [0], [0], [1], [1], [0], [0], [0], [0], [0], [0], [0], [0], [1], [1], [0], [0], [0], [0], [0], [1], [0], [0], [0], [0], [1], [0], [1], [1], [1], [0], [1], [0], [0], [1], [1], [0], [0], [0], [0], [0], [0], [0], [0], [0], [0], [0], [0], [1], [0], [0], [0], [1], [1], [1], [1], [0], [0], [0], [0], [0], [0], [1], [0], [0], [1], [0], [0], [0], [1], [0], [0], [0], [0], [0], [0], [0], [0], [0], [0], [0], [1], [0], [1], [0], [0], [1], [0], [0], [0], [0], [0], [0], [0], [1], [0], [0], [0], [1], [0], [0], [0], [0], [0], [0], [0], [0], [0], [0], [0], [0], [0], [0], [0], [0], [1], [0], [0], [0], [0], [0], [0], [0], [0], [0], [0], [0], [0], [0], [0], [1], [0], [0], [0], [0], [0], [1], [0], [0], [0], [0], [0], [0], [1], [0], [0], [0], [1], [1], [0], [0], [1], [0], [0], [0], [1], [0], [0], [1], [0], [0], [0], [0], [0], [0], [1], [1], [0], [0], [0], [0], [0], [0], [1], [0], [0], [0], [0], [1], [0], [1], [1], [0], [0], [1], [0], [0], [0], [0], [0], [1], [0], [1], [0], [0], [0], [0], [0], [1], [0], [0], [0], [1], [1], [0], [0], [1], [0], [0], [0], [0], [0], [0], [0], [0], [0], [1], [0], [0], [1], [1], [0], [0], [1], [0], [0], [1], [0], [0], [0], [1], [0], [0], [0], [0], [0], [0], [0], [1], [1], [0], [0], [0], [0], [1], [1], [0], [0], [1], [0], [1], [0], [1], [0], [0], [0], [0], [0], [1], [0], [0], [1], [1], [0], [1], [1], [0], [0], [0], [1], [0], [0], [0], [0], [1], [0], [0], [0], [0], [0], [0], [0], [0], [0], [0], [1], [0], [1], [0], [0], [0], [0], [0], [0], [0], [0], [0], [0], [1], [1], [0], [0], [0], [0], [1], [1], [1], [0], [0], [0], [0], [0], [0], [1], [1], [0], [0], [0], [0], [0], [0], [0], [0], [0], [0], [1], [1], [1], [0], [0], [0], [1], [0], [0], [0], [0], [1], [1], [1], [0], [0], [0], [0], [0], [1], [1], [1], [1], [0], [0], [0], [0], [0], [0], [1], [0], [0], [0], [0], [0], [0], [0], [0], [0], [0], [0], [0], [0], [1], [1], [0], [0], [0], [0], [0], [0], [0], [1], [0], [1], [0], [1], [1], [0], [1], [1], [0], [1], [0], [1], [0], [0], [0], [0], [0], [0], [0], [0], [0], [1], [0], [0], [0], [1], [0], [0], [0], [0], [0], [0], [0], [1], [0], [0], [0], [0], [0], [0], [0], [1], [0], [0], [1], [0], [0], [0], [0], [0], [0], [0], [1], [0], [0], [0], [1], [0], [0], [0], [1], [0], [1], [0], [0], [0], [1], [0], [0], [0], [0], [0], [0], [0], [0], [0], [1], [1], [1], [0], [1], [1], [1], [0], [0], [0], [0], [0], [0], [1], [0], [0], [0], [0], [0], [1], [1], [0], [0], [0], [0], [0], [0], [0], [0], [0], [0], [0], [1], [0], [0], [0], [1], [1], [1], [0], [0], [0], [0], [0], [0], [0], [0], [1], [0], [0], [0], [1], [0], [0], [1], [0], [0], [0], [1], [0], [1], [0], [0], [0], [0], [0], [0], [0], [0], [0], [0], [1], [0], [1], [0], [0], [0], [1], [0], [1], [0], [0], [0], [0], [0], [0], [0], [0], [0], [0], [0], [0], [1], [1], [0], [1], [1], [0], [0], [0], [0], [0], [1], [0], [0], [0], [0], [1], [0], [0], [0], [0], [1], [0], [0], [0], [0], [0], [0], [0], [0], [1], [0], [1], [1], [1], [0], [0], [0], [0], [1], [0], [0], [0], [0], [0], [0], [0], [0], [0], [0], [0], [0], [0], [0], [0], [0], [0], [0], [0], [0], [0], [0], [0], [0], [1], [0], [0], [0], [0], [0], [1], [0], [1], [0], [1], [0], [0], [1], [0], [0], [1], [0], [0], [0], [0], [0], [1], [0], [0], [0], [0], [0], [0], [0], [0], [1], [0], [0], [0], [0], [0], [0], [1], [0], [0], [0], [0], [0], [0], [0], [0], [0], [0], [1], [0], [0], [0], [0], [0], [0], [0], [0], [0], [0], [0], [0], [0], [0], [0], [0], [1], [1], [0], [0], [0], [1], [0], [0], [0], [0], [0], [0], [0], [1], [0], [0], [0], [1], [0], [0], [0], [0], [0], [0], [0], [0], [0], [0], [0], [0], [0], [0], [0], [1], [0], [0], [0], [0], [1], [0], [0], [1], [1], [0], [1], [0], [0], [0], [0], [1], [0], [0], [0], [0], [0], [0], [0], [0], [0], [0], [0], [1], [0], [0], [0], [0], [1], [0], [1], [0], [0], [1], [0], [1], [0], [0], [0], [0], [0], [0], [1], [0], [0], [1], [0], [0], [0], [0], [0], [0], [0], [0], [0], [0], [0], [0], [0], [1], [0], [0], [0], [1], [1], [1], [0], [0], [1], [0], [0], [0], [0], [0], [1], [0], [0], [1], [0], [0], [0], [1], [0], [0], [0], [0], [0], [0], [1], [0], [0], [0], [0], [0], [1], [0], [0], [1], [0], [0], [0], [1], [0], [0], [0], [0], [0], [0], [1], [0], [0], [0], [0], [0], [0], [1], [0], [1], [1], [1], [1], [0], [0], [0], [0], [1], [0], [0], [1], [0], [0], [0], [0], [0], [0], [0], [0], [0], [1], [0], [1], [0], [0], [0]]\n",
      "[[0], [0], [0], [0], [0], [0], [0], [0], [0], [0], [1], [1], [0], [0], [0], [0], [0], [1], [0], [0], [0], [0], [0], [0], [0], [0], [0], [0], [0], [1], [0], [1], [1], [1], [0], [1], [0], [1], [0], [0], [0], [1], [1], [0], [1], [0], [1], [0], [0], [1], [0], [0], [0], [0], [0], [0], [0], [0], [0], [0], [1], [0], [0], [1], [0], [1], [1], [0], [0], [0], [0], [0], [0], [0], [0], [0], [0], [0], [1], [0], [0], [0], [0], [0], [0], [0], [1], [0], [0], [1], [0], [0], [1], [0], [1], [1], [0], [1], [0], [0], [0], [1], [0], [0], [0], [0], [0], [1], [0], [0], [0], [0], [0], [0], [0], [0], [0], [0], [0], [0], [0], [0], [0], [0], [0], [0], [0], [0], [0], [0], [1], [0], [0], [0], [1], [0], [0], [0], [1], [1], [0], [0], [0], [0], [0], [0], [0], [0], [1], [0], [0], [0], [0], [1], [1], [0], [0], [0], [0], [0], [0], [1], [0], [0], [0], [0], [0], [0], [1], [0], [1], [0], [0], [0], [0], [0], [1], [0], [0], [0], [0], [1], [0], [0], [0], [0], [0], [0], [0], [1], [0], [0], [0], [0], [0], [0], [0], [0], [0], [0], [0], [0], [1], [0], [0], [1], [0], [1], [0], [1], [0], [0], [0], [0], [0], [1], [0], [1], [0], [0], [0], [0], [1], [0], [1], [0], [0], [0], [0], [0], [0], [1], [0], [0], [0], [0], [0], [1], [0], [0], [0], [0], [1], [0], [0], [1], [0], [0], [0], [0], [1], [0], [1], [0], [0], [0], [0], [0], [0], [0], [0], [0], [0], [1], [0], [0], [0], [0], [0], [0], [0], [0], [1], [1], [0], [1], [0], [1], [0], [0], [0], [0], [0], [0], [0], [0], [1], [0], [0], [1], [0], [0], [1], [0], [0], [0], [0], [0], [0], [0], [0], [0], [0], [0], [0], [0], [0], [0], [0], [0], [1], [0], [0], [0], [0], [0], [1], [0], [0], [1], [0], [1], [0], [1], [0], [0], [0], [1], [0], [0], [1], [0], [0], [0], [0], [0], [0], [0], [1], [0], [1], [0], [0], [0], [1], [1], [0], [1], [1], [0], [0], [0], [0], [0], [1], [0], [1], [0], [0], [0], [0], [0], [0], [0], [0], [0], [0], [0], [1], [0], [0], [1], [0], [0], [1], [1], [0], [0], [1], [0], [1], [1], [0], [0], [0], [0], [0], [0], [0], [0], [1], [0], [0], [0], [0], [0], [0], [0], [0], [0], [0], [0], [1], [0], [1], [0], [0], [0], [0], [0], [0], [0], [0], [1], [0], [0], [0], [1], [0], [0], [0], [0], [0], [0], [0], [0], [0], [0], [0], [0], [0], [1], [0], [0], [0], [0], [0], [0], [0], [0], [0], [0], [0], [0], [0], [1], [0], [0], [1], [0], [0], [0], [0], [1], [1], [0], [0], [0], [0], [1], [1], [1], [1], [0], [0], [0], [1], [0], [0], [1], [0], [0], [1], [1], [0], [0], [0], [0], [0], [1], [1], [1], [0], [0], [1], [0], [0], [0], [0], [1], [0], [0], [0], [0], [1], [0], [0], [1], [0], [0], [0], [1], [0], [0], [1], [0], [0], [0], [0], [0], [0], [0], [1], [0], [0], [0], [0], [0], [1], [1], [1], [0], [1], [1], [0], [1], [0], [0], [0], [0], [0], [0], [0], [0], [0], [1], [0], [0], [1], [0], [0], [0], [0], [1], [0], [0], [0], [0], [0], [0], [1], [1], [0], [1], [0], [1], [0], [0], [0], [0], [0], [0], [1], [0], [0], [0], [1], [0], [0], [0], [0], [0], [0], [0], [0], [0], [0], [1], [0], [1], [1], [0], [1], [1], [0], [0], [0], [0], [0], [1], [0], [0], [0], [1], [0], [0], [0], [1], [1], [1], [0], [0], [0], [0], [1], [1], [1], [0], [0], [0], [0], [0], [0], [0], [0], [1], [0], [0], [0], [0], [0], [0], [0], [0], [1], [0], [0], [0], [1], [0], [0], [0], [1], [0], [0], [0], [0], [0], [0], [0], [0], [0], [1], [0], [0], [0], [1], [0], [0], [0], [0], [0], [0], [1], [0], [0], [0], [0], [0], [0], [0], [0], [0], [1], [0], [0], [0], [0], [0], [0], [0], [0], [0], [1], [1], [1], [0], [0], [0], [0], [1], [0], [0], [1], [0], [0], [0], [1], [0], [0], [1], [0], [1], [0], [0], [1], [0], [0], [0], [0], [0], [0], [0], [0], [0], [0], [0], [0], [0], [1], [0], [0], [1], [0], [0], [0], [0], [0], [0], [1], [0], [0], [1], [0], [1], [0], [0], [0], [0], [0], [0], [0], [0], [0], [0], [0], [1], [0], [0], [1], [1], [0], [0], [0], [1], [1], [0], [0], [0], [0], [0], [0], [0], [0], [1], [0], [0], [0], [0], [1], [1], [1], [1], [1], [0], [0], [0], [0], [1], [0], [1], [1], [0], [0], [1], [0], [0], [1], [1], [0], [0], [0], [0], [0], [0], [0], [0], [0], [0], [0], [0], [0], [0], [0], [0], [0], [0], [1], [1], [0]]\n"
     ]
    }
   ],
   "source": [
    "#If this works I quit...\n",
    "def compare(inp):\n",
    "    def sqrOrCirc(input, elm):\n",
    "        n = [round((t[elm])/2) for t in input]\n",
    "        return n \n",
    "    circ = sqrOrCirc(inp, 0)\n",
    "    sqr = sqrOrCirc(inp, 1)\n",
    "\n",
    "    lst = []\n",
    "    for i in range (0, len(circ)):\n",
    "        if circ[i] > sqr[i]: \n",
    "            n = 1\n",
    "            lst.append([n])\n",
    "        else:\n",
    "            n = 0\n",
    "            lst.append([n])\n",
    "    return lst\n",
    "\n",
    "Ytrain = (compare(y_train))\n",
    "Ytest = (compare(y_test))\n",
    "\n",
    "def predictor(xTrainData, yTrainData):\n",
    "    model = sklearn.linear_model.LogisticRegression(random_state=0, max_iter=1000)\n",
    "    model_search = GridSearchCV(model, param_grid, cv = 10)\n",
    "    return model_search.fit(xTrainData, yTrainData)\n",
    "\n",
    "\n",
    "# predictionModel = predictor(X_train, Ytrain)\n",
    "\n",
    "# pred = predictionModel.predict(X_test)\n",
    "# MSE = mean_squared_error(Ytest, pred)\n",
    "# ACC = accuracy_score(Ytest, pred)\n",
    "# print(\"MSE : \" + str(MSE))\n",
    "# print(\"ACC : \" + str(ACC) )\n",
    "\n"
   ]
  },
  {
   "cell_type": "markdown",
   "metadata": {},
   "source": [
    "### E: Unlabelled data evaluation\n",
    "\n",
    "You should download the unlabeled test data from https://www.kaggle.com/competitions/ds2023-counting-stars/data and make predictions for all of the unlabeled images in the test set. You can submit your best predictions to Kaggle three times/day.\n",
    "\n",
    "The course responsible has submitted a naive baseline and we're sure you can beat that score! This programming exercise is considered passed if you achieve  $\\text{Score} \\ge 0.90$ on the leaderboard."
   ]
  },
  {
   "cell_type": "code",
   "execution_count": 11,
   "metadata": {},
   "outputs": [],
   "source": [
    "# LOAD THE TEST SET AND MAKE PREDICTIONS. ASSIGN THE PREDICTIONS TO THE VARIABLE y_pred.\n",
    "# >\n",
    "\n",
    "output_file = \"prediction.csv\"\n",
    "# DO NOT INSERT OR CHANGE ANYTHING BELOW\n",
    "import numpy as np\n",
    "# Use this function to save your predictions on stars_test_X.npz to a \"prediction.csv\" file.\n",
    "# The produced csv file can be directly uploaded to Kaggle for evaluation.\n",
    "def y_pred_to_kaggle_format (y_pred : np.ndarray) -> None:\n",
    "    np.c_[np.arange(1, len(y_pred)+1), y_pred]\n",
    "    np.savetxt(output_file, np.c_[np.arange(1, len(y_pred)+1), y_pred], fmt='%i', delimiter=\",\", header=\"Id,Category\", comments='')\n",
    "\n",
    "y_pred_to_kaggle_format(y_pred)\n",
    "\n",
    "# NOW YOU CAN UPLOAD THE prediction.csv FILE TO KAGGLE AND SEE YOUR ACCURACY"
   ]
  },
  {
   "cell_type": "markdown",
   "metadata": {},
   "source": [
    "### Written Questions\n",
    "\n",
    "2a) Explain the different techniques and their purpose in your code for Programming Exercise D.\n",
    "\n",
    "2b) Which techniques were not useful in improving performance on this task?"
   ]
  }
 ],
 "metadata": {
  "kernelspec": {
   "display_name": "Python 3 (ipykernel)",
   "language": "python",
   "name": "python3"
  },
  "language_info": {
   "codemirror_mode": {
    "name": "ipython",
    "version": 3
   },
   "file_extension": ".py",
   "mimetype": "text/x-python",
   "name": "python",
   "nbconvert_exporter": "python",
   "pygments_lexer": "ipython3",
   "version": "3.9.13"
  },
  "vscode": {
   "interpreter": {
    "hash": "369f2c481f4da34e4445cda3fffd2e751bd1c4d706f27375911949ba6bb62e1c"
   }
  }
 },
 "nbformat": 4,
 "nbformat_minor": 2
}
