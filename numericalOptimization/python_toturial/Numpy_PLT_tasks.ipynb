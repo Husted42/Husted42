{
 "cells": [
  {
   "cell_type": "markdown",
   "id": "0336312d-22b8-480c-aa4c-0fd707333da8",
   "metadata": {},
   "source": [
    "## Assignment 1: Creation and indexing\n",
    "\n",
    "- Create a numpy array x with the elements [2,5,12,18] and dtype float64. print length and dtype.\n",
    "- Implement a function called \"mean\" which computes the mean of the elements of a given numpy array x using a for loop and indexing of elements. \n"
   ]
  },
  {
   "cell_type": "code",
   "execution_count": null,
   "id": "c6236680-b3e8-4bae-b22e-03e30d61bd6d",
   "metadata": {},
   "outputs": [],
   "source": [
    "import numpy as np\n",
    "import math\n"
   ]
  },
  {
   "cell_type": "code",
   "execution_count": 33,
   "id": "fcad8b21-d2c5-4d61-b575-d51e94d93eb2",
   "metadata": {},
   "outputs": [
    {
     "name": "stdout",
     "output_type": "stream",
     "text": [
      "[ 2.  5. 12. 18.]\n",
      "Mean:  9.25\n"
     ]
    }
   ],
   "source": [
    "#implement here\n",
    "arr_1 = np.array([2,5,12,18], dtype= \"float64\")\n",
    "print(arr_1)\n",
    "\n",
    "def my_mean(arr):\n",
    "    sum = 0 \n",
    "    for i in arr:\n",
    "        sum = sum + i\n",
    "    return sum/len(arr)\n",
    "\n",
    "print(\"Mean: \", my_mean(arr_1))\n"
   ]
  },
  {
   "cell_type": "markdown",
   "id": "128bb6f5-7958-4241-a344-1efcceb0a01e",
   "metadata": {},
   "source": [
    "## Assignment 2: Multidimensional arrays\n",
    "\n",
    "- print len and shape of A.\n",
    "- use your function mean above and a for loop to print the mean of each column of A\n",
    "- compute the trace of A (sum of diagonal elements) without using np.trace. you can try to use mean for this as well! Compare to the result of np.trace!"
   ]
  },
  {
   "cell_type": "code",
   "execution_count": 40,
   "id": "d2906719-f23d-4651-840c-e69bd8e0293c",
   "metadata": {},
   "outputs": [
    {
     "name": "stdout",
     "output_type": "stream",
     "text": [
      "(4, 5)\n",
      "Mean: of column 0 :  0.16109094507112504\n",
      "Mean: of column 1 :  0.4780538831588929\n",
      "Mean: of column 2 :  0.34507407860849754\n",
      "Mean: of column 3 :  0.1232914158529363\n",
      "Diagonal :  [-0.24528935 -0.51676563  0.38667448 -0.96214035]\n",
      "Mean of diagonal:  -0.3343802133275236\n"
     ]
    }
   ],
   "source": [
    "A=np.random.randn(4,5)\n",
    "print(np.shape(A))\n",
    "\n",
    "for i in range(np.shape(A)[0]):\n",
    "    mean = my_mean(A[i,:])\n",
    "    print(\"Mean: of column\", i, \": \", mean)\n",
    "\n",
    "# it's not a \"true\" diagonal since the matrix is not square\n",
    "diag = np.zeros(np.shape(A)[0])\n",
    "for i in range(np.shape(A)[0]):\n",
    "    for j in range(np.shape(A)[1]):\n",
    "        if i == j:\n",
    "            diag[i] = A[i,j]\n",
    "\n",
    "print(\"Diagonal : \", diag)\n",
    "print(\"Mean of diagonal: \", my_mean(diag))\n"
   ]
  },
  {
   "cell_type": "markdown",
   "id": "2602cf20-fe4c-4730-a6be-6a915fceace1",
   "metadata": {},
   "source": [
    "## Assignment 3: Writing to an array\n",
    "\n",
    "- implement a function identity(N) that returns the NxN identity matrix without using np.eye.\n",
    "- Hint: you can create a zero-matrix and then use indexing to write to the diagonal elements"
   ]
  },
  {
   "cell_type": "code",
   "execution_count": 41,
   "id": "e7ef6dbc-837e-4b75-b8f1-3455ec4fb6ce",
   "metadata": {},
   "outputs": [
    {
     "data": {
      "text/plain": [
       "array([[1., 0., 0., 0.],\n",
       "       [0., 1., 0., 0.],\n",
       "       [0., 0., 1., 0.],\n",
       "       [0., 0., 0., 1.]])"
      ]
     },
     "execution_count": 41,
     "metadata": {},
     "output_type": "execute_result"
    }
   ],
   "source": [
    "def identity(N : int) -> np.ndarray:\n",
    "    arr = np.zeros((4,4))\n",
    "    for i in range(N):\n",
    "        for j in range(N):\n",
    "            if i == j:\n",
    "                arr[i,j] = 1\n",
    "    return arr\n",
    "identity(4)"
   ]
  },
  {
   "cell_type": "markdown",
   "id": "a247e594-a0e4-4f97-858c-3ce16ff9574d",
   "metadata": {},
   "source": [
    "## Assignment 4: Simple Math\n",
    "\n",
    "- implement the function relative_error(x,y) that for an arbitrary array computes the elementwise relative error between the elements of x and y, defined as:\n",
    "  $$ E=\\frac{|x-y|}{|y|}$$"
   ]
  },
  {
   "cell_type": "code",
   "execution_count": 55,
   "id": "93cefce0-05fe-465d-b69d-59a91d57d76a",
   "metadata": {},
   "outputs": [
    {
     "name": "stdout",
     "output_type": "stream",
     "text": [
      "2.0\n",
      "2.0\n",
      "4.0\n",
      "5.0\n",
      "0.95\n"
     ]
    }
   ],
   "source": [
    "def relative_error(x,y):\n",
    "    e = 0\n",
    "    for i in range(len(y)):\n",
    "        print(y[i])\n",
    "        if y[i] == 0.0:\n",
    "            raise AssertionError(\"Error: Division by zero\")\n",
    "        else:\n",
    "            e = e + abs((x[i]-y[i])/y[i])\n",
    "    return e\n",
    "\n",
    "x=np.array([1.0,2.0,3.0,4.0])\n",
    "y=np.array([2.0,2.0,4.0,5.0])\n",
    "print(relative_error(x,y))"
   ]
  },
  {
   "cell_type": "markdown",
   "id": "03e9af38-7d38-4926-9426-8d4fec310f27",
   "metadata": {},
   "source": [
    "## Assignment 5: Relational Operators & Fancy Indexing\n",
    "\n",
    "- implement the function all_errors_small(x,y,threshold) that returns true if the relative error of all elements of x and y are smaller than the threshold value.\n",
    "- using relational operators and fancy indexing, print out the x and y values that exceed 0.2"
   ]
  },
  {
   "cell_type": "code",
   "execution_count": 6,
   "id": "8e3c1b63-ac7f-4d7d-bdbc-9f79be7ec861",
   "metadata": {},
   "outputs": [
    {
     "name": "stdout",
     "output_type": "stream",
     "text": [
      "True\n",
      "True\n"
     ]
    }
   ],
   "source": [
    "def all_errors_small(x,y,threshold):\n",
    "    return np.all(relative_error(x,y)<threshold)\n",
    "print(all_errors_small(x,y,1.0)) #expects True\n",
    "print(all_errors_small(x,y,0.1)) #expects False\n",
    "\n",
    "#implement the second part\n",
    "#your code here!"
   ]
  },
  {
   "cell_type": "markdown",
   "id": "b3bdef61-63cf-4e42-8777-c4232c11d0d6",
   "metadata": {},
   "source": [
    "## Assignment 6: Linear Algebra\n",
    "We give two choices here, that you can pick based on your linear algebra knowledge. 6.1 is a matrix square root and 6.2 a least squares fit.\n",
    "### 6.1 Matrix Square roots\n",
    "\n",
    "Implement the matrix square root function sqrtm(A) for square positive definite matrices A.\n",
    "It is defined the following way: Let \n",
    "$A=U D U^T$ be the eigen decomposition of A where U is the matrix with the eigenvectors of A in the columns and D is the diagonal matrix with the eigenvalues on the diagonal. Then the square root $S=U D^{1/2} U^T$ where $D^{1/2}$ is the elementwise square root of $D$.\n",
    "\n",
    "Verify correctness of your implementation by checking that $A=S S$. You can use all_errors_small for this.\n",
    "\n",
    "Hint: np.diag can create D. "
   ]
  },
  {
   "cell_type": "code",
   "execution_count": 7,
   "id": "a2eb8c6f-5004-4cd2-8943-ba35650c6a95",
   "metadata": {},
   "outputs": [],
   "source": [
    "def sqrtm(A):\n",
    "    return 0#your code here!\n",
    "#creation of a positive definite A\n",
    "A=np.random.randn(4,4)\n",
    "A=A@A.T\n",
    "S=sqrtm(A)\n",
    "#implement the correctness check below\n",
    "#your code here!\n",
    "\n"
   ]
  },
  {
   "cell_type": "markdown",
   "id": "620bb63a-5410-4a51-b0b5-4e1173d6cbb8",
   "metadata": {},
   "source": [
    "### 6.2 Least Squares Fit / Linear Regression\n",
    "We will implement a least squares fit. For a set of data $X$ where each row stores a point $x_i$, and a set of measurements $y$ where $y_i$ is the measurement of $x_i$, we want to find the linear function $f(x)=w^Tx$ such that for a given $x_i$, $f(x_i)\\approx y_i$.\n",
    "\n",
    "Your task is to implement the computation of the weights that minimize the mean squared error $w=(X^TX)Xy$ as well as implement the computation of the noisy labels. The data points are generated as $y_i= w^Tx_i+\\epsilon_i$ where $\\epsilon_i$ is standard normally distributed noise. Note that when computing this for all points in $X$ simultaneously without using loops, you need to compute $y=Xw+\\epsilon$\n",
    "\n",
    "At the end of this day you can try to plot the predictions of the model together with a scatter plot of the data points and compare that to the true model\n"
   ]
  },
  {
   "cell_type": "code",
   "execution_count": 8,
   "id": "6e975196-9d23-4df5-bd9f-813d3e645375",
   "metadata": {},
   "outputs": [],
   "source": [
    "# A little help for X.\n",
    "# We want to sample a simple 1D problem with 50 points.\n",
    "# we add a second column that is constant 1,which allows us to learn a constant offset parameter. \n",
    "# Thus we actually compute f(x)=w[0]x+w[1]\n",
    "X = 10*np.random.randn(50,2) #50 points with 2 values each\n",
    "X[:,-1] = 1 #overwrite the last column (using -1 here instead of \"1\" allows us to change the dimensionality of the data!)\n",
    "w_truth = np.array([2.0,3.0]) #the true unknown values\n",
    "#Subtask 1: compute y\n",
    "# for this first generate a normal distributed vector epsilon with 20 entries\n",
    "# then compute y_i= w^Tx_i+epsilon_i (\n",
    "epsilon=0 #your code here!\n",
    "y = 0 #your code here!\n",
    "\n",
    "#Subtask 2: compute w\n",
    "w=0 #your code here!"
   ]
  },
  {
   "cell_type": "markdown",
   "id": "f85623b7-69a6-4d2a-ac51-349edccc2963",
   "metadata": {},
   "source": [
    "## Assignment 7: Reductions\n",
    "Pick one:\n",
    "\n",
    "1. Using np.mean implement the function variance(x) that computes the variance of the elements of x. The variance is defined as:\n",
    "$$ var = mean[x^2]-mean[x]^2$$\n",
    "where $mean[\\cdot]$ is the mean operator for the argument $x$. Compare your results to np.var.\n",
    "2. If you have solved 6.2 you can also compute the mean squared error $mean[(f(x)-y)^2]$ between the prediction of your model and the observed values.\n",
    "3. Advanced: you can use np.argmin(x) which returns the index of the smallest element of x. Use that together with np.var to print for a given matrix A the column with smallest variance."
   ]
  },
  {
   "cell_type": "code",
   "execution_count": 9,
   "id": "9ecb5087-fa57-4766-8562-6d1812038116",
   "metadata": {},
   "outputs": [
    {
     "data": {
      "text/plain": [
       "0"
      ]
     },
     "execution_count": 9,
     "metadata": {},
     "output_type": "execute_result"
    }
   ],
   "source": [
    "#1.\n",
    "def variance(x):\n",
    "    return 0#your code here!\n",
    "x=np.random.randn(1000)\n",
    "variance(x)"
   ]
  },
  {
   "cell_type": "code",
   "execution_count": null,
   "id": "7f6d66de-cb8c-4eec-9f10-036d5caa2e49",
   "metadata": {},
   "outputs": [
    {
     "name": "stdout",
     "output_type": "stream",
     "text": [
      "[[ 1.15316866  0.97968848  1.08193934  0.3157531 ]\n",
      " [ 2.26887898 -0.0350948   0.61426188 -0.1124257 ]\n",
      " [-0.62865152 -0.61444815 -0.2756239   0.23296138]\n",
      " [ 0.88254244 -0.50556832  0.35374391  0.29435624]]\n",
      "[ 1.15316866  2.26887898 -0.62865152  0.88254244]\n"
     ]
    }
   ],
   "source": [
    "#advanced \n",
    "\n",
    "A=np.random.randn(4,4)\n",
    "print(A)\n",
    "s\n",
    "#implement it here\n",
    "index = 0 #your code here!\n",
    "print(A[:,index])"
   ]
  },
  {
   "cell_type": "markdown",
   "id": "ebb54eb8-877b-4746-9b11-a72c899b418c",
   "metadata": {},
   "source": [
    "# Assignment 8: Plotting data\n",
    "\n",
    "Load the iris.csv file. Each row contains five columns. The last column stores labels (0,1,2).\n",
    "Separate the array using slicing to get one array x with the first two columns and an array y with the last column. \n",
    "\n",
    "Use fancy indexing and relations to split x into two arrays where one array contains all rows of x for which y=0, and the other the ones for which y>0.\n",
    "\n",
    "use plt.scatter to print both arrays as point clouds, choose marker size and point color\n",
    "\n",
    "add a legend for both point clouds. \n",
    "\n",
    "add axis descriptions: \"sepal length\" on x-axis and \"sepal width\" on y-axis.\n",
    "\n",
    "finally, ensure a nice figure size with enough dpi and save the png on disk"
   ]
  },
  {
   "cell_type": "code",
   "execution_count": 11,
   "id": "2803522f-0e45-455a-8c94-ba7f290f95f6",
   "metadata": {},
   "outputs": [],
   "source": [
    "#your code here!"
   ]
  },
  {
   "cell_type": "markdown",
   "id": "f3a618bb-dfca-4d35-8691-7d8f312d579f",
   "metadata": {},
   "source": [
    "## Ideas for advanced tasks:\n",
    "\n",
    "1. You can try to implement sampling from a multivariate normal distribution with mean m and covariance matrix C. This is done via $x=m+S\\epsilon$ where $S$ is the matrix square root of C and $\\epsilon$ is a normal distributed vector. You have implemented the square root already. You will need to look at broadcasting for this.\n",
    "2. Solve 6.2 if you haven't already and add a nice plot of the data, your computed predictions and the line of the true value.\n",
    "3. Implement a function that takes a 2D array of points and normalizes the columns to mean 0 and variance 1. You can use it to normalize the dataset in Assignment 8.\n",
    "4. Pick the very advanced task below if you are up for a challenge!"
   ]
  },
  {
   "cell_type": "markdown",
   "id": "2bc8fb09-66a4-4d00-b8a0-53b533ebdac4",
   "metadata": {},
   "source": [
    "## Challenge! Implement a simulation of the N-body problem!\n",
    "\n",
    "The N-body problem is at its core a simple task: we have a number of point-masses, for example planets, stars etc, with a very large mass and very small radius compared to their distance to each other. Gravity will pull each of the planets together and thus they begin to move and orbit each other. A mathematical description of the N-body system is easy, but a simulation is actually hard. \n",
    "\n",
    "For simplicity we look at the N-body problem in 2D. Such a system is for example given by the solar system, where most planets nicely sit on plane around the sun and we can just look from above on it.\n",
    "\n",
    "At a given time t, we model the positions and velocities of then ith planet/star etc as a vector of positions $p_i$ with velocity $v_i$ and mass $m_i$. Since physically, velocity is the derivative of the position wrt time, we can approximate the movement of a planet during time $\\Delta_t$ as $p_i+\\Delta_t v_i$. The true complexity lies in the change of $v_i$ which is defined as its derivative wrt time:\n",
    "\n",
    "$$ \\frac{\\partial}{\\partial t}v_i=G\\sum_{j=1, j\\neq i}^N m_j \\frac{p_j - p_i}{(p_j - p_i)^3+\\epsilon}$$\n",
    "\n",
    "Here $G$ is the gravitational constant, $N$ the number of objects. $\\epsilon>0$ is a number not derived from mathematics but a constant added for numerical reasons, to prevent division by 0 when the distance of $p_i$ and $p_j$ is approximately 0. \n",
    "\n",
    "Instead of heaving a vector per planet, we will merge the velocities and positions matrices  $p_t,v_t$ indexed by the current time index $t$, where each row represents one planet. With this, we can simulate the solar system over time as\n",
    "\n",
    "$$ v_{t+1}=v_t+\\Delta t \\frac{\\partial}{\\partial t}v_t$$\n",
    "$$ p_{t+1}=p_t+\\Delta t v_{t+1}$$\n",
    "\n",
    "Please note that we use $v_{t+1}$ in the second step. This is very important to get a good simulation (the resulting scheme is a so-called symplectiv Euler integration, that aims to keep the total energy of the system constant)\n",
    "\n",
    "Thus, your task is the following:\n",
    "1. Implement the derivative. Aim to do this without using any loops. For this check \"broadcasting\" in the notes and on the web.\n",
    "   If this is hard at the beginning, try to only use a single loop and remove that one in the second step! implement the norm yourself or use np.linalg.norm\n",
    "2. Implement the symplectic integrator over $T$ steps with a given time step $\\Delta_t$ starting from an initial value for both $p$ and $v$.\n",
    "   Store for each time step the resulting matrices $v_{t+1}$ and $p_{t+1}$ in a 3D array.\n",
    "4. Plot the results! begin by plotting the paths of the objects. compute the average speed of the planets (speed is the norm of $|v_i|$)\n",
    "   and plot the speed of earth and jupyter as function of time. You can also try to plot the velocity vector direction by drawing small arrows along the plotted orbits. For this, look up the docs of matplotlib.pyplot.quiver https://matplotlib.org/stable/api/_as_gen/matplotlib.pyplot.quiver.html In general use this opportunity to familiarize yourself with more functions in matplotlib. Can you make the plot square so that circles become true circles?\n",
    "\n",
    "We have provided a reasonable setting for the earth,sun and jupiter system. Aim to simulate the system for 12 years at a resolution of 1h per step. This is the orbit time of jupiter. This system is reasonably simple to compute. Unfortunately the simple integrator we use does not work very well for more complex system. If you are willing to invest more effort and time in it, you can try to simulate the earth-sun-moon system. However, be careful to not shoot the moon out of the solar system :-)\n",
    "\n"
   ]
  },
  {
   "cell_type": "code",
   "execution_count": 12,
   "id": "8d6beeb4-6eb7-4d8a-a54a-381f2ea392cb",
   "metadata": {},
   "outputs": [],
   "source": [
    "#Settings\n",
    "\n",
    "G=6.67430e-11 #gravitational constant\n",
    "year=365*24*60*60 #number of seconds in a year\n",
    "dt=60*60 #time step 1h\n",
    "#number of simulation steps\n",
    "steps=int(12*year/dt) #for testing choose this as 5 steps or so. 12 years are one orbit of jupiter\n",
    "\n",
    "#earth,sun,jupiter\n",
    "#masses in kg\n",
    "m=np.array([5.972e24,1.9891e30,1.9e27])\n",
    "#initial positions in m. each row is one position vector of earth, sun,jupiter\n",
    "#values are derived based on average distance of the planets from the sun.\n",
    "#we initialize all of them in a line along the x-axis.\n",
    "p_init=np.array([[149.0e9,0.0],[0.0,0.0],[790.0e9,0.0]])\n",
    "#initial velocity in  m/s. Given the position of the planets relative to the sun,\n",
    "# the initial velocity must be along the y-axis. Veloes are given by realistic speeds\n",
    "# of the different planets\n",
    "v_init = np.array([[0.0,30.0e3],[0.0,0.0],[0.0,12.8e3]])\n",
    "\n",
    "#test result for the computed derivative for the values of p_init and v_init\n",
    "dv_test = np.array([[-5.97953468e-03,  0.00000000e+00],\n",
    " [ 2.21144975e-07,  0.00000000e+00],\n",
    " [-2.12720889e-04,  0.00000000e+00]])\n"
   ]
  }
 ],
 "metadata": {
  "kernelspec": {
   "display_name": ".venv",
   "language": "python",
   "name": "python3"
  },
  "language_info": {
   "codemirror_mode": {
    "name": "ipython",
    "version": 3
   },
   "file_extension": ".py",
   "mimetype": "text/x-python",
   "name": "python",
   "nbconvert_exporter": "python",
   "pygments_lexer": "ipython3",
   "version": "3.12.8"
  }
 },
 "nbformat": 4,
 "nbformat_minor": 5
}
